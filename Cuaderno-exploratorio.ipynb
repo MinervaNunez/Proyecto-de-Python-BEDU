{
 "cells": [
  {
   "cell_type": "markdown",
   "id": "208f52b8",
   "metadata": {},
   "source": [
    "# Adquisición de datos\n",
    "\n",
    "Para poder leer y manipular los datos, primero debemos importar `pandas`, paquete de Python que nos permite manipular datos de forma eficiente y además nos permite leer archivos con extensión `.csv` entre otras."
   ]
  },
  {
   "cell_type": "code",
   "execution_count": null,
   "id": "bd163368",
   "metadata": {},
   "outputs": [],
   "source": [
    "import pandas as pd"
   ]
  },
  {
   "cell_type": "code",
   "execution_count": 50,
   "id": "792b52b1",
   "metadata": {},
   "outputs": [],
   "source": [
    "# URL o PATH, dependiendo el caso, de donde cargamos el archivo a analizar\n",
    "path_al_csv = 'https://raw.githubusercontent.com/MinervaNunez/Proyecto-de-Python-BEDU/main/RNPEDFC.csv'\n",
    "\n",
    "# Almacenamos el archivo csv en una estructura de datos para su correcta manipulación y análisis\n",
    "df = pd.read_csv(path_al_csv, sep = ',', encoding = 'latin-1')"
   ]
  },
  {
   "cell_type": "markdown",
   "id": "7f418359",
   "metadata": {},
   "source": [
    "# Análisis exploratorio de datos\n",
    "\n",
    "Seguimos la metodología vista en clase."
   ]
  },
  {
   "cell_type": "markdown",
   "id": "64a3a988",
   "metadata": {},
   "source": [
    "Primero, obtenemos las dimensiones de nuestro `DataFrame`."
   ]
  },
  {
   "cell_type": "code",
   "execution_count": 51,
   "id": "c375fd99",
   "metadata": {},
   "outputs": [
    {
     "data": {
      "text/plain": [
       "(36265, 15)"
      ]
     },
     "execution_count": 51,
     "metadata": {},
     "output_type": "execute_result"
    }
   ],
   "source": [
    "df.shape"
   ]
  },
  {
   "cell_type": "markdown",
   "id": "32dc3855",
   "metadata": {},
   "source": [
    "La celda anterior nos dice que nuestro dataframe tiene 36265 renglones (observaciones), y 15 columnas (variables).\n",
    "\n",
    "Veamos cuáles son nuestras variables."
   ]
  },
  {
   "cell_type": "code",
   "execution_count": 57,
   "id": "d93cef1a",
   "metadata": {},
   "outputs": [
    {
     "data": {
      "text/plain": [
       "Index(['Fecha en que se le vio por ultima vez',\n",
       "       'Hora en que se le vio por ultima vez',\n",
       "       'Pais en que se le vio por ultima vez',\n",
       "       'Entidad en que se le vio por ultima vez',\n",
       "       'Municipio en que se le vio por ultima vez',\n",
       "       'Localidad en que se le vio por ultima vez', 'Nacionalidad', 'Estatura',\n",
       "       'Complexion', 'Sexo', 'Edad', 'Descripcion de senas particulares',\n",
       "       'Etnia', 'Discapacidad', 'Dependencia que envio la informacion'],\n",
       "      dtype='object')"
      ]
     },
     "execution_count": 57,
     "metadata": {},
     "output_type": "execute_result"
    }
   ],
   "source": [
    "df.columns"
   ]
  },
  {
   "cell_type": "code",
   "execution_count": 64,
   "id": "b40f53e0",
   "metadata": {
    "scrolled": true
   },
   "outputs": [
    {
     "data": {
      "text/plain": [
       "Fecha en que se le vio por ultima vez        object\n",
       "Hora en que se le vio por ultima vez         object\n",
       "Pais en que se le vio por ultima vez         object\n",
       "Entidad en que se le vio por ultima vez      object\n",
       "Municipio en que se le vio por ultima vez    object\n",
       "Localidad en que se le vio por ultima vez    object\n",
       "Nacionalidad                                 object\n",
       "Estatura                                     object\n",
       "Complexion                                   object\n",
       "Sexo                                         object\n",
       "Edad                                         object\n",
       "Descripcion de senas particulares            object\n",
       "Etnia                                        object\n",
       "Discapacidad                                 object\n",
       "Dependencia que envio la informacion         object\n",
       "dtype: object"
      ]
     },
     "execution_count": 64,
     "metadata": {},
     "output_type": "execute_result"
    }
   ],
   "source": [
    "df.dtypes"
   ]
  },
  {
   "cell_type": "markdown",
   "id": "6ca200fb",
   "metadata": {},
   "source": [
    "De acuerdo con el resultado de la anterior celda, nuestras 15 variables y sus tipos de datos (por defecto) son:\n",
    "    \n",
    "| Variable | Tipo |\n",
    "| -------  | ---- |\n",
    "| Fecha en que se le vio por ultima vez        | object |\n",
    "| Hora en que se le vio por ultima vez         | object |\n",
    "| Pais en que se le vio por ultima vez         | object |\n",
    "| Entidad en que se le vio por ultima vez      | object |\n",
    "| Municipio en que se le vio por ultima vez    | object |\n",
    "| Localidad en que se le vio por ultima vez    | object |\n",
    "| Nacionalidad                                 | object |\n",
    "| Estatura                                     | object |\n",
    "| Complexion                                   | object |\n",
    "| Sexo                                         | object |\n",
    "| Edad                                         | object |\n",
    "| Descripcion de senas particulares            | object |\n",
    "| Etnia                                        | object |\n",
    "| Discapacidad                                 | object |\n",
    "| Dependencia que envio la informacion         | object |\n"
   ]
  },
  {
   "cell_type": "code",
   "execution_count": 65,
   "id": "9d6e4c65",
   "metadata": {},
   "outputs": [
    {
     "data": {
      "text/plain": [
       "RangeIndex(start=0, stop=36265, step=1)"
      ]
     },
     "execution_count": 65,
     "metadata": {},
     "output_type": "execute_result"
    }
   ],
   "source": [
    "df.index"
   ]
  },
  {
   "cell_type": "markdown",
   "id": "b7b9f7ae",
   "metadata": {},
   "source": [
    "Del anterior comando, `pandas` nos dice que nuestras observaciones están indizadas por valores numéricos que empiezan desde el 0 y terminan en 36265."
   ]
  },
  {
   "cell_type": "markdown",
   "id": "46d44ecb",
   "metadata": {},
   "source": [
    "Finalmente, echamos un vistazo a los datos para darnos una mejor idea de cómo está compuesto nuestro `DataFrame` a analizar."
   ]
  },
  {
   "cell_type": "code",
   "execution_count": 68,
   "id": "08de82c3",
   "metadata": {},
   "outputs": [
    {
     "data": {
      "text/html": [
       "<div>\n",
       "<style scoped>\n",
       "    .dataframe tbody tr th:only-of-type {\n",
       "        vertical-align: middle;\n",
       "    }\n",
       "\n",
       "    .dataframe tbody tr th {\n",
       "        vertical-align: top;\n",
       "    }\n",
       "\n",
       "    .dataframe thead th {\n",
       "        text-align: right;\n",
       "    }\n",
       "</style>\n",
       "<table border=\"1\" class=\"dataframe\">\n",
       "  <thead>\n",
       "    <tr style=\"text-align: right;\">\n",
       "      <th></th>\n",
       "      <th>Fecha en que se le vio por ultima vez</th>\n",
       "      <th>Hora en que se le vio por ultima vez</th>\n",
       "      <th>Pais en que se le vio por ultima vez</th>\n",
       "      <th>Entidad en que se le vio por ultima vez</th>\n",
       "      <th>Municipio en que se le vio por ultima vez</th>\n",
       "      <th>Localidad en que se le vio por ultima vez</th>\n",
       "      <th>Nacionalidad</th>\n",
       "      <th>Estatura</th>\n",
       "      <th>Complexion</th>\n",
       "      <th>Sexo</th>\n",
       "      <th>Edad</th>\n",
       "      <th>Descripcion de senas particulares</th>\n",
       "      <th>Etnia</th>\n",
       "      <th>Discapacidad</th>\n",
       "      <th>Dependencia que envio la informacion</th>\n",
       "    </tr>\n",
       "  </thead>\n",
       "  <tbody>\n",
       "    <tr>\n",
       "      <th>0</th>\n",
       "      <td>2012-03-18</td>\n",
       "      <td>05:00:00</td>\n",
       "      <td>MEXICO</td>\n",
       "      <td>SONORA</td>\n",
       "      <td>NAVOJOA</td>\n",
       "      <td>NAVOJOA</td>\n",
       "      <td>MEXICANA</td>\n",
       "      <td>1.1</td>\n",
       "      <td>DELGADA</td>\n",
       "      <td>MUJER</td>\n",
       "      <td>7</td>\n",
       "      <td>TIENE UNA CICATRIZ EN LA RODILLA IZQUIERDA POR...</td>\n",
       "      <td>NO ESPECIFICADO</td>\n",
       "      <td>NINGUNO</td>\n",
       "      <td>FGE - SONORA</td>\n",
       "    </tr>\n",
       "    <tr>\n",
       "      <th>1</th>\n",
       "      <td>2007-02-05</td>\n",
       "      <td>02:00:26</td>\n",
       "      <td>MEXICO</td>\n",
       "      <td>ESTADO DE MEXICO</td>\n",
       "      <td>VALLE DE BRAVO</td>\n",
       "      <td>VALLE DE BRAVO</td>\n",
       "      <td>MEXICANA</td>\n",
       "      <td>1.1</td>\n",
       "      <td>DELGADA</td>\n",
       "      <td>MUJER</td>\n",
       "      <td>4</td>\n",
       "      <td>NO ESPECIFICADO</td>\n",
       "      <td>NO ESPECIFICADO</td>\n",
       "      <td>NINGUNO</td>\n",
       "      <td>FGJ - ESTADO DE MEXICO</td>\n",
       "    </tr>\n",
       "    <tr>\n",
       "      <th>2</th>\n",
       "      <td>2009-03-14</td>\n",
       "      <td>08:30:54</td>\n",
       "      <td>MEXICO</td>\n",
       "      <td>ESTADO DE MEXICO</td>\n",
       "      <td>CHALCO</td>\n",
       "      <td>CHALCO</td>\n",
       "      <td>MEXICANA</td>\n",
       "      <td>1.1</td>\n",
       "      <td>DELGADA</td>\n",
       "      <td>HOMBRE</td>\n",
       "      <td>6</td>\n",
       "      <td>MANCHAS, PARTE SUPERIOR DE PIERNA DERECHA, CIC...</td>\n",
       "      <td>NO ESPECIFICADO</td>\n",
       "      <td>NINGUNO</td>\n",
       "      <td>FGJ - ESTADO DE MEXICO</td>\n",
       "    </tr>\n",
       "    <tr>\n",
       "      <th>3</th>\n",
       "      <td>2006-12-23</td>\n",
       "      <td>08:00:28</td>\n",
       "      <td>MEXICO</td>\n",
       "      <td>ESTADO DE MEXICO</td>\n",
       "      <td>TLALNEPANTLA DE BAZ</td>\n",
       "      <td>TLALNEPANTLA DE BAZ</td>\n",
       "      <td>MEXICANA</td>\n",
       "      <td>1.1</td>\n",
       "      <td>DELGADA</td>\n",
       "      <td>HOMBRE</td>\n",
       "      <td>10</td>\n",
       "      <td>LUNARES, A LA ALTURA DE LA CINTURAFORMA DE MAN...</td>\n",
       "      <td>NO ESPECIFICADO</td>\n",
       "      <td>NINGUNO</td>\n",
       "      <td>FGJ - ESTADO DE MEXICO</td>\n",
       "    </tr>\n",
       "    <tr>\n",
       "      <th>4</th>\n",
       "      <td>2008-01-11</td>\n",
       "      <td>12:00:17</td>\n",
       "      <td>MEXICO</td>\n",
       "      <td>ESTADO DE MEXICO</td>\n",
       "      <td>TOLUCA</td>\n",
       "      <td>TOLUCA</td>\n",
       "      <td>MEXICANA</td>\n",
       "      <td>1.1</td>\n",
       "      <td>DELGADA</td>\n",
       "      <td>HOMBRE</td>\n",
       "      <td>4</td>\n",
       "      <td>NO ESPECIFICADO</td>\n",
       "      <td>NO ESPECIFICADO</td>\n",
       "      <td>NINGUNO</td>\n",
       "      <td>FGJ - ESTADO DE MEXICO</td>\n",
       "    </tr>\n",
       "    <tr>\n",
       "      <th>5</th>\n",
       "      <td>2012-05-27</td>\n",
       "      <td>12:00:43</td>\n",
       "      <td>MEXICO</td>\n",
       "      <td>ESTADO DE MEXICO</td>\n",
       "      <td>NICOLAS ROMERO</td>\n",
       "      <td>NICOLAS ROMERO</td>\n",
       "      <td>MEXICANA</td>\n",
       "      <td>1.1</td>\n",
       "      <td>DELGADA</td>\n",
       "      <td>HOMBRE</td>\n",
       "      <td>9</td>\n",
       "      <td>NO ESPECIFICADO</td>\n",
       "      <td>NO ESPECIFICADO</td>\n",
       "      <td>NINGUNO</td>\n",
       "      <td>FGJ - ESTADO DE MEXICO</td>\n",
       "    </tr>\n",
       "    <tr>\n",
       "      <th>6</th>\n",
       "      <td>2010-07-05</td>\n",
       "      <td>11:00:00</td>\n",
       "      <td>MEXICO</td>\n",
       "      <td>CHIHUAHUA</td>\n",
       "      <td>BOCOYNA</td>\n",
       "      <td>CERRO LA VIRGEN</td>\n",
       "      <td>MEXICANA</td>\n",
       "      <td>1.1</td>\n",
       "      <td>DELGADA</td>\n",
       "      <td>HOMBRE</td>\n",
       "      <td>7</td>\n",
       "      <td>NO ESPECIFICADO</td>\n",
       "      <td>NO ESPECIFICADO</td>\n",
       "      <td>NINGUNO</td>\n",
       "      <td>FGE - CHIHUAHUA</td>\n",
       "    </tr>\n",
       "    <tr>\n",
       "      <th>7</th>\n",
       "      <td>2011-06-13</td>\n",
       "      <td>01:00:11</td>\n",
       "      <td>MEXICO</td>\n",
       "      <td>ESTADO DE MEXICO</td>\n",
       "      <td>AMECAMECA</td>\n",
       "      <td>AMECAMECA</td>\n",
       "      <td>MEXICANA</td>\n",
       "      <td>1.15</td>\n",
       "      <td>ROBUSTA</td>\n",
       "      <td>MUJER</td>\n",
       "      <td>7</td>\n",
       "      <td>MANCHAS, EN EL TOBILLODERECHA CAUSADA PORQUEMA...</td>\n",
       "      <td>NO ESPECIFICADO</td>\n",
       "      <td>NINGUNO</td>\n",
       "      <td>FGJ - ESTADO DE MEXICO</td>\n",
       "    </tr>\n",
       "    <tr>\n",
       "      <th>8</th>\n",
       "      <td>2010-04-24</td>\n",
       "      <td>01:00:47</td>\n",
       "      <td>MEXICO</td>\n",
       "      <td>ESTADO DE MEXICO</td>\n",
       "      <td>TEOLOYUCAN</td>\n",
       "      <td>TEOLOYUCAN</td>\n",
       "      <td>MEXICANA</td>\n",
       "      <td>1.15</td>\n",
       "      <td>DELGADA</td>\n",
       "      <td>HOMBRE</td>\n",
       "      <td>6</td>\n",
       "      <td>CICATRICES, EN LA CARAVARICELA POCAS</td>\n",
       "      <td>NO ESPECIFICADO</td>\n",
       "      <td>NINGUNO</td>\n",
       "      <td>FGJ - ESTADO DE MEXICO</td>\n",
       "    </tr>\n",
       "    <tr>\n",
       "      <th>9</th>\n",
       "      <td>2009-02-09</td>\n",
       "      <td>02:30:00</td>\n",
       "      <td>MEXICO</td>\n",
       "      <td>TLAXCALA</td>\n",
       "      <td>TLAXCALA</td>\n",
       "      <td>TLAXCALA</td>\n",
       "      <td>MEXICANA</td>\n",
       "      <td>1.59</td>\n",
       "      <td>MEDIANA</td>\n",
       "      <td>MUJER</td>\n",
       "      <td>13</td>\n",
       "      <td>LUNARES EN CUELLO, EN INDICE IZQ Y ARCO DEL PI...</td>\n",
       "      <td>NO ESPECIFICADO</td>\n",
       "      <td>NINGUNO</td>\n",
       "      <td>PGJ - TLAXCALA</td>\n",
       "    </tr>\n",
       "  </tbody>\n",
       "</table>\n",
       "</div>"
      ],
      "text/plain": [
       "  Fecha en que se le vio por ultima vez Hora en que se le vio por ultima vez  \\\n",
       "0                            2012-03-18                             05:00:00   \n",
       "1                            2007-02-05                             02:00:26   \n",
       "2                            2009-03-14                             08:30:54   \n",
       "3                            2006-12-23                             08:00:28   \n",
       "4                            2008-01-11                             12:00:17   \n",
       "5                            2012-05-27                             12:00:43   \n",
       "6                            2010-07-05                             11:00:00   \n",
       "7                            2011-06-13                             01:00:11   \n",
       "8                            2010-04-24                             01:00:47   \n",
       "9                            2009-02-09                             02:30:00   \n",
       "\n",
       "  Pais en que se le vio por ultima vez  \\\n",
       "0                               MEXICO   \n",
       "1                               MEXICO   \n",
       "2                               MEXICO   \n",
       "3                               MEXICO   \n",
       "4                               MEXICO   \n",
       "5                               MEXICO   \n",
       "6                               MEXICO   \n",
       "7                               MEXICO   \n",
       "8                               MEXICO   \n",
       "9                               MEXICO   \n",
       "\n",
       "  Entidad en que se le vio por ultima vez  \\\n",
       "0                                  SONORA   \n",
       "1                        ESTADO DE MEXICO   \n",
       "2                        ESTADO DE MEXICO   \n",
       "3                        ESTADO DE MEXICO   \n",
       "4                        ESTADO DE MEXICO   \n",
       "5                        ESTADO DE MEXICO   \n",
       "6                               CHIHUAHUA   \n",
       "7                        ESTADO DE MEXICO   \n",
       "8                        ESTADO DE MEXICO   \n",
       "9                                TLAXCALA   \n",
       "\n",
       "  Municipio en que se le vio por ultima vez  \\\n",
       "0                                   NAVOJOA   \n",
       "1                            VALLE DE BRAVO   \n",
       "2                                    CHALCO   \n",
       "3                       TLALNEPANTLA DE BAZ   \n",
       "4                                    TOLUCA   \n",
       "5                            NICOLAS ROMERO   \n",
       "6                                   BOCOYNA   \n",
       "7                                 AMECAMECA   \n",
       "8                                TEOLOYUCAN   \n",
       "9                                  TLAXCALA   \n",
       "\n",
       "  Localidad en que se le vio por ultima vez Nacionalidad Estatura Complexion  \\\n",
       "0                                   NAVOJOA     MEXICANA      1.1    DELGADA   \n",
       "1                            VALLE DE BRAVO     MEXICANA      1.1    DELGADA   \n",
       "2                                    CHALCO     MEXICANA      1.1    DELGADA   \n",
       "3                       TLALNEPANTLA DE BAZ     MEXICANA      1.1    DELGADA   \n",
       "4                                    TOLUCA     MEXICANA      1.1    DELGADA   \n",
       "5                            NICOLAS ROMERO     MEXICANA      1.1    DELGADA   \n",
       "6                           CERRO LA VIRGEN     MEXICANA      1.1    DELGADA   \n",
       "7                                 AMECAMECA     MEXICANA     1.15    ROBUSTA   \n",
       "8                                TEOLOYUCAN     MEXICANA     1.15    DELGADA   \n",
       "9                                  TLAXCALA     MEXICANA     1.59    MEDIANA   \n",
       "\n",
       "     Sexo Edad                  Descripcion de senas particulares  \\\n",
       "0   MUJER    7  TIENE UNA CICATRIZ EN LA RODILLA IZQUIERDA POR...   \n",
       "1   MUJER    4                                    NO ESPECIFICADO   \n",
       "2  HOMBRE    6  MANCHAS, PARTE SUPERIOR DE PIERNA DERECHA, CIC...   \n",
       "3  HOMBRE   10  LUNARES, A LA ALTURA DE LA CINTURAFORMA DE MAN...   \n",
       "4  HOMBRE    4                                    NO ESPECIFICADO   \n",
       "5  HOMBRE    9                                    NO ESPECIFICADO   \n",
       "6  HOMBRE    7                                    NO ESPECIFICADO   \n",
       "7   MUJER    7  MANCHAS, EN EL TOBILLODERECHA CAUSADA PORQUEMA...   \n",
       "8  HOMBRE    6               CICATRICES, EN LA CARAVARICELA POCAS   \n",
       "9   MUJER   13  LUNARES EN CUELLO, EN INDICE IZQ Y ARCO DEL PI...   \n",
       "\n",
       "             Etnia Discapacidad Dependencia que envio la informacion  \n",
       "0  NO ESPECIFICADO      NINGUNO                         FGE - SONORA  \n",
       "1  NO ESPECIFICADO      NINGUNO               FGJ - ESTADO DE MEXICO  \n",
       "2  NO ESPECIFICADO      NINGUNO               FGJ - ESTADO DE MEXICO  \n",
       "3  NO ESPECIFICADO      NINGUNO               FGJ - ESTADO DE MEXICO  \n",
       "4  NO ESPECIFICADO      NINGUNO               FGJ - ESTADO DE MEXICO  \n",
       "5  NO ESPECIFICADO      NINGUNO               FGJ - ESTADO DE MEXICO  \n",
       "6  NO ESPECIFICADO      NINGUNO                      FGE - CHIHUAHUA  \n",
       "7  NO ESPECIFICADO      NINGUNO               FGJ - ESTADO DE MEXICO  \n",
       "8  NO ESPECIFICADO      NINGUNO               FGJ - ESTADO DE MEXICO  \n",
       "9  NO ESPECIFICADO      NINGUNO                       PGJ - TLAXCALA  "
      ]
     },
     "execution_count": 68,
     "metadata": {},
     "output_type": "execute_result"
    }
   ],
   "source": [
    "df.head(10)"
   ]
  },
  {
   "cell_type": "code",
   "execution_count": 75,
   "id": "2302a24e",
   "metadata": {},
   "outputs": [
    {
     "data": {
      "text/html": [
       "<div>\n",
       "<style scoped>\n",
       "    .dataframe tbody tr th:only-of-type {\n",
       "        vertical-align: middle;\n",
       "    }\n",
       "\n",
       "    .dataframe tbody tr th {\n",
       "        vertical-align: top;\n",
       "    }\n",
       "\n",
       "    .dataframe thead th {\n",
       "        text-align: right;\n",
       "    }\n",
       "</style>\n",
       "<table border=\"1\" class=\"dataframe\">\n",
       "  <thead>\n",
       "    <tr style=\"text-align: right;\">\n",
       "      <th></th>\n",
       "      <th>Fecha en que se le vio por ultima vez</th>\n",
       "      <th>Hora en que se le vio por ultima vez</th>\n",
       "      <th>Pais en que se le vio por ultima vez</th>\n",
       "      <th>Entidad en que se le vio por ultima vez</th>\n",
       "      <th>Municipio en que se le vio por ultima vez</th>\n",
       "      <th>Localidad en que se le vio por ultima vez</th>\n",
       "      <th>Nacionalidad</th>\n",
       "      <th>Estatura</th>\n",
       "      <th>Complexion</th>\n",
       "      <th>Sexo</th>\n",
       "      <th>Edad</th>\n",
       "      <th>Descripcion de senas particulares</th>\n",
       "      <th>Etnia</th>\n",
       "      <th>Discapacidad</th>\n",
       "      <th>Dependencia que envio la informacion</th>\n",
       "    </tr>\n",
       "  </thead>\n",
       "  <tbody>\n",
       "    <tr>\n",
       "      <th>36255</th>\n",
       "      <td>2018-04-25</td>\n",
       "      <td>06:30:00</td>\n",
       "      <td>MEXICO</td>\n",
       "      <td>PUEBLA</td>\n",
       "      <td>SAN MARTIN TEXMELUCAN</td>\n",
       "      <td>SAN MARTIN TEXMELUCAN</td>\n",
       "      <td>MEXICANA</td>\n",
       "      <td>1.7</td>\n",
       "      <td>DELGADA</td>\n",
       "      <td>HOMBRE</td>\n",
       "      <td>26</td>\n",
       "      <td>PECAS EN EL ROSTRO, PERFORACION EN LA ORJA IZQ...</td>\n",
       "      <td>NO ESPECIFICADO</td>\n",
       "      <td>NINGUNO</td>\n",
       "      <td>FGE - PUEBLA</td>\n",
       "    </tr>\n",
       "    <tr>\n",
       "      <th>36256</th>\n",
       "      <td>2018-04-22</td>\n",
       "      <td>11:30:00</td>\n",
       "      <td>MEXICO</td>\n",
       "      <td>PUEBLA</td>\n",
       "      <td>PUEBLA</td>\n",
       "      <td>PUEBLA</td>\n",
       "      <td>MEXICANA</td>\n",
       "      <td>1.52</td>\n",
       "      <td>DELGADA</td>\n",
       "      <td>MUJER</td>\n",
       "      <td>18</td>\n",
       "      <td>PERFORACION EN LA LENGUA Y MANCHA BLANCA EN ME...</td>\n",
       "      <td>NO ESPECIFICADO</td>\n",
       "      <td>NINGUNO</td>\n",
       "      <td>FGE - PUEBLA</td>\n",
       "    </tr>\n",
       "    <tr>\n",
       "      <th>36257</th>\n",
       "      <td>2017-07-02</td>\n",
       "      <td>11:14:59</td>\n",
       "      <td>MEXICO</td>\n",
       "      <td>SONORA</td>\n",
       "      <td>CANANEA</td>\n",
       "      <td>CANANEA</td>\n",
       "      <td>MEXICANA</td>\n",
       "      <td>NO ESPECIFICADO</td>\n",
       "      <td>NO ESPECIFICADO</td>\n",
       "      <td>HOMBRE</td>\n",
       "      <td>NO ESPECIFICADO</td>\n",
       "      <td>NO ESPECIFICADO</td>\n",
       "      <td>NO ESPECIFICADO</td>\n",
       "      <td>NINGUNO</td>\n",
       "      <td>FGE - SONORA</td>\n",
       "    </tr>\n",
       "    <tr>\n",
       "      <th>36258</th>\n",
       "      <td>2017-04-06</td>\n",
       "      <td>02:00:00</td>\n",
       "      <td>MEXICO</td>\n",
       "      <td>COLIMA</td>\n",
       "      <td>MANZANILLO</td>\n",
       "      <td>SANTIAGO</td>\n",
       "      <td>MEXICANA</td>\n",
       "      <td>1.71</td>\n",
       "      <td>ROBUSTA</td>\n",
       "      <td>HOMBRE</td>\n",
       "      <td>22</td>\n",
       "      <td>NO ESPECIFICADO</td>\n",
       "      <td>NO ESPECIFICADO</td>\n",
       "      <td>NINGUNO</td>\n",
       "      <td>PGJ - COLIMA</td>\n",
       "    </tr>\n",
       "    <tr>\n",
       "      <th>36259</th>\n",
       "      <td>2018-04-15</td>\n",
       "      <td>06:30:00</td>\n",
       "      <td>MEXICO</td>\n",
       "      <td>COLIMA</td>\n",
       "      <td>COLIMA</td>\n",
       "      <td>COLIMA</td>\n",
       "      <td>MEXICANA</td>\n",
       "      <td>1.59</td>\n",
       "      <td>ROBUSTA</td>\n",
       "      <td>HOMBRE</td>\n",
       "      <td>57</td>\n",
       "      <td>TIENE UNA CICATRIZ EN LA PARTE BAJA DE SU ABDO...</td>\n",
       "      <td>NO ESPECIFICADO</td>\n",
       "      <td>NINGUNO</td>\n",
       "      <td>PGJ - COLIMA</td>\n",
       "    </tr>\n",
       "    <tr>\n",
       "      <th>36260</th>\n",
       "      <td>2018-04-26</td>\n",
       "      <td>08:00:00</td>\n",
       "      <td>MEXICO</td>\n",
       "      <td>PUEBLA</td>\n",
       "      <td>PUEBLA</td>\n",
       "      <td>PUEBLA</td>\n",
       "      <td>MEXICANA</td>\n",
       "      <td>1.6</td>\n",
       "      <td>DELGADA</td>\n",
       "      <td>HOMBRE</td>\n",
       "      <td>22</td>\n",
       "      <td>LUNAR EN LA MEJILLA Y TATUAJE EN EL CUELLO EN ...</td>\n",
       "      <td>NO ESPECIFICADO</td>\n",
       "      <td>NINGUNO</td>\n",
       "      <td>FGE - PUEBLA</td>\n",
       "    </tr>\n",
       "    <tr>\n",
       "      <th>36261</th>\n",
       "      <td>2018-01-08</td>\n",
       "      <td>11:00:00</td>\n",
       "      <td>MEXICO</td>\n",
       "      <td>COLIMA</td>\n",
       "      <td>VILLA DE ALVAREZ</td>\n",
       "      <td>VILLA DE ALVAREZ</td>\n",
       "      <td>MEXICANA</td>\n",
       "      <td>1.7</td>\n",
       "      <td>ROBUSTA</td>\n",
       "      <td>MUJER</td>\n",
       "      <td>27</td>\n",
       "      <td>EL OJO IZQUIERDO TIENE UN ENFERMEDAD COMO TIC,...</td>\n",
       "      <td>NO ESPECIFICADO</td>\n",
       "      <td>NINGUNO</td>\n",
       "      <td>PGJ - COLIMA</td>\n",
       "    </tr>\n",
       "    <tr>\n",
       "      <th>36262</th>\n",
       "      <td>2015-02-02</td>\n",
       "      <td>07:00:00</td>\n",
       "      <td>MEXICO</td>\n",
       "      <td>PUEBLA</td>\n",
       "      <td>CHILA</td>\n",
       "      <td>CHILAS DE LAS FLORES</td>\n",
       "      <td>MEXICANA</td>\n",
       "      <td>1.77</td>\n",
       "      <td>MEDIANA</td>\n",
       "      <td>MUJER</td>\n",
       "      <td>86</td>\n",
       "      <td>NO ESPECIFICADO</td>\n",
       "      <td>NO ESPECIFICADO</td>\n",
       "      <td>NINGUNO</td>\n",
       "      <td>FGE - PUEBLA</td>\n",
       "    </tr>\n",
       "    <tr>\n",
       "      <th>36263</th>\n",
       "      <td>2017-08-22</td>\n",
       "      <td>04:00:00</td>\n",
       "      <td>MEXICO</td>\n",
       "      <td>COLIMA</td>\n",
       "      <td>VILLA DE ALVAREZ</td>\n",
       "      <td>VILLA DE ALVAREZ</td>\n",
       "      <td>MEXICANA</td>\n",
       "      <td>1.76</td>\n",
       "      <td>ROBUSTA</td>\n",
       "      <td>HOMBRE</td>\n",
       "      <td>41</td>\n",
       "      <td>TATUAJE EN EL BRAZO IZQUIERDO CON LA IMAGEN DE...</td>\n",
       "      <td>NO ESPECIFICADO</td>\n",
       "      <td>NINGUNO</td>\n",
       "      <td>PGJ - COLIMA</td>\n",
       "    </tr>\n",
       "    <tr>\n",
       "      <th>36264</th>\n",
       "      <td>2018-04-11</td>\n",
       "      <td>02:00:00</td>\n",
       "      <td>MEXICO</td>\n",
       "      <td>NUEVO LEON</td>\n",
       "      <td>SAN NICOLAS DE LOS GARZA</td>\n",
       "      <td>SAN NICOLAS DE LOS GARZA</td>\n",
       "      <td>MEXICANA</td>\n",
       "      <td>1.6</td>\n",
       "      <td>DELGADA</td>\n",
       "      <td>MUJER</td>\n",
       "      <td>14</td>\n",
       "      <td>NO ESPECIFICADO</td>\n",
       "      <td>NO ESPECIFICADO</td>\n",
       "      <td>NINGUNO</td>\n",
       "      <td>PGJ - NUEVO LEON</td>\n",
       "    </tr>\n",
       "  </tbody>\n",
       "</table>\n",
       "</div>"
      ],
      "text/plain": [
       "      Fecha en que se le vio por ultima vez  \\\n",
       "36255                            2018-04-25   \n",
       "36256                            2018-04-22   \n",
       "36257                            2017-07-02   \n",
       "36258                            2017-04-06   \n",
       "36259                            2018-04-15   \n",
       "36260                            2018-04-26   \n",
       "36261                            2018-01-08   \n",
       "36262                            2015-02-02   \n",
       "36263                            2017-08-22   \n",
       "36264                            2018-04-11   \n",
       "\n",
       "      Hora en que se le vio por ultima vez  \\\n",
       "36255                             06:30:00   \n",
       "36256                             11:30:00   \n",
       "36257                             11:14:59   \n",
       "36258                             02:00:00   \n",
       "36259                             06:30:00   \n",
       "36260                             08:00:00   \n",
       "36261                             11:00:00   \n",
       "36262                             07:00:00   \n",
       "36263                             04:00:00   \n",
       "36264                             02:00:00   \n",
       "\n",
       "      Pais en que se le vio por ultima vez  \\\n",
       "36255                               MEXICO   \n",
       "36256                               MEXICO   \n",
       "36257                               MEXICO   \n",
       "36258                               MEXICO   \n",
       "36259                               MEXICO   \n",
       "36260                               MEXICO   \n",
       "36261                               MEXICO   \n",
       "36262                               MEXICO   \n",
       "36263                               MEXICO   \n",
       "36264                               MEXICO   \n",
       "\n",
       "      Entidad en que se le vio por ultima vez  \\\n",
       "36255                                  PUEBLA   \n",
       "36256                                  PUEBLA   \n",
       "36257                                  SONORA   \n",
       "36258                                  COLIMA   \n",
       "36259                                  COLIMA   \n",
       "36260                                  PUEBLA   \n",
       "36261                                  COLIMA   \n",
       "36262                                  PUEBLA   \n",
       "36263                                  COLIMA   \n",
       "36264                              NUEVO LEON   \n",
       "\n",
       "      Municipio en que se le vio por ultima vez  \\\n",
       "36255                     SAN MARTIN TEXMELUCAN   \n",
       "36256                                    PUEBLA   \n",
       "36257                                   CANANEA   \n",
       "36258                                MANZANILLO   \n",
       "36259                                    COLIMA   \n",
       "36260                                    PUEBLA   \n",
       "36261                          VILLA DE ALVAREZ   \n",
       "36262                                     CHILA   \n",
       "36263                          VILLA DE ALVAREZ   \n",
       "36264                  SAN NICOLAS DE LOS GARZA   \n",
       "\n",
       "      Localidad en que se le vio por ultima vez Nacionalidad         Estatura  \\\n",
       "36255                     SAN MARTIN TEXMELUCAN     MEXICANA              1.7   \n",
       "36256                                    PUEBLA     MEXICANA             1.52   \n",
       "36257                                   CANANEA     MEXICANA  NO ESPECIFICADO   \n",
       "36258                                  SANTIAGO     MEXICANA             1.71   \n",
       "36259                                    COLIMA     MEXICANA             1.59   \n",
       "36260                                    PUEBLA     MEXICANA              1.6   \n",
       "36261                          VILLA DE ALVAREZ     MEXICANA              1.7   \n",
       "36262                      CHILAS DE LAS FLORES     MEXICANA             1.77   \n",
       "36263                          VILLA DE ALVAREZ     MEXICANA             1.76   \n",
       "36264                  SAN NICOLAS DE LOS GARZA     MEXICANA              1.6   \n",
       "\n",
       "            Complexion    Sexo             Edad  \\\n",
       "36255          DELGADA  HOMBRE               26   \n",
       "36256          DELGADA   MUJER               18   \n",
       "36257  NO ESPECIFICADO  HOMBRE  NO ESPECIFICADO   \n",
       "36258          ROBUSTA  HOMBRE               22   \n",
       "36259          ROBUSTA  HOMBRE               57   \n",
       "36260          DELGADA  HOMBRE               22   \n",
       "36261          ROBUSTA   MUJER               27   \n",
       "36262          MEDIANA   MUJER               86   \n",
       "36263          ROBUSTA  HOMBRE               41   \n",
       "36264          DELGADA   MUJER               14   \n",
       "\n",
       "                       Descripcion de senas particulares            Etnia  \\\n",
       "36255  PECAS EN EL ROSTRO, PERFORACION EN LA ORJA IZQ...  NO ESPECIFICADO   \n",
       "36256  PERFORACION EN LA LENGUA Y MANCHA BLANCA EN ME...  NO ESPECIFICADO   \n",
       "36257                                    NO ESPECIFICADO  NO ESPECIFICADO   \n",
       "36258                                    NO ESPECIFICADO  NO ESPECIFICADO   \n",
       "36259  TIENE UNA CICATRIZ EN LA PARTE BAJA DE SU ABDO...  NO ESPECIFICADO   \n",
       "36260  LUNAR EN LA MEJILLA Y TATUAJE EN EL CUELLO EN ...  NO ESPECIFICADO   \n",
       "36261  EL OJO IZQUIERDO TIENE UN ENFERMEDAD COMO TIC,...  NO ESPECIFICADO   \n",
       "36262                                    NO ESPECIFICADO  NO ESPECIFICADO   \n",
       "36263  TATUAJE EN EL BRAZO IZQUIERDO CON LA IMAGEN DE...  NO ESPECIFICADO   \n",
       "36264                                    NO ESPECIFICADO  NO ESPECIFICADO   \n",
       "\n",
       "      Discapacidad Dependencia que envio la informacion  \n",
       "36255      NINGUNO                         FGE - PUEBLA  \n",
       "36256      NINGUNO                         FGE - PUEBLA  \n",
       "36257      NINGUNO                         FGE - SONORA  \n",
       "36258      NINGUNO                         PGJ - COLIMA  \n",
       "36259      NINGUNO                         PGJ - COLIMA  \n",
       "36260      NINGUNO                         FGE - PUEBLA  \n",
       "36261      NINGUNO                         PGJ - COLIMA  \n",
       "36262      NINGUNO                         FGE - PUEBLA  \n",
       "36263      NINGUNO                         PGJ - COLIMA  \n",
       "36264      NINGUNO                     PGJ - NUEVO LEON  "
      ]
     },
     "execution_count": 75,
     "metadata": {},
     "output_type": "execute_result"
    }
   ],
   "source": [
    "df.tail(10)"
   ]
  },
  {
   "cell_type": "markdown",
   "id": "d73a4a68",
   "metadata": {},
   "source": [
    "Del vistazo a los últimos 10 valores de nuestro dataset podemos observar que nuestro dataset contiene algunos datos faltantes etiquetados por el valor `NO ESPECIFICADO`."
   ]
  },
  {
   "cell_type": "markdown",
   "id": "d7a5b92f",
   "metadata": {},
   "source": [
    "¿Será que existe alguna observación para la cual el pais donde se le vió por última vez sea distinto de México?\n",
    "Para contestar esta incógnita podemos ver si la cantidad de registros que satisfacen que `df['Pais en que se le vio por ultima vez'] != 'MEXICO']` es mayor a 0"
   ]
  },
  {
   "cell_type": "code",
   "execution_count": 79,
   "id": "5e09f8de",
   "metadata": {},
   "outputs": [
    {
     "data": {
      "text/plain": [
       "False"
      ]
     },
     "execution_count": 79,
     "metadata": {},
     "output_type": "execute_result"
    }
   ],
   "source": [
    "len(df.loc[df['Pais en que se le vio por ultima vez'] != 'MEXICO']) > 0"
   ]
  },
  {
   "cell_type": "markdown",
   "id": "59421daa",
   "metadata": {},
   "source": [
    "Como la instrucción anterior retornó `False`, entonces el País en el que se le vio por última vez siempre es México."
   ]
  },
  {
   "cell_type": "markdown",
   "id": "82acb672",
   "metadata": {},
   "source": [
    "¿Cuáles son todos los posibles valores que puede tomar la variable `Entidad en que se le vio por ultima vez`?"
   ]
  },
  {
   "cell_type": "code",
   "execution_count": 86,
   "id": "a97ec39f",
   "metadata": {},
   "outputs": [
    {
     "data": {
      "text/plain": [
       "{'AGUASCALIENTES',\n",
       " 'BAJA CALIFORNIA',\n",
       " 'BAJA CALIFORNIA SUR',\n",
       " 'CAMPECHE',\n",
       " 'CHIAPAS',\n",
       " 'CHIHUAHUA',\n",
       " 'CIUDAD DE MEXICO',\n",
       " 'COAHUILA DE ZARAGOZA',\n",
       " 'COLIMA',\n",
       " 'DURANGO',\n",
       " 'ESTADO DE MEXICO',\n",
       " 'GUANAJUATO',\n",
       " 'GUERRERO',\n",
       " 'HIDALGO',\n",
       " 'JALISCO',\n",
       " 'MICHOACAN',\n",
       " 'MORELOS',\n",
       " 'NAYARIT',\n",
       " 'NO ESPECIFICADO',\n",
       " 'NUEVO LEON',\n",
       " 'OAXACA',\n",
       " 'PUEBLA',\n",
       " 'QUERETARO',\n",
       " 'QUINTANA ROO',\n",
       " 'SAN LUIS POTOSI',\n",
       " 'SINALOA',\n",
       " 'SONORA',\n",
       " 'TABASCO',\n",
       " 'TAMAULIPAS',\n",
       " 'TLAXCALA',\n",
       " 'VERACRUZ',\n",
       " 'YUCATAN',\n",
       " 'ZACATECAS'}"
      ]
     },
     "execution_count": 86,
     "metadata": {},
     "output_type": "execute_result"
    }
   ],
   "source": [
    "def val_unicos_col(df, col_name):\n",
    "    return set(df[col_name])\n",
    "\n",
    "col_name = 'Entidad en que se le vio por ultima vez'\n",
    "\n",
    "val_col_entidad = val_unicos_col(df, col_name)\n",
    "val_col_entidad"
   ]
  },
  {
   "cell_type": "markdown",
   "id": "a493e79e",
   "metadata": {},
   "source": [
    "¿Cuáles son todos los posibles valores que puede tomar la variable `Municipio en que se le vio por ultima vez`?"
   ]
  },
  {
   "cell_type": "code",
   "execution_count": 88,
   "id": "1daa2235",
   "metadata": {},
   "outputs": [
    {
     "data": {
      "text/plain": [
       "1068"
      ]
     },
     "execution_count": 88,
     "metadata": {},
     "output_type": "execute_result"
    }
   ],
   "source": [
    "col_name = 'Municipio en que se le vio por ultima vez'\n",
    "\n",
    "val_col_municipio = val_unicos_col(df, col_name)\n",
    "val_col_municipio\n",
    "len(val_col_municipio)"
   ]
  },
  {
   "cell_type": "markdown",
   "id": "1a91ecb9",
   "metadata": {},
   "source": [
    "Vemos que son muchos los municipios, por lo que mejor preguntamos por la cantidad de municipios únicos. La respuesta a esta pregunta es 1068 municipios únicos.\n"
   ]
  },
  {
   "cell_type": "markdown",
   "id": "8277b577",
   "metadata": {},
   "source": [
    "¿Cuáles son todos los posibles valores que puede tomar la variable `Localidad en que se le vio por ultima vez`?"
   ]
  },
  {
   "cell_type": "code",
   "execution_count": 89,
   "id": "9065cce2",
   "metadata": {},
   "outputs": [
    {
     "data": {
      "text/plain": [
       "2676"
      ]
     },
     "execution_count": 89,
     "metadata": {},
     "output_type": "execute_result"
    }
   ],
   "source": [
    "col_name = 'Localidad en que se le vio por ultima vez'\n",
    "\n",
    "val_col_localidad = val_unicos_col(df, col_name)\n",
    "val_col_localidad\n",
    "len(val_col_localidad)"
   ]
  },
  {
   "cell_type": "markdown",
   "id": "2994b6fa",
   "metadata": {},
   "source": [
    "De nuevo, vemos que son muchas las localidades, por lo que mejor preguntamos por la cantidad de valores únicos que toma la variable. La respuesta a esta pregunta es 2676 localidades únicas.\n"
   ]
  },
  {
   "cell_type": "markdown",
   "id": "72129e49",
   "metadata": {},
   "source": [
    "Vale la pena preguntarse si la variable `Nacionalidad` toma valores distintos de `MEXICANA`."
   ]
  },
  {
   "cell_type": "code",
   "execution_count": 95,
   "id": "2d0b8403",
   "metadata": {},
   "outputs": [
    {
     "data": {
      "text/plain": [
       "26"
      ]
     },
     "execution_count": 95,
     "metadata": {},
     "output_type": "execute_result"
    }
   ],
   "source": [
    "col_name = 'Nacionalidad'\n",
    "\n",
    "val_col_nacionalidad = val_unicos_col(df, col_name)\n",
    "len(val_col_nacionalidad)"
   ]
  },
  {
   "cell_type": "markdown",
   "id": "d107e017",
   "metadata": {},
   "source": [
    "Como la cantidad de elementos distintos en la columna es 26, entonces podemos afirmar que en efecto la variable `Nacionalidad` toma valores distintos de `MEXICANA`."
   ]
  },
  {
   "cell_type": "markdown",
   "id": "675efb1d",
   "metadata": {},
   "source": [
    "De igual forma podemos investigar qué valores únicos puede tomar la variable `Complexion`."
   ]
  },
  {
   "cell_type": "code",
   "execution_count": 96,
   "id": "89dca2fb",
   "metadata": {},
   "outputs": [
    {
     "data": {
      "text/plain": [
       "{'DELGADA',\n",
       " 'MEDIANA',\n",
       " 'NO ESPECIFICADO',\n",
       " 'No Especificado',\n",
       " 'OBESA',\n",
       " 'ROBUSTA'}"
      ]
     },
     "execution_count": 96,
     "metadata": {},
     "output_type": "execute_result"
    }
   ],
   "source": [
    "col_name = 'Complexion'\n",
    "val_col_complexion = val_unicos_col(df, col_name)\n",
    "val_col_complexion"
   ]
  },
  {
   "cell_type": "markdown",
   "id": "c03c264c",
   "metadata": {},
   "source": [
    "De lo anterior podemos observar que en particular en nuestro dataset hay dos formas de especificar que un valor es `NA`:\n",
    "Puede ser escrito como `\"NO ESPECIFICADO\"` o como `No Especificado`. Habría que manejar estas dos formas de escribir el valor en la limpieza de los datos."
   ]
  },
  {
   "cell_type": "markdown",
   "id": "a275abc7",
   "metadata": {},
   "source": [
    "Podemos preguntarnos si el campo `Sexo` permite el registro de gente no binaria."
   ]
  },
  {
   "cell_type": "code",
   "execution_count": 97,
   "id": "b9906b60",
   "metadata": {},
   "outputs": [
    {
     "data": {
      "text/plain": [
       "{'HOMBRE', 'MUJER'}"
      ]
     },
     "execution_count": 97,
     "metadata": {},
     "output_type": "execute_result"
    }
   ],
   "source": [
    "col_name = 'Sexo'\n",
    "val_col_sexo = val_unicos_col(df, col_name)\n",
    "val_col_sexo"
   ]
  },
  {
   "cell_type": "markdown",
   "id": "74dfd0ee",
   "metadata": {},
   "source": [
    "Por lo tanto, la variable `Sexo` sólo admite dos valores: `HOMBRE` y `MUJER`."
   ]
  },
  {
   "cell_type": "markdown",
   "id": "4802c110",
   "metadata": {},
   "source": [
    "Veamos cuál es el rango de edad:"
   ]
  },
  {
   "cell_type": "code",
   "execution_count": 119,
   "id": "15b7bec4",
   "metadata": {},
   "outputs": [
    {
     "name": "stdout",
     "output_type": "stream",
     "text": [
      "El mínimo es 1 año(s) y el máximo es de 103 año(s)\n"
     ]
    }
   ],
   "source": [
    "col_name = 'Edad'\n",
    "val_col_edad = val_unicos_col(df, col_name)\n",
    "val_col_edad\n",
    "\n",
    "lista = list(\n",
    "    map(\n",
    "        lambda x: int(x) if x.isdigit() else -1, \n",
    "        val_col_edad\n",
    "    )\n",
    ")\n",
    "lista.sort()\n",
    "\n",
    "print(f'El mínimo es {lista[1]} año(s) y el máximo es de {lista[len(lista)-1]} año(s)')"
   ]
  },
  {
   "cell_type": "markdown",
   "id": "6976b83a",
   "metadata": {},
   "source": [
    "Entonces, el rango de edad va desde 1 año hasta 103 años."
   ]
  },
  {
   "cell_type": "markdown",
   "id": "fb7bcc24",
   "metadata": {},
   "source": [
    "Ahora investiguemos cuál es el rango de alturas:"
   ]
  },
  {
   "cell_type": "code",
   "execution_count": 132,
   "id": "284f7659",
   "metadata": {},
   "outputs": [
    {
     "name": "stdout",
     "output_type": "stream",
     "text": [
      "El mínimo de altura es de 0.3 metros y el máximo es de altura es de 170.0 metros\n"
     ]
    }
   ],
   "source": [
    "def isfloat(s):\n",
    "    try:\n",
    "        float(s)\n",
    "        \n",
    "        return True\n",
    "    except:\n",
    "        return False\n",
    "\n",
    "col_name = 'Estatura'\n",
    "val_col_estatura = val_unicos_col(df, col_name)\n",
    "val_col_estatura\n",
    "\n",
    "lista = list(\n",
    "    map(\n",
    "        lambda x: float(x) if isfloat(x) else -1, \n",
    "        val_col_estatura\n",
    "    )\n",
    ")\n",
    "lista.sort()\n",
    "lista = list(\n",
    "    filter(lambda x: x != -1, lista)\n",
    ")\n",
    "\n",
    "print(f'El mínimo de altura es de {lista[0]} metros y el máximo es de altura es de {lista[len(lista)-1]} metros')"
   ]
  },
  {
   "cell_type": "markdown",
   "id": "dbfccede",
   "metadata": {},
   "source": [
    "Por lo tanto, el rango de altura es de 0.3 m a 170.0 m.\n",
    "\n",
    "Cabe destacar que hubieron valores `NO ESPECIFICADO` o `NA`s, por lo que deben limpiarse según convenga."
   ]
  },
  {
   "cell_type": "markdown",
   "id": "97ab7a99",
   "metadata": {},
   "source": [
    "Los valores que toma la variable `Etnia` son"
   ]
  },
  {
   "cell_type": "code",
   "execution_count": 121,
   "id": "a09fd0e6",
   "metadata": {},
   "outputs": [
    {
     "data": {
      "text/plain": [
       "{'AMUZGOS OAXACA',\n",
       " 'CHATINOS',\n",
       " 'CHICHIMECAS',\n",
       " 'CHINANTECOS',\n",
       " 'CHOLES',\n",
       " 'HUASTECOS',\n",
       " 'HUICHOLES',\n",
       " 'MAMES',\n",
       " 'MAYAS',\n",
       " 'MEXICANEROS',\n",
       " 'MIXTECOS',\n",
       " 'NAHUAS',\n",
       " 'NO ESPECIFICADO',\n",
       " 'OTOMIES',\n",
       " 'PAMES',\n",
       " 'SERIS',\n",
       " 'TARAHUMARAS - RARAMURI',\n",
       " 'TLALPANECOS',\n",
       " 'TOTONACAS',\n",
       " 'YAQUIS'}"
      ]
     },
     "execution_count": 121,
     "metadata": {},
     "output_type": "execute_result"
    }
   ],
   "source": [
    "col_name = 'Etnia'\n",
    "\n",
    "val_col_etnia = val_unicos_col(df, col_name)\n",
    "val_col_etnia"
   ]
  },
  {
   "cell_type": "markdown",
   "id": "fc86c10f",
   "metadata": {},
   "source": [
    "Otra variable de interés es la variable `Discapacidad`."
   ]
  },
  {
   "cell_type": "code",
   "execution_count": 122,
   "id": "97e73235",
   "metadata": {},
   "outputs": [
    {
     "data": {
      "text/plain": [
       "{'AUTISMO', 'NINGUNO', 'NO ESPECIFICADO', 'SINDROME DE DOWN'}"
      ]
     },
     "execution_count": 122,
     "metadata": {},
     "output_type": "execute_result"
    }
   ],
   "source": [
    "col_name = 'Discapacidad'\n",
    "\n",
    "val_col_discapacidad = val_unicos_col(df, col_name)\n",
    "val_col_discapacidad"
   ]
  },
  {
   "cell_type": "markdown",
   "id": "76af5326",
   "metadata": {},
   "source": [
    "Del bloque anterior podemos apreciar que son 4 posibles valores: `AUTISMO`, `NINGUNO`, `NO ESPECIFICADO` y `SINDROME DE DOWN`"
   ]
  },
  {
   "cell_type": "markdown",
   "id": "976a778b",
   "metadata": {},
   "source": [
    "Finalmente, procedemos a investigar la variable `Dependencia que envio la informacion`"
   ]
  },
  {
   "cell_type": "code",
   "execution_count": 133,
   "id": "60885489",
   "metadata": {},
   "outputs": [
    {
     "data": {
      "text/plain": [
       "{'FGE - AGUASCALIENTES',\n",
       " 'FGE - CAMPECHE',\n",
       " 'FGE - CHIAPAS',\n",
       " 'FGE - CHIHUAHUA',\n",
       " 'FGE - COAHUILA',\n",
       " 'FGE - DURANGO',\n",
       " 'FGE - GUERRERO',\n",
       " 'FGE - JALISCO',\n",
       " 'FGE - MORELOS',\n",
       " 'FGE - NAYARIT',\n",
       " 'FGE - OAXACA',\n",
       " 'FGE - PUEBLA',\n",
       " 'FGE - QUERETARO',\n",
       " 'FGE - QUINTANA ROO',\n",
       " 'FGE - SAN LUIS POTOSI',\n",
       " 'FGE - SINALOA',\n",
       " 'FGE - SONORA',\n",
       " 'FGE - TABASCO',\n",
       " 'FGE - VERACRUZ',\n",
       " 'FGE - YUCATAN',\n",
       " 'FGE - ZACATECAS',\n",
       " 'FGJ - ESTADO DE MEXICO',\n",
       " 'PGJ - BAJA CALIFORNIA',\n",
       " 'PGJ - BAJA CALIFORNIA SUR',\n",
       " 'PGJ - CIUDAD DE MEXICO',\n",
       " 'PGJ - COLIMA',\n",
       " 'PGJ - GUANAJUATO',\n",
       " 'PGJ - HIDALGO',\n",
       " 'PGJ - MICHOACAN',\n",
       " 'PGJ - NUEVO LEON',\n",
       " 'PGJ - TAMAULIPAS',\n",
       " 'PGJ - TLAXCALA'}"
      ]
     },
     "execution_count": 133,
     "metadata": {},
     "output_type": "execute_result"
    }
   ],
   "source": [
    "col_name = 'Dependencia que envio la informacion'\n",
    "\n",
    "val_col_dependencia = val_unicos_col(df, col_name)\n",
    "val_col_dependencia"
   ]
  },
  {
   "cell_type": "markdown",
   "id": "33fe72ef",
   "metadata": {},
   "source": [
    "# Conclusiones del primer análisis exploratorio de datos\n",
    "\n",
    "Nuestro dataset está constituido de 36265 observaciones de 15 variables indizadas del 0 al 36264. Nuestras variables son\n",
    "\n",
    "| Variable |\n",
    "| -------  |\n",
    "| Fecha en que se le vio por ultima vez        |\n",
    "| Hora en que se le vio por ultima vez         |\n",
    "| Pais en que se le vio por ultima vez         |\n",
    "| Entidad en que se le vio por ultima vez      |\n",
    "| Municipio en que se le vio por ultima vez    |\n",
    "| Localidad en que se le vio por ultima vez    |\n",
    "| Nacionalidad                                 |\n",
    "| Estatura                                     |\n",
    "| Complexion                                   |\n",
    "| Sexo                                         |\n",
    "| Edad                                         |\n",
    "| Descripcion de senas particulares            |\n",
    "| Etnia                                        |\n",
    "| Discapacidad                                 |\n",
    "| Dependencia que envio la informacion         |\n",
    "\n",
    "De una observación preliminar de los primeros y últimos 10 datos podemos observar que el tipo de dato inferido por pandas es erróneo (el tipo de dato inferido fue `object`).\n",
    "\n",
    "La propuesta es la siguiente:\n",
    "\n",
    "| Variable | Tipo |\n",
    "| -------  | ---- |\n",
    "| Fecha en que se le vio por ultima vez        | Fecha con formato 'yyyy-mm-dd' |\n",
    "| Hora en que se le vio por ultima vez         | Hora con formato 'hh:mm:ss' |\n",
    "| Pais en que se le vio por ultima vez         | Categórico (`MEXICO`) |\n",
    "| Entidad en que se le vio por ultima vez      | Categórico (valores de `val_col_entidad`) |\n",
    "| Municipio en que se le vio por ultima vez    | Categórica (valores de `val_col_municipio`) |\n",
    "| Localidad en que se le vio por ultima vez    | Categórica (valores de `val_col_localidad`) |\n",
    "| Nacionalidad                                 | Categórica (valores de `val_col_nacionalidad`) |\n",
    "| Estatura                                     | Numérico float64 (`0.3` a `170.0`) |\n",
    "| Complexion                                   | Categórica (`DELGADA`, `MEDIANA`, `NO ESPECIFICADA`, `OBESA`, `ROBUSTA`) |\n",
    "| Sexo                                         | Categórica (`HOMBRE`, `MUJER`) |\n",
    "| Edad                                         | Numérico int64 (`1` a `103`) |\n",
    "| Descripcion de senas particulares            | object (string) |\n",
    "| Etnia                                        | Categórica (valores de  `val_col_etnia`)|\n",
    "| Discapacidad                                 | Categórica (`AUTISMO`, `NINGUNO`, `NO ESPECIFICADO`, `SINDROME DE DOWN`) |\n",
    "| Dependencia que envio la informacion         | Categórica (valores de `val_col_dependencia`) |"
   ]
  },
  {
   "cell_type": "code",
   "execution_count": null,
   "id": "d81043f6",
   "metadata": {},
   "outputs": [],
   "source": []
  },
  {
   "cell_type": "code",
   "execution_count": null,
   "id": "52d15d37",
   "metadata": {},
   "outputs": [],
   "source": []
  }
 ],
 "metadata": {
  "kernelspec": {
   "display_name": "Python 3 (ipykernel)",
   "language": "python",
   "name": "python3"
  },
  "language_info": {
   "codemirror_mode": {
    "name": "ipython",
    "version": 3
   },
   "file_extension": ".py",
   "mimetype": "text/x-python",
   "name": "python",
   "nbconvert_exporter": "python",
   "pygments_lexer": "ipython3",
   "version": "3.8.10"
  }
 },
 "nbformat": 4,
 "nbformat_minor": 5
}
