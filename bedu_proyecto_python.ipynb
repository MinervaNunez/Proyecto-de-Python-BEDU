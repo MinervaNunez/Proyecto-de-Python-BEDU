{
 "cells": [
  {
   "cell_type": "markdown",
   "metadata": {
    "colab_type": "text",
    "id": "view-in-github"
   },
   "source": [
    "<a href=\"https://colab.research.google.com/github/MinervaNunez/Proyecto-de-Python-BEDU/blob/main/bedu_proyecto_python.ipynb\" target=\"_parent\"><img src=\"https://colab.research.google.com/assets/colab-badge.svg\" alt=\"Open In Colab\"/></a>"
   ]
  },
  {
   "cell_type": "markdown",
   "metadata": {
    "id": "j4pLbdnVBPPd"
   },
   "source": [
    "# Proyecto de Python Equipo 8\n"
   ]
  },
  {
   "cell_type": "markdown",
   "metadata": {},
   "source": [
    "    Intercalar texto con código, de manera que podamos ir \"guiando\" al lector a través de nuestro hilo de pensamiento. Explicarle a alguien todo lo que has hecho usando solamente un Jupyter Notebook. Todo debe de estar clarificado en el Notebook."
   ]
  },
  {
   "cell_type": "markdown",
   "metadata": {},
   "source": [
    "## Introducción"
   ]
  },
  {
   "cell_type": "markdown",
   "metadata": {},
   "source": [
    "    Asegúrate de empezar con una introducción donde hables acerca del tema que te llamó la atención. Explica por qué quisiste abordar este tema, cuáles fueron tus preguntas iniciales, y el problema que te gustaría resolver."
   ]
  },
  {
   "cell_type": "markdown",
   "metadata": {},
   "source": []
  },
  {
   "cell_type": "markdown",
   "metadata": {},
   "source": [
    "## Colección de Datos"
   ]
  },
  {
   "cell_type": "markdown",
   "metadata": {},
   "source": [
    "### Obtencion de datos mediante API"
   ]
  },
  {
   "cell_type": "markdown",
   "metadata": {},
   "source": [
    "El gobierno de México utiliza el sistema de repositorios de datos abiertos [CKAN](https://datos.gob.mx/blog/ckan?category=api-cdn&tag=educacion) para compartir los Datos Abiertos de las dependencias de la Administración Pública Federal, así como de gobiernos locales.\n",
    "\n",
    "Utilizando la API de CKAN es posible consultar los detalles de los conjuntos de datos que se ofrecen en el portal datos.gob.mx/busca\n",
    "\n",
    "De esta forma, mediante peticiones a esta API podemos obtener la URL del conjunto de datos."
   ]
  },
  {
   "cell_type": "code",
   "execution_count": 1,
   "metadata": {
    "id": "RnlcqXMyCdpw"
   },
   "outputs": [],
   "source": [
    "import pandas as pd\n",
    "import requests"
   ]
  },
  {
   "cell_type": "markdown",
   "metadata": {},
   "source": [
    "El endpoint para consultar datos es:\n",
    "\n",
    "https://datos.gob.mx/busca/api/3/action/package_search?q=BUSQUEDA \n",
    "\n",
    "Por lo que pasaremos el valor \"desaparecidos\" al parametro q, para obtener los datasets relacionados."
   ]
  },
  {
   "cell_type": "code",
   "execution_count": 2,
   "metadata": {},
   "outputs": [],
   "source": [
    "endpoint = 'https://datos.gob.mx/busca/api/3/action/package_search?'\n",
    "payload = {'q': 'desaparecidos'}"
   ]
  },
  {
   "cell_type": "code",
   "execution_count": 3,
   "metadata": {},
   "outputs": [],
   "source": [
    "r = requests.get(endpoint, params=payload)"
   ]
  },
  {
   "cell_type": "code",
   "execution_count": 4,
   "metadata": {
    "scrolled": true
   },
   "outputs": [
    {
     "data": {
      "text/plain": [
       "200"
      ]
     },
     "execution_count": 4,
     "metadata": {},
     "output_type": "execute_result"
    }
   ],
   "source": [
    "r.status_code"
   ]
  },
  {
   "cell_type": "markdown",
   "metadata": {},
   "source": [
    "| La petición se ha realizado con éxito"
   ]
  },
  {
   "cell_type": "code",
   "execution_count": 5,
   "metadata": {},
   "outputs": [],
   "source": [
    "json = r.json()"
   ]
  },
  {
   "cell_type": "code",
   "execution_count": 6,
   "metadata": {},
   "outputs": [
    {
     "data": {
      "text/plain": [
       "dict_keys(['help', 'success', 'result'])"
      ]
     },
     "execution_count": 6,
     "metadata": {},
     "output_type": "execute_result"
    }
   ],
   "source": [
    "json.keys()"
   ]
  },
  {
   "cell_type": "markdown",
   "metadata": {},
   "source": [
    "La llave *'result'* es la que nos interesa, exploraremos su contenido para identificar el conjunto de datos que buscamos."
   ]
  },
  {
   "cell_type": "code",
   "execution_count": 7,
   "metadata": {
    "scrolled": true
   },
   "outputs": [
    {
     "name": "stdout",
     "output_type": "stream",
     "text": [
      "estadisticas-de-apoyo-y-proteccion-a-detenidos-y-desaparecidos\n",
      "registro-nacional-de-datos-de-personas-extraviadas-o-desaparecidas-rnped\n",
      "registro-nacional-de-datos-de-personas-extraviadas-o-desaparecidas-rnped-sitio-espejo-3\n",
      "registro-nacional-de-datos-de-personas-extraviadas-o-desaparecidas-rnped-sitio-espejo-2\n",
      "registro-nacional-de-datos-de-personas-extraviadas-o-desaparecidas-rnped-sitio-espejo-1\n",
      "registro-nacional-de-datos-de-personas-extraviadas-o-desaparecidas-rnped-sitio-espejo-4\n",
      "cantidad-de-derechohabientes-beneficiados-por-el-programa-integral-de-becas-para-hijos-de-milit\n"
     ]
    }
   ],
   "source": [
    "for key in json['result']['results']:\n",
    "    print(key['name'])"
   ]
  },
  {
   "cell_type": "markdown",
   "metadata": {},
   "source": [
    "| El conjunto de datos que buscamos se encuentra en *'registro-nacional-de-datos-de-personas-extraviadas-o-desaparecidas-rnped'* con indice 1."
   ]
  },
  {
   "cell_type": "markdown",
   "metadata": {},
   "source": [
    "Ahora bsucaremos el conjunto de datos dentro de este diccionario."
   ]
  },
  {
   "cell_type": "code",
   "execution_count": 8,
   "metadata": {},
   "outputs": [
    {
     "name": "stdout",
     "output_type": "stream",
     "text": [
      "Nombre del Dataset: Base de datos del RNPED del fuero común \n",
      "URL: https://secretariadoejecutivo.gob.mx/transparencia/datos_abiertos/RNPEDFC.csv \n",
      "\n",
      "Nombre del Dataset: Base de datos del RNPED del fuero federal \n",
      "URL: https://secretariadoejecutivo.gob.mx/docs/datos_abiertos/RNPEDFF__1.csv \n",
      "\n"
     ]
    }
   ],
   "source": [
    "for key in json['result']['results'][1]['resources']:\n",
    "    print(f\"Nombre del Dataset: {key['name']} \\nURL: {key['url']} \\n\")"
   ]
  },
  {
   "cell_type": "markdown",
   "metadata": {},
   "source": [
    "| Nuestro conjunto de datos es *'Base de datos del RNPED del fuero común'* con indice 0."
   ]
  },
  {
   "cell_type": "markdown",
   "metadata": {},
   "source": [
    "**Guardamos la URL de nuestro conjunto y leemos el archivo .csv**"
   ]
  },
  {
   "cell_type": "code",
   "execution_count": 9,
   "metadata": {},
   "outputs": [],
   "source": [
    "url = json['result']['results'][1]['resources'][0]['url']"
   ]
  },
  {
   "cell_type": "code",
   "execution_count": 11,
   "metadata": {},
   "outputs": [],
   "source": [
    "raw = pd.read_csv(url, encoding='ISO-8859-1')"
   ]
  },
  {
   "cell_type": "markdown",
   "metadata": {},
   "source": [
    "**Guardamos la versión RAW de los datos en fromato csv y leemos el archivo**"
   ]
  },
  {
   "cell_type": "code",
   "execution_count": 12,
   "metadata": {},
   "outputs": [],
   "source": [
    "raw.to_csv('RNPEDFC.csv', index=False, encoding='ISO-8859-1')"
   ]
  },
  {
   "cell_type": "code",
   "execution_count": 14,
   "metadata": {},
   "outputs": [],
   "source": [
    "df = pd.read_csv('RNPEDFC.csv', encoding='ISO-8859-1')"
   ]
  },
  {
   "cell_type": "code",
   "execution_count": 15,
   "metadata": {},
   "outputs": [
    {
     "data": {
      "text/html": [
       "<div>\n",
       "<style scoped>\n",
       "    .dataframe tbody tr th:only-of-type {\n",
       "        vertical-align: middle;\n",
       "    }\n",
       "\n",
       "    .dataframe tbody tr th {\n",
       "        vertical-align: top;\n",
       "    }\n",
       "\n",
       "    .dataframe thead th {\n",
       "        text-align: right;\n",
       "    }\n",
       "</style>\n",
       "<table border=\"1\" class=\"dataframe\">\n",
       "  <thead>\n",
       "    <tr style=\"text-align: right;\">\n",
       "      <th></th>\n",
       "      <th>Fecha en que se le vio por ultima vez</th>\n",
       "      <th>Hora en que se le vio por ultima vez</th>\n",
       "      <th>Pais en que se le vio por ultima vez</th>\n",
       "      <th>Entidad en que se le vio por ultima vez</th>\n",
       "      <th>Municipio en que se le vio por ultima vez</th>\n",
       "      <th>Localidad en que se le vio por ultima vez</th>\n",
       "      <th>Nacionalidad</th>\n",
       "      <th>Estatura</th>\n",
       "      <th>Complexion</th>\n",
       "      <th>Sexo</th>\n",
       "      <th>Edad</th>\n",
       "      <th>Descripcion de senas particulares</th>\n",
       "      <th>Etnia</th>\n",
       "      <th>Discapacidad</th>\n",
       "      <th>Dependencia que envio la informacion</th>\n",
       "    </tr>\n",
       "  </thead>\n",
       "  <tbody>\n",
       "    <tr>\n",
       "      <th>0</th>\n",
       "      <td>2012-03-18</td>\n",
       "      <td>05:00:00</td>\n",
       "      <td>MEXICO</td>\n",
       "      <td>SONORA</td>\n",
       "      <td>NAVOJOA</td>\n",
       "      <td>NAVOJOA</td>\n",
       "      <td>MEXICANA</td>\n",
       "      <td>1.1</td>\n",
       "      <td>DELGADA</td>\n",
       "      <td>MUJER</td>\n",
       "      <td>7</td>\n",
       "      <td>TIENE UNA CICATRIZ EN LA RODILLA IZQUIERDA POR...</td>\n",
       "      <td>NO ESPECIFICADO</td>\n",
       "      <td>NINGUNO</td>\n",
       "      <td>FGE - SONORA</td>\n",
       "    </tr>\n",
       "    <tr>\n",
       "      <th>1</th>\n",
       "      <td>2007-02-05</td>\n",
       "      <td>02:00:26</td>\n",
       "      <td>MEXICO</td>\n",
       "      <td>ESTADO DE MEXICO</td>\n",
       "      <td>VALLE DE BRAVO</td>\n",
       "      <td>VALLE DE BRAVO</td>\n",
       "      <td>MEXICANA</td>\n",
       "      <td>1.1</td>\n",
       "      <td>DELGADA</td>\n",
       "      <td>MUJER</td>\n",
       "      <td>4</td>\n",
       "      <td>NO ESPECIFICADO</td>\n",
       "      <td>NO ESPECIFICADO</td>\n",
       "      <td>NINGUNO</td>\n",
       "      <td>FGJ - ESTADO DE MEXICO</td>\n",
       "    </tr>\n",
       "    <tr>\n",
       "      <th>2</th>\n",
       "      <td>2009-03-14</td>\n",
       "      <td>08:30:54</td>\n",
       "      <td>MEXICO</td>\n",
       "      <td>ESTADO DE MEXICO</td>\n",
       "      <td>CHALCO</td>\n",
       "      <td>CHALCO</td>\n",
       "      <td>MEXICANA</td>\n",
       "      <td>1.1</td>\n",
       "      <td>DELGADA</td>\n",
       "      <td>HOMBRE</td>\n",
       "      <td>6</td>\n",
       "      <td>MANCHAS, PARTE SUPERIOR DE PIERNA DERECHA, CIC...</td>\n",
       "      <td>NO ESPECIFICADO</td>\n",
       "      <td>NINGUNO</td>\n",
       "      <td>FGJ - ESTADO DE MEXICO</td>\n",
       "    </tr>\n",
       "    <tr>\n",
       "      <th>3</th>\n",
       "      <td>2006-12-23</td>\n",
       "      <td>08:00:28</td>\n",
       "      <td>MEXICO</td>\n",
       "      <td>ESTADO DE MEXICO</td>\n",
       "      <td>TLALNEPANTLA DE BAZ</td>\n",
       "      <td>TLALNEPANTLA DE BAZ</td>\n",
       "      <td>MEXICANA</td>\n",
       "      <td>1.1</td>\n",
       "      <td>DELGADA</td>\n",
       "      <td>HOMBRE</td>\n",
       "      <td>10</td>\n",
       "      <td>LUNARES, A LA ALTURA DE LA CINTURAFORMA DE MAN...</td>\n",
       "      <td>NO ESPECIFICADO</td>\n",
       "      <td>NINGUNO</td>\n",
       "      <td>FGJ - ESTADO DE MEXICO</td>\n",
       "    </tr>\n",
       "    <tr>\n",
       "      <th>4</th>\n",
       "      <td>2008-01-11</td>\n",
       "      <td>12:00:17</td>\n",
       "      <td>MEXICO</td>\n",
       "      <td>ESTADO DE MEXICO</td>\n",
       "      <td>TOLUCA</td>\n",
       "      <td>TOLUCA</td>\n",
       "      <td>MEXICANA</td>\n",
       "      <td>1.1</td>\n",
       "      <td>DELGADA</td>\n",
       "      <td>HOMBRE</td>\n",
       "      <td>4</td>\n",
       "      <td>NO ESPECIFICADO</td>\n",
       "      <td>NO ESPECIFICADO</td>\n",
       "      <td>NINGUNO</td>\n",
       "      <td>FGJ - ESTADO DE MEXICO</td>\n",
       "    </tr>\n",
       "    <tr>\n",
       "      <th>...</th>\n",
       "      <td>...</td>\n",
       "      <td>...</td>\n",
       "      <td>...</td>\n",
       "      <td>...</td>\n",
       "      <td>...</td>\n",
       "      <td>...</td>\n",
       "      <td>...</td>\n",
       "      <td>...</td>\n",
       "      <td>...</td>\n",
       "      <td>...</td>\n",
       "      <td>...</td>\n",
       "      <td>...</td>\n",
       "      <td>...</td>\n",
       "      <td>...</td>\n",
       "      <td>...</td>\n",
       "    </tr>\n",
       "    <tr>\n",
       "      <th>36260</th>\n",
       "      <td>2018-04-26</td>\n",
       "      <td>08:00:00</td>\n",
       "      <td>MEXICO</td>\n",
       "      <td>PUEBLA</td>\n",
       "      <td>PUEBLA</td>\n",
       "      <td>PUEBLA</td>\n",
       "      <td>MEXICANA</td>\n",
       "      <td>1.6</td>\n",
       "      <td>DELGADA</td>\n",
       "      <td>HOMBRE</td>\n",
       "      <td>22</td>\n",
       "      <td>LUNAR EN LA MEJILLA Y TATUAJE EN EL CUELLO EN ...</td>\n",
       "      <td>NO ESPECIFICADO</td>\n",
       "      <td>NINGUNO</td>\n",
       "      <td>FGE - PUEBLA</td>\n",
       "    </tr>\n",
       "    <tr>\n",
       "      <th>36261</th>\n",
       "      <td>2018-01-08</td>\n",
       "      <td>11:00:00</td>\n",
       "      <td>MEXICO</td>\n",
       "      <td>COLIMA</td>\n",
       "      <td>VILLA DE ALVAREZ</td>\n",
       "      <td>VILLA DE ALVAREZ</td>\n",
       "      <td>MEXICANA</td>\n",
       "      <td>1.7</td>\n",
       "      <td>ROBUSTA</td>\n",
       "      <td>MUJER</td>\n",
       "      <td>27</td>\n",
       "      <td>EL OJO IZQUIERDO TIENE UN ENFERMEDAD COMO TIC,...</td>\n",
       "      <td>NO ESPECIFICADO</td>\n",
       "      <td>NINGUNO</td>\n",
       "      <td>PGJ - COLIMA</td>\n",
       "    </tr>\n",
       "    <tr>\n",
       "      <th>36262</th>\n",
       "      <td>2015-02-02</td>\n",
       "      <td>07:00:00</td>\n",
       "      <td>MEXICO</td>\n",
       "      <td>PUEBLA</td>\n",
       "      <td>CHILA</td>\n",
       "      <td>CHILAS DE LAS FLORES</td>\n",
       "      <td>MEXICANA</td>\n",
       "      <td>1.77</td>\n",
       "      <td>MEDIANA</td>\n",
       "      <td>MUJER</td>\n",
       "      <td>86</td>\n",
       "      <td>NO ESPECIFICADO</td>\n",
       "      <td>NO ESPECIFICADO</td>\n",
       "      <td>NINGUNO</td>\n",
       "      <td>FGE - PUEBLA</td>\n",
       "    </tr>\n",
       "    <tr>\n",
       "      <th>36263</th>\n",
       "      <td>2017-08-22</td>\n",
       "      <td>04:00:00</td>\n",
       "      <td>MEXICO</td>\n",
       "      <td>COLIMA</td>\n",
       "      <td>VILLA DE ALVAREZ</td>\n",
       "      <td>VILLA DE ALVAREZ</td>\n",
       "      <td>MEXICANA</td>\n",
       "      <td>1.76</td>\n",
       "      <td>ROBUSTA</td>\n",
       "      <td>HOMBRE</td>\n",
       "      <td>41</td>\n",
       "      <td>TATUAJE EN EL BRAZO IZQUIERDO CON LA IMAGEN DE...</td>\n",
       "      <td>NO ESPECIFICADO</td>\n",
       "      <td>NINGUNO</td>\n",
       "      <td>PGJ - COLIMA</td>\n",
       "    </tr>\n",
       "    <tr>\n",
       "      <th>36264</th>\n",
       "      <td>2018-04-11</td>\n",
       "      <td>02:00:00</td>\n",
       "      <td>MEXICO</td>\n",
       "      <td>NUEVO LEON</td>\n",
       "      <td>SAN NICOLAS DE LOS GARZA</td>\n",
       "      <td>SAN NICOLAS DE LOS GARZA</td>\n",
       "      <td>MEXICANA</td>\n",
       "      <td>1.6</td>\n",
       "      <td>DELGADA</td>\n",
       "      <td>MUJER</td>\n",
       "      <td>14</td>\n",
       "      <td>NO ESPECIFICADO</td>\n",
       "      <td>NO ESPECIFICADO</td>\n",
       "      <td>NINGUNO</td>\n",
       "      <td>PGJ - NUEVO LEON</td>\n",
       "    </tr>\n",
       "  </tbody>\n",
       "</table>\n",
       "<p>36265 rows × 15 columns</p>\n",
       "</div>"
      ],
      "text/plain": [
       "      Fecha en que se le vio por ultima vez  \\\n",
       "0                                2012-03-18   \n",
       "1                                2007-02-05   \n",
       "2                                2009-03-14   \n",
       "3                                2006-12-23   \n",
       "4                                2008-01-11   \n",
       "...                                     ...   \n",
       "36260                            2018-04-26   \n",
       "36261                            2018-01-08   \n",
       "36262                            2015-02-02   \n",
       "36263                            2017-08-22   \n",
       "36264                            2018-04-11   \n",
       "\n",
       "      Hora en que se le vio por ultima vez  \\\n",
       "0                                 05:00:00   \n",
       "1                                 02:00:26   \n",
       "2                                 08:30:54   \n",
       "3                                 08:00:28   \n",
       "4                                 12:00:17   \n",
       "...                                    ...   \n",
       "36260                             08:00:00   \n",
       "36261                             11:00:00   \n",
       "36262                             07:00:00   \n",
       "36263                             04:00:00   \n",
       "36264                             02:00:00   \n",
       "\n",
       "      Pais en que se le vio por ultima vez  \\\n",
       "0                                   MEXICO   \n",
       "1                                   MEXICO   \n",
       "2                                   MEXICO   \n",
       "3                                   MEXICO   \n",
       "4                                   MEXICO   \n",
       "...                                    ...   \n",
       "36260                               MEXICO   \n",
       "36261                               MEXICO   \n",
       "36262                               MEXICO   \n",
       "36263                               MEXICO   \n",
       "36264                               MEXICO   \n",
       "\n",
       "      Entidad en que se le vio por ultima vez  \\\n",
       "0                                      SONORA   \n",
       "1                            ESTADO DE MEXICO   \n",
       "2                            ESTADO DE MEXICO   \n",
       "3                            ESTADO DE MEXICO   \n",
       "4                            ESTADO DE MEXICO   \n",
       "...                                       ...   \n",
       "36260                                  PUEBLA   \n",
       "36261                                  COLIMA   \n",
       "36262                                  PUEBLA   \n",
       "36263                                  COLIMA   \n",
       "36264                              NUEVO LEON   \n",
       "\n",
       "      Municipio en que se le vio por ultima vez  \\\n",
       "0                                       NAVOJOA   \n",
       "1                                VALLE DE BRAVO   \n",
       "2                                        CHALCO   \n",
       "3                           TLALNEPANTLA DE BAZ   \n",
       "4                                        TOLUCA   \n",
       "...                                         ...   \n",
       "36260                                    PUEBLA   \n",
       "36261                          VILLA DE ALVAREZ   \n",
       "36262                                     CHILA   \n",
       "36263                          VILLA DE ALVAREZ   \n",
       "36264                  SAN NICOLAS DE LOS GARZA   \n",
       "\n",
       "      Localidad en que se le vio por ultima vez Nacionalidad Estatura  \\\n",
       "0                                       NAVOJOA     MEXICANA      1.1   \n",
       "1                                VALLE DE BRAVO     MEXICANA      1.1   \n",
       "2                                        CHALCO     MEXICANA      1.1   \n",
       "3                           TLALNEPANTLA DE BAZ     MEXICANA      1.1   \n",
       "4                                        TOLUCA     MEXICANA      1.1   \n",
       "...                                         ...          ...      ...   \n",
       "36260                                    PUEBLA     MEXICANA      1.6   \n",
       "36261                          VILLA DE ALVAREZ     MEXICANA      1.7   \n",
       "36262                      CHILAS DE LAS FLORES     MEXICANA     1.77   \n",
       "36263                          VILLA DE ALVAREZ     MEXICANA     1.76   \n",
       "36264                  SAN NICOLAS DE LOS GARZA     MEXICANA      1.6   \n",
       "\n",
       "      Complexion    Sexo Edad  \\\n",
       "0        DELGADA   MUJER    7   \n",
       "1        DELGADA   MUJER    4   \n",
       "2        DELGADA  HOMBRE    6   \n",
       "3        DELGADA  HOMBRE   10   \n",
       "4        DELGADA  HOMBRE    4   \n",
       "...          ...     ...  ...   \n",
       "36260    DELGADA  HOMBRE   22   \n",
       "36261    ROBUSTA   MUJER   27   \n",
       "36262    MEDIANA   MUJER   86   \n",
       "36263    ROBUSTA  HOMBRE   41   \n",
       "36264    DELGADA   MUJER   14   \n",
       "\n",
       "                       Descripcion de senas particulares            Etnia  \\\n",
       "0      TIENE UNA CICATRIZ EN LA RODILLA IZQUIERDA POR...  NO ESPECIFICADO   \n",
       "1                                        NO ESPECIFICADO  NO ESPECIFICADO   \n",
       "2      MANCHAS, PARTE SUPERIOR DE PIERNA DERECHA, CIC...  NO ESPECIFICADO   \n",
       "3      LUNARES, A LA ALTURA DE LA CINTURAFORMA DE MAN...  NO ESPECIFICADO   \n",
       "4                                        NO ESPECIFICADO  NO ESPECIFICADO   \n",
       "...                                                  ...              ...   \n",
       "36260  LUNAR EN LA MEJILLA Y TATUAJE EN EL CUELLO EN ...  NO ESPECIFICADO   \n",
       "36261  EL OJO IZQUIERDO TIENE UN ENFERMEDAD COMO TIC,...  NO ESPECIFICADO   \n",
       "36262                                    NO ESPECIFICADO  NO ESPECIFICADO   \n",
       "36263  TATUAJE EN EL BRAZO IZQUIERDO CON LA IMAGEN DE...  NO ESPECIFICADO   \n",
       "36264                                    NO ESPECIFICADO  NO ESPECIFICADO   \n",
       "\n",
       "      Discapacidad Dependencia que envio la informacion  \n",
       "0          NINGUNO                         FGE - SONORA  \n",
       "1          NINGUNO               FGJ - ESTADO DE MEXICO  \n",
       "2          NINGUNO               FGJ - ESTADO DE MEXICO  \n",
       "3          NINGUNO               FGJ - ESTADO DE MEXICO  \n",
       "4          NINGUNO               FGJ - ESTADO DE MEXICO  \n",
       "...            ...                                  ...  \n",
       "36260      NINGUNO                         FGE - PUEBLA  \n",
       "36261      NINGUNO                         PGJ - COLIMA  \n",
       "36262      NINGUNO                         FGE - PUEBLA  \n",
       "36263      NINGUNO                         PGJ - COLIMA  \n",
       "36264      NINGUNO                     PGJ - NUEVO LEON  \n",
       "\n",
       "[36265 rows x 15 columns]"
      ]
     },
     "execution_count": 15,
     "metadata": {},
     "output_type": "execute_result"
    }
   ],
   "source": [
    "df"
   ]
  },
  {
   "cell_type": "markdown",
   "metadata": {},
   "source": [
    "## Análisis Exploratorio"
   ]
  },
  {
   "cell_type": "markdown",
   "metadata": {},
   "source": [
    "    \n",
    "    Leer nuestro dataset en un DataFrame de pandas.\n",
    "    Realizar Análisis Exploratorio de Datos básico para conocer algunas de las características de nuestro conjunto de datos.\n",
    "    \n",
    "    Algunas de las preguntas que estamos intentando responder en esta exploración son las siguientes:\n",
    "\n",
    "    ¿El conjunto de datos que tengo realmente me sirve para responder algunas de las preguntas que me planteé?\n",
    "    ¿Qué tamaño tiene mi conjunto de datos? ¿Serán datos suficientes?\n",
    "    ¿Qué columnas tengo y qué información tengo en cada una de esas columnas?\n",
    "    Los nombres que tienen mis columnas, ¿son el nombre más apropiado?\n",
    "    ¿Qué tipos de datos tengo en cada columna? ¿Parecen ser el tipo correcto de datos? ¿O es un tipo de datos \"incorrecto\"?\n",
    "    Si selecciono algunas filas al azar y las observo, ¿estoy obteniendo los datos que debería? ¿O hay datos que parecen estar \"sucios\" o \"incorrectos\"?\n",
    "\n",
    "    Responde estas preguntas usando las técnicas que aprendiste en esta sesión y comparte tus hallazgos con tus compañeros y la experta."
   ]
  },
  {
   "cell_type": "code",
   "execution_count": 4,
   "metadata": {},
   "outputs": [
    {
     "data": {
      "text/plain": [
       "(36265, 15)"
      ]
     },
     "execution_count": 4,
     "metadata": {},
     "output_type": "execute_result"
    }
   ],
   "source": [
    "df.shape"
   ]
  },
  {
   "cell_type": "markdown",
   "metadata": {},
   "source": [
    "#### Conteo de valores \"NO ESPECIFICADO\" por columna"
   ]
  },
  {
   "cell_type": "code",
   "execution_count": 7,
   "metadata": {
    "scrolled": true
   },
   "outputs": [
    {
     "name": "stdout",
     "output_type": "stream",
     "text": [
      "Columna                                    =NO ESPECIFICADO= \n",
      "\n",
      "Fecha en que se le vio por ultima vez      | 338\n",
      "Hora en que se le vio por ultima vez       | 16\n",
      "Pais en que se le vio por ultima vez       | 0\n",
      "Entidad en que se le vio por ultima vez    | 29\n",
      "Municipio en que se le vio por ultima vez  | 668\n",
      "Localidad en que se le vio por ultima vez  | 3413\n",
      "Nacionalidad                               | 2040\n",
      "Estatura                                   | 11007\n",
      "Complexion                                 | 10569\n",
      "Sexo                                       | 0\n",
      "Edad                                       | 3156\n",
      "Descripcion de senas particulares          | 18914\n",
      "Etnia                                      | 36133\n",
      "Discapacidad                               | 1047\n",
      "Dependencia que envio la informacion       | 0\n"
     ]
    }
   ],
   "source": [
    "print(f'{(\"Columna\"):42} =NO ESPECIFICADO= \\n')\n",
    "for col in df.columns:\n",
    "    print(f'{(col):42} | {(df[col] == \"NO ESPECIFICADO\").sum()}')"
   ]
  },
  {
   "cell_type": "markdown",
   "metadata": {},
   "source": [
    "## Limpieza de datos y agregaciones"
   ]
  },
  {
   "cell_type": "markdown",
   "metadata": {},
   "source": [
    "    - Explora tu dataset con el fin de encontrar los NaNs que contiene. Piensa en la distribución de NaNs por columna y por fila.\n",
    "    \n",
    "    - Piensa cuáles son los procedimientos que puedes aplicar a tus NaNs. ¿Tenemos que eliminar las filas/columnas que tienen esos NaNs? ¿O podríamos rellenar esos NaNs con algún valor de manera que podamos retener esas filas/columnas?\n",
    "    \n",
    "    - Limpia tu dataset de manera que no quede ningún NaN.\n",
    "    \n",
    "    - Reindexa tu dataset si lo consideras necesario.\n",
    "    \n",
    "    - Renombra tus columnas si lo consideras necesario.\n",
    "    \n",
    "    - Prueba aplicar agregaciones a tu DataFrame para ver si puedes empezar a responder algunas de las preguntas que te planteaste anteriormente. \n",
    "    \n"
   ]
  },
  {
   "attachments": {
    "image.png": {
     "image/png": "[encoded data removed]"
    }
   },
   "cell_type": "markdown",
   "metadata": {},
   "source": [
    "![image.png](attachment:image.png)"
   ]
  },
  {
   "cell_type": "code",
   "execution_count": null,
   "metadata": {},
   "outputs": [],
   "source": []
  },
  {
   "cell_type": "markdown",
   "metadata": {},
   "source": [
    "## Automatización y APIs"
   ]
  },
  {
   "cell_type": "markdown",
   "metadata": {},
   "source": [
    "    Puede que sea un API que complemente tu dataset original (eso sería lo mejor de lo mejor)\n",
    "\n",
    "     Puedes también explorar la posibilidad de automatizar algunos de los procesos de limpieza que has realizado con tu dataset. Si encuentras dónde podría ser útil y te animas a hacerlo, recuerda proteger tu código con estructuras try except para que la automatización no falle."
   ]
  },
  {
   "cell_type": "code",
   "execution_count": null,
   "metadata": {},
   "outputs": [],
   "source": []
  },
  {
   "cell_type": "markdown",
   "metadata": {},
   "source": [
    "## Transformación, filtración y ordenamiento de datos"
   ]
  },
  {
   "cell_type": "markdown",
   "metadata": {},
   "source": [
    "\n",
    "    - Checa que todos tus datos tengan el tipo de dato correcto. Si no es así, usa casting para convertir tus datos al tipo de dato correcto (recuerda que tipos de dato como datetime64 se guardan como strings cuando están en archivos .csv, así que tendrás que convertirlos al tipo de dato apropiado cada vez que importes tu archivo.)\n",
    "    \n",
    "    - Si tienes columnas de texto, asegúrate de que todas tengan el formato correcto. Si no es así, utiliza las técnicas de manipulación de strings para darles el formato que necesitas.\n",
    "    \n",
    "    - Si consideras que alguna de tus columnas sería más clara si los datos tuvieran otro formato o representación usa map para transformar los datos de esa columna.\n",
    "    \n",
    "    - Si crees que es posible generar nuevas columnas útiles a partir de las columnas que ya tienes, usa apply para generar nuevos datos a partir de los que tienes y añádelos a tu dataset.\n",
    "    \n",
    "    - Con el fin de responder algunas de las preguntas que te planteaste acerca de tu dataset, usa filtros y sorting para crear nuevos subconjuntos y reordenamientos que sean más adecuados para responder tus preguntas. Primero comienza intentando responder las preguntas que te planteaste al principio, pero después puedes solamente explorar para ver si encuentras otras preguntas que no te habías planteado anteriormente.\n"
   ]
  },
  {
   "cell_type": "code",
   "execution_count": null,
   "metadata": {},
   "outputs": [],
   "source": []
  }
 ],
 "metadata": {
  "colab": {
   "authorship_tag": "ABX9TyPFF9YwPeiZGHJ9Z8OIAqfj",
   "include_colab_link": true,
   "provenance": []
  },
  "kernelspec": {
   "display_name": "Python 3 (ipykernel)",
   "language": "python",
   "name": "python3"
  },
  "language_info": {
   "codemirror_mode": {
    "name": "ipython",
    "version": 3
   },
   "file_extension": ".py",
   "mimetype": "text/x-python",
   "name": "python",
   "nbconvert_exporter": "python",
   "pygments_lexer": "ipython3",
   "version": "3.10.4"
  },
  "varInspector": {
   "cols": {
    "lenName": 16,
    "lenType": 16,
    "lenVar": 40
   },
   "kernels_config": {
    "python": {
     "delete_cmd_postfix": "",
     "delete_cmd_prefix": "del ",
     "library": "var_list.py",
     "varRefreshCmd": "print(var_dic_list())"
    },
    "r": {
     "delete_cmd_postfix": ") ",
     "delete_cmd_prefix": "rm(",
     "library": "var_list.r",
     "varRefreshCmd": "cat(var_dic_list()) "
    }
   },
   "types_to_exclude": [
    "module",
    "function",
    "builtin_function_or_method",
    "instance",
    "_Feature"
   ],
   "window_display": false
  }
 },
 "nbformat": 4,
 "nbformat_minor": 1
}
