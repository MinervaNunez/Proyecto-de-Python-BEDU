{
  "cells": [
    {
      "cell_type": "markdown",
      "metadata": {
        "id": "view-in-github",
        "colab_type": "text"
      },
      "source": [
        "<a href=\"https://colab.research.google.com/github/MinervaNunez/Proyecto-de-Python-BEDU/blob/Rama-Jesus/Proyecto_Equipo_8_Kevin_Nicky_Jesus.ipynb\" target=\"_parent\"><img src=\"https://colab.research.google.com/assets/colab-badge.svg\" alt=\"Open In Colab\"/></a>"
      ]
    },
    {
      "cell_type": "markdown",
      "source": [
        "## **Proyecto de Python Equipo 8** "
      ],
      "metadata": {
        "id": "KCqF7YHjx5Np"
      },
      "id": "KCqF7YHjx5Np"
    },
    {
      "cell_type": "markdown",
      "id": "208f52b8",
      "metadata": {
        "id": "208f52b8"
      },
      "source": [
        "# Adquisición de datos\n"
      ]
    },
    {
      "cell_type": "markdown",
      "metadata": {
        "id": "3zTKgqLdxi9s"
      },
      "source": [
        "### Obtención de los datos mediante API"
      ],
      "id": "3zTKgqLdxi9s"
    },
    {
      "cell_type": "markdown",
      "metadata": {
        "id": "xWMtg8Joxi9u"
      },
      "source": [
        "El gobierno de México utiliza el sistema de repositorios de datos abiertos [CKAN](https://datos.gob.mx/blog/ckan?category=api-cdn&tag=educacion) para compartir los Datos Abiertos de las dependencias de la Administración Pública Federal, así como de gobiernos locales.\n",
        "\n",
        "Utilizando la API de CKAN es posible consultar los detalles de los conjuntos de datos que se ofrecen en el portal datos.gob.mx/busca\n",
        "\n",
        "De esta forma, mediante peticiones a esta API podemos obtener la URL del conjunto de datos."
      ],
      "id": "xWMtg8Joxi9u"
    },
    {
      "cell_type": "code",
      "execution_count": 6,
      "id": "bd163368",
      "metadata": {
        "id": "bd163368"
      },
      "outputs": [],
      "source": [
        "import pandas as pd\n",
        "import requests\n",
        "import numpy as np"
      ]
    },
    {
      "cell_type": "markdown",
      "metadata": {
        "id": "ChgFEeRBxi9x"
      },
      "source": [
        "El endpoint para consultar datos es:\n",
        "\n",
        "https://datos.gob.mx/busca/api/3/action/package_search?q=BUSQUEDA \n",
        "\n",
        "Por lo que pasaremos el valor \"desaparecidos\" al parametro q, para obtener los datasets relacionados."
      ],
      "id": "ChgFEeRBxi9x"
    },
    {
      "cell_type": "code",
      "execution_count": 7,
      "metadata": {
        "id": "MAOoycOuxi9y"
      },
      "outputs": [],
      "source": [
        "endpoint = 'https://datos.gob.mx/busca/api/3/action/package_search?'\n",
        "payload = {'q': 'desaparecidos'}"
      ],
      "id": "MAOoycOuxi9y"
    },
    {
      "cell_type": "code",
      "execution_count": 8,
      "metadata": {
        "id": "KE29icjUxi9z"
      },
      "outputs": [],
      "source": [
        "r = requests.get(endpoint, params=payload)"
      ],
      "id": "KE29icjUxi9z"
    },
    {
      "cell_type": "code",
      "execution_count": 9,
      "metadata": {
        "scrolled": true,
        "id": "VbrYs53Gxi90",
        "outputId": "d252ea46-0f4b-42ba-baa9-5df66b94d2ba",
        "colab": {
          "base_uri": "https://localhost:8080/"
        }
      },
      "outputs": [
        {
          "output_type": "execute_result",
          "data": {
            "text/plain": [
              "200"
            ]
          },
          "metadata": {},
          "execution_count": 9
        }
      ],
      "source": [
        "r.status_code"
      ],
      "id": "VbrYs53Gxi90"
    },
    {
      "cell_type": "markdown",
      "metadata": {
        "id": "D_RXTITcxi95"
      },
      "source": [
        "| La petición se ha realizado con éxito"
      ],
      "id": "D_RXTITcxi95"
    },
    {
      "cell_type": "code",
      "execution_count": 10,
      "metadata": {
        "id": "Mhczwasexi96"
      },
      "outputs": [],
      "source": [
        "json = r.json()"
      ],
      "id": "Mhczwasexi96"
    },
    {
      "cell_type": "code",
      "execution_count": 11,
      "metadata": {
        "id": "0fdF4ZPzxi96",
        "outputId": "f2c49eaf-c9af-405a-9a8b-f0d4644dc6b4",
        "colab": {
          "base_uri": "https://localhost:8080/"
        }
      },
      "outputs": [
        {
          "output_type": "execute_result",
          "data": {
            "text/plain": [
              "dict_keys(['help', 'success', 'result'])"
            ]
          },
          "metadata": {},
          "execution_count": 11
        }
      ],
      "source": [
        "json.keys()"
      ],
      "id": "0fdF4ZPzxi96"
    },
    {
      "cell_type": "markdown",
      "metadata": {
        "id": "NavB4ms7xi97"
      },
      "source": [
        "La llave *'result'* es la que nos interesa, exploraremos su contenido para identificar el conjunto de datos que buscamos."
      ],
      "id": "NavB4ms7xi97"
    },
    {
      "cell_type": "code",
      "execution_count": 12,
      "metadata": {
        "scrolled": true,
        "id": "TnNqp9WSxi97",
        "outputId": "5dcd3e70-0e36-421b-b7a1-dabd13b4767d",
        "colab": {
          "base_uri": "https://localhost:8080/"
        }
      },
      "outputs": [
        {
          "output_type": "stream",
          "name": "stdout",
          "text": [
            "estadisticas-de-apoyo-y-proteccion-a-detenidos-y-desaparecidos\n",
            "registro-nacional-de-datos-de-personas-extraviadas-o-desaparecidas-rnped\n",
            "registro-nacional-de-datos-de-personas-extraviadas-o-desaparecidas-rnped-sitio-espejo-3\n",
            "registro-nacional-de-datos-de-personas-extraviadas-o-desaparecidas-rnped-sitio-espejo-2\n",
            "registro-nacional-de-datos-de-personas-extraviadas-o-desaparecidas-rnped-sitio-espejo-1\n",
            "registro-nacional-de-datos-de-personas-extraviadas-o-desaparecidas-rnped-sitio-espejo-4\n",
            "cantidad-de-derechohabientes-beneficiados-por-el-programa-integral-de-becas-para-hijos-de-milit\n"
          ]
        }
      ],
      "source": [
        "for key in json['result']['results']:\n",
        "    print(key['name'])"
      ],
      "id": "TnNqp9WSxi97"
    },
    {
      "cell_type": "markdown",
      "metadata": {
        "id": "BVnCQfB_xi98"
      },
      "source": [
        "| El conjunto de datos que buscamos se encuentra en *'registro-nacional-de-datos-de-personas-extraviadas-o-desaparecidas-rnped'* con indice 1."
      ],
      "id": "BVnCQfB_xi98"
    },
    {
      "cell_type": "markdown",
      "metadata": {
        "id": "Rkfg6m3-xi98"
      },
      "source": [
        "Ahora bsucaremos el conjunto de datos dentro de este diccionario."
      ],
      "id": "Rkfg6m3-xi98"
    },
    {
      "cell_type": "code",
      "execution_count": 13,
      "metadata": {
        "id": "KbhG9UFfxi99",
        "outputId": "21994062-b8d1-4f04-e3a0-441f2bec9e2e",
        "colab": {
          "base_uri": "https://localhost:8080/"
        }
      },
      "outputs": [
        {
          "output_type": "stream",
          "name": "stdout",
          "text": [
            "Nombre del Dataset: Base de datos del RNPED del fuero común \n",
            "URL: https://secretariadoejecutivo.gob.mx/transparencia/datos_abiertos/RNPEDFC.csv \n",
            "\n",
            "Nombre del Dataset: Base de datos del RNPED del fuero federal \n",
            "URL: https://secretariadoejecutivo.gob.mx/docs/datos_abiertos/RNPEDFF__1.csv \n",
            "\n"
          ]
        }
      ],
      "source": [
        "for key in json['result']['results'][1]['resources']:\n",
        "    print(f\"Nombre del Dataset: {key['name']} \\nURL: {key['url']} \\n\")"
      ],
      "id": "KbhG9UFfxi99"
    },
    {
      "cell_type": "markdown",
      "metadata": {
        "id": "BWtmdOElxi99"
      },
      "source": [
        "| Nuestro conjunto de datos es *'Base de datos del RNPED del fuero común'* con indice 0."
      ],
      "id": "BWtmdOElxi99"
    },
    {
      "cell_type": "markdown",
      "metadata": {
        "id": "pI9e0DJixi9-"
      },
      "source": [
        "**Guardamos la URL de nuestro conjunto y leemos el archivo .csv**"
      ],
      "id": "pI9e0DJixi9-"
    },
    {
      "cell_type": "code",
      "execution_count": 14,
      "metadata": {
        "id": "iUB6BVm5xi9_"
      },
      "outputs": [],
      "source": [
        "url = json['result']['results'][1]['resources'][0]['url']"
      ],
      "id": "iUB6BVm5xi9_"
    },
    {
      "cell_type": "code",
      "execution_count": 15,
      "metadata": {
        "id": "BoxbL6hVxi9_"
      },
      "outputs": [],
      "source": [
        "raw = pd.read_csv(url, encoding='ISO-8859-1')"
      ],
      "id": "BoxbL6hVxi9_"
    },
    {
      "cell_type": "markdown",
      "metadata": {
        "id": "A7N-POjFxi-A"
      },
      "source": [
        "**Guardamos la versión RAW de los datos en fromato csv y leemos el archivo**"
      ],
      "id": "A7N-POjFxi-A"
    },
    {
      "cell_type": "code",
      "execution_count": 16,
      "metadata": {
        "id": "4BKQalwAxi-A"
      },
      "outputs": [],
      "source": [
        "raw.to_csv('RNPEDFC.csv', index=False, encoding='ISO-8859-1')"
      ],
      "id": "4BKQalwAxi-A"
    },
    {
      "cell_type": "code",
      "source": [
        "df = pd.read_csv('RNPEDFC.csv', encoding='ISO-8859-1')"
      ],
      "metadata": {
        "id": "BD4D5Obty50-"
      },
      "id": "BD4D5Obty50-",
      "execution_count": 17,
      "outputs": []
    },
    {
      "cell_type": "markdown",
      "source": [
        "**Obtenermos como resultado nuesto data frame principal**"
      ],
      "metadata": {
        "id": "R4hwW03Q1u03"
      },
      "id": "R4hwW03Q1u03"
    },
    {
      "cell_type": "code",
      "source": [
        "df"
      ],
      "metadata": {
        "id": "rH3tYlOx0ETi",
        "outputId": "7d7cd8ab-55b0-43dc-9b1a-704324574c6d",
        "colab": {
          "base_uri": "https://localhost:8080/",
          "height": 1000
        }
      },
      "id": "rH3tYlOx0ETi",
      "execution_count": 18,
      "outputs": [
        {
          "output_type": "execute_result",
          "data": {
            "text/plain": [
              "      Fecha en que se le vio por ultima vez  \\\n",
              "0                                2012-03-18   \n",
              "1                                2007-02-05   \n",
              "2                                2009-03-14   \n",
              "3                                2006-12-23   \n",
              "4                                2008-01-11   \n",
              "...                                     ...   \n",
              "36260                            2018-04-26   \n",
              "36261                            2018-01-08   \n",
              "36262                            2015-02-02   \n",
              "36263                            2017-08-22   \n",
              "36264                            2018-04-11   \n",
              "\n",
              "      Hora en que se le vio por ultima vez  \\\n",
              "0                                 05:00:00   \n",
              "1                                 02:00:26   \n",
              "2                                 08:30:54   \n",
              "3                                 08:00:28   \n",
              "4                                 12:00:17   \n",
              "...                                    ...   \n",
              "36260                             08:00:00   \n",
              "36261                             11:00:00   \n",
              "36262                             07:00:00   \n",
              "36263                             04:00:00   \n",
              "36264                             02:00:00   \n",
              "\n",
              "      Pais en que se le vio por ultima vez  \\\n",
              "0                                   MEXICO   \n",
              "1                                   MEXICO   \n",
              "2                                   MEXICO   \n",
              "3                                   MEXICO   \n",
              "4                                   MEXICO   \n",
              "...                                    ...   \n",
              "36260                               MEXICO   \n",
              "36261                               MEXICO   \n",
              "36262                               MEXICO   \n",
              "36263                               MEXICO   \n",
              "36264                               MEXICO   \n",
              "\n",
              "      Entidad en que se le vio por ultima vez  \\\n",
              "0                                      SONORA   \n",
              "1                            ESTADO DE MEXICO   \n",
              "2                            ESTADO DE MEXICO   \n",
              "3                            ESTADO DE MEXICO   \n",
              "4                            ESTADO DE MEXICO   \n",
              "...                                       ...   \n",
              "36260                                  PUEBLA   \n",
              "36261                                  COLIMA   \n",
              "36262                                  PUEBLA   \n",
              "36263                                  COLIMA   \n",
              "36264                              NUEVO LEON   \n",
              "\n",
              "      Municipio en que se le vio por ultima vez  \\\n",
              "0                                       NAVOJOA   \n",
              "1                                VALLE DE BRAVO   \n",
              "2                                        CHALCO   \n",
              "3                           TLALNEPANTLA DE BAZ   \n",
              "4                                        TOLUCA   \n",
              "...                                         ...   \n",
              "36260                                    PUEBLA   \n",
              "36261                          VILLA DE ALVAREZ   \n",
              "36262                                     CHILA   \n",
              "36263                          VILLA DE ALVAREZ   \n",
              "36264                  SAN NICOLAS DE LOS GARZA   \n",
              "\n",
              "      Localidad en que se le vio por ultima vez Nacionalidad Estatura  \\\n",
              "0                                       NAVOJOA     MEXICANA      1.1   \n",
              "1                                VALLE DE BRAVO     MEXICANA      1.1   \n",
              "2                                        CHALCO     MEXICANA      1.1   \n",
              "3                           TLALNEPANTLA DE BAZ     MEXICANA      1.1   \n",
              "4                                        TOLUCA     MEXICANA      1.1   \n",
              "...                                         ...          ...      ...   \n",
              "36260                                    PUEBLA     MEXICANA      1.6   \n",
              "36261                          VILLA DE ALVAREZ     MEXICANA      1.7   \n",
              "36262                      CHILAS DE LAS FLORES     MEXICANA     1.77   \n",
              "36263                          VILLA DE ALVAREZ     MEXICANA     1.76   \n",
              "36264                  SAN NICOLAS DE LOS GARZA     MEXICANA      1.6   \n",
              "\n",
              "      Complexion    Sexo Edad  \\\n",
              "0        DELGADA   MUJER    7   \n",
              "1        DELGADA   MUJER    4   \n",
              "2        DELGADA  HOMBRE    6   \n",
              "3        DELGADA  HOMBRE   10   \n",
              "4        DELGADA  HOMBRE    4   \n",
              "...          ...     ...  ...   \n",
              "36260    DELGADA  HOMBRE   22   \n",
              "36261    ROBUSTA   MUJER   27   \n",
              "36262    MEDIANA   MUJER   86   \n",
              "36263    ROBUSTA  HOMBRE   41   \n",
              "36264    DELGADA   MUJER   14   \n",
              "\n",
              "                       Descripcion de senas particulares            Etnia  \\\n",
              "0      TIENE UNA CICATRIZ EN LA RODILLA IZQUIERDA POR...  NO ESPECIFICADO   \n",
              "1                                        NO ESPECIFICADO  NO ESPECIFICADO   \n",
              "2      MANCHAS, PARTE SUPERIOR DE PIERNA DERECHA, CIC...  NO ESPECIFICADO   \n",
              "3      LUNARES, A LA ALTURA DE LA CINTURAFORMA DE MAN...  NO ESPECIFICADO   \n",
              "4                                        NO ESPECIFICADO  NO ESPECIFICADO   \n",
              "...                                                  ...              ...   \n",
              "36260  LUNAR EN LA MEJILLA Y TATUAJE EN EL CUELLO EN ...  NO ESPECIFICADO   \n",
              "36261  EL OJO IZQUIERDO TIENE UN ENFERMEDAD COMO TIC,...  NO ESPECIFICADO   \n",
              "36262                                    NO ESPECIFICADO  NO ESPECIFICADO   \n",
              "36263  TATUAJE EN EL BRAZO IZQUIERDO CON LA IMAGEN DE...  NO ESPECIFICADO   \n",
              "36264                                    NO ESPECIFICADO  NO ESPECIFICADO   \n",
              "\n",
              "      Discapacidad Dependencia que envio la informacion  \n",
              "0          NINGUNO                         FGE - SONORA  \n",
              "1          NINGUNO               FGJ - ESTADO DE MEXICO  \n",
              "2          NINGUNO               FGJ - ESTADO DE MEXICO  \n",
              "3          NINGUNO               FGJ - ESTADO DE MEXICO  \n",
              "4          NINGUNO               FGJ - ESTADO DE MEXICO  \n",
              "...            ...                                  ...  \n",
              "36260      NINGUNO                         FGE - PUEBLA  \n",
              "36261      NINGUNO                         PGJ - COLIMA  \n",
              "36262      NINGUNO                         FGE - PUEBLA  \n",
              "36263      NINGUNO                         PGJ - COLIMA  \n",
              "36264      NINGUNO                     PGJ - NUEVO LEON  \n",
              "\n",
              "[36265 rows x 15 columns]"
            ],
            "text/html": [
              "\n",
              "  <div id=\"df-fedeace9-0d48-428e-ad12-8c1b2efea0e3\">\n",
              "    <div class=\"colab-df-container\">\n",
              "      <div>\n",
              "<style scoped>\n",
              "    .dataframe tbody tr th:only-of-type {\n",
              "        vertical-align: middle;\n",
              "    }\n",
              "\n",
              "    .dataframe tbody tr th {\n",
              "        vertical-align: top;\n",
              "    }\n",
              "\n",
              "    .dataframe thead th {\n",
              "        text-align: right;\n",
              "    }\n",
              "</style>\n",
              "<table border=\"1\" class=\"dataframe\">\n",
              "  <thead>\n",
              "    <tr style=\"text-align: right;\">\n",
              "      <th></th>\n",
              "      <th>Fecha en que se le vio por ultima vez</th>\n",
              "      <th>Hora en que se le vio por ultima vez</th>\n",
              "      <th>Pais en que se le vio por ultima vez</th>\n",
              "      <th>Entidad en que se le vio por ultima vez</th>\n",
              "      <th>Municipio en que se le vio por ultima vez</th>\n",
              "      <th>Localidad en que se le vio por ultima vez</th>\n",
              "      <th>Nacionalidad</th>\n",
              "      <th>Estatura</th>\n",
              "      <th>Complexion</th>\n",
              "      <th>Sexo</th>\n",
              "      <th>Edad</th>\n",
              "      <th>Descripcion de senas particulares</th>\n",
              "      <th>Etnia</th>\n",
              "      <th>Discapacidad</th>\n",
              "      <th>Dependencia que envio la informacion</th>\n",
              "    </tr>\n",
              "  </thead>\n",
              "  <tbody>\n",
              "    <tr>\n",
              "      <th>0</th>\n",
              "      <td>2012-03-18</td>\n",
              "      <td>05:00:00</td>\n",
              "      <td>MEXICO</td>\n",
              "      <td>SONORA</td>\n",
              "      <td>NAVOJOA</td>\n",
              "      <td>NAVOJOA</td>\n",
              "      <td>MEXICANA</td>\n",
              "      <td>1.1</td>\n",
              "      <td>DELGADA</td>\n",
              "      <td>MUJER</td>\n",
              "      <td>7</td>\n",
              "      <td>TIENE UNA CICATRIZ EN LA RODILLA IZQUIERDA POR...</td>\n",
              "      <td>NO ESPECIFICADO</td>\n",
              "      <td>NINGUNO</td>\n",
              "      <td>FGE - SONORA</td>\n",
              "    </tr>\n",
              "    <tr>\n",
              "      <th>1</th>\n",
              "      <td>2007-02-05</td>\n",
              "      <td>02:00:26</td>\n",
              "      <td>MEXICO</td>\n",
              "      <td>ESTADO DE MEXICO</td>\n",
              "      <td>VALLE DE BRAVO</td>\n",
              "      <td>VALLE DE BRAVO</td>\n",
              "      <td>MEXICANA</td>\n",
              "      <td>1.1</td>\n",
              "      <td>DELGADA</td>\n",
              "      <td>MUJER</td>\n",
              "      <td>4</td>\n",
              "      <td>NO ESPECIFICADO</td>\n",
              "      <td>NO ESPECIFICADO</td>\n",
              "      <td>NINGUNO</td>\n",
              "      <td>FGJ - ESTADO DE MEXICO</td>\n",
              "    </tr>\n",
              "    <tr>\n",
              "      <th>2</th>\n",
              "      <td>2009-03-14</td>\n",
              "      <td>08:30:54</td>\n",
              "      <td>MEXICO</td>\n",
              "      <td>ESTADO DE MEXICO</td>\n",
              "      <td>CHALCO</td>\n",
              "      <td>CHALCO</td>\n",
              "      <td>MEXICANA</td>\n",
              "      <td>1.1</td>\n",
              "      <td>DELGADA</td>\n",
              "      <td>HOMBRE</td>\n",
              "      <td>6</td>\n",
              "      <td>MANCHAS, PARTE SUPERIOR DE PIERNA DERECHA, CIC...</td>\n",
              "      <td>NO ESPECIFICADO</td>\n",
              "      <td>NINGUNO</td>\n",
              "      <td>FGJ - ESTADO DE MEXICO</td>\n",
              "    </tr>\n",
              "    <tr>\n",
              "      <th>3</th>\n",
              "      <td>2006-12-23</td>\n",
              "      <td>08:00:28</td>\n",
              "      <td>MEXICO</td>\n",
              "      <td>ESTADO DE MEXICO</td>\n",
              "      <td>TLALNEPANTLA DE BAZ</td>\n",
              "      <td>TLALNEPANTLA DE BAZ</td>\n",
              "      <td>MEXICANA</td>\n",
              "      <td>1.1</td>\n",
              "      <td>DELGADA</td>\n",
              "      <td>HOMBRE</td>\n",
              "      <td>10</td>\n",
              "      <td>LUNARES, A LA ALTURA DE LA CINTURAFORMA DE MAN...</td>\n",
              "      <td>NO ESPECIFICADO</td>\n",
              "      <td>NINGUNO</td>\n",
              "      <td>FGJ - ESTADO DE MEXICO</td>\n",
              "    </tr>\n",
              "    <tr>\n",
              "      <th>4</th>\n",
              "      <td>2008-01-11</td>\n",
              "      <td>12:00:17</td>\n",
              "      <td>MEXICO</td>\n",
              "      <td>ESTADO DE MEXICO</td>\n",
              "      <td>TOLUCA</td>\n",
              "      <td>TOLUCA</td>\n",
              "      <td>MEXICANA</td>\n",
              "      <td>1.1</td>\n",
              "      <td>DELGADA</td>\n",
              "      <td>HOMBRE</td>\n",
              "      <td>4</td>\n",
              "      <td>NO ESPECIFICADO</td>\n",
              "      <td>NO ESPECIFICADO</td>\n",
              "      <td>NINGUNO</td>\n",
              "      <td>FGJ - ESTADO DE MEXICO</td>\n",
              "    </tr>\n",
              "    <tr>\n",
              "      <th>...</th>\n",
              "      <td>...</td>\n",
              "      <td>...</td>\n",
              "      <td>...</td>\n",
              "      <td>...</td>\n",
              "      <td>...</td>\n",
              "      <td>...</td>\n",
              "      <td>...</td>\n",
              "      <td>...</td>\n",
              "      <td>...</td>\n",
              "      <td>...</td>\n",
              "      <td>...</td>\n",
              "      <td>...</td>\n",
              "      <td>...</td>\n",
              "      <td>...</td>\n",
              "      <td>...</td>\n",
              "    </tr>\n",
              "    <tr>\n",
              "      <th>36260</th>\n",
              "      <td>2018-04-26</td>\n",
              "      <td>08:00:00</td>\n",
              "      <td>MEXICO</td>\n",
              "      <td>PUEBLA</td>\n",
              "      <td>PUEBLA</td>\n",
              "      <td>PUEBLA</td>\n",
              "      <td>MEXICANA</td>\n",
              "      <td>1.6</td>\n",
              "      <td>DELGADA</td>\n",
              "      <td>HOMBRE</td>\n",
              "      <td>22</td>\n",
              "      <td>LUNAR EN LA MEJILLA Y TATUAJE EN EL CUELLO EN ...</td>\n",
              "      <td>NO ESPECIFICADO</td>\n",
              "      <td>NINGUNO</td>\n",
              "      <td>FGE - PUEBLA</td>\n",
              "    </tr>\n",
              "    <tr>\n",
              "      <th>36261</th>\n",
              "      <td>2018-01-08</td>\n",
              "      <td>11:00:00</td>\n",
              "      <td>MEXICO</td>\n",
              "      <td>COLIMA</td>\n",
              "      <td>VILLA DE ALVAREZ</td>\n",
              "      <td>VILLA DE ALVAREZ</td>\n",
              "      <td>MEXICANA</td>\n",
              "      <td>1.7</td>\n",
              "      <td>ROBUSTA</td>\n",
              "      <td>MUJER</td>\n",
              "      <td>27</td>\n",
              "      <td>EL OJO IZQUIERDO TIENE UN ENFERMEDAD COMO TIC,...</td>\n",
              "      <td>NO ESPECIFICADO</td>\n",
              "      <td>NINGUNO</td>\n",
              "      <td>PGJ - COLIMA</td>\n",
              "    </tr>\n",
              "    <tr>\n",
              "      <th>36262</th>\n",
              "      <td>2015-02-02</td>\n",
              "      <td>07:00:00</td>\n",
              "      <td>MEXICO</td>\n",
              "      <td>PUEBLA</td>\n",
              "      <td>CHILA</td>\n",
              "      <td>CHILAS DE LAS FLORES</td>\n",
              "      <td>MEXICANA</td>\n",
              "      <td>1.77</td>\n",
              "      <td>MEDIANA</td>\n",
              "      <td>MUJER</td>\n",
              "      <td>86</td>\n",
              "      <td>NO ESPECIFICADO</td>\n",
              "      <td>NO ESPECIFICADO</td>\n",
              "      <td>NINGUNO</td>\n",
              "      <td>FGE - PUEBLA</td>\n",
              "    </tr>\n",
              "    <tr>\n",
              "      <th>36263</th>\n",
              "      <td>2017-08-22</td>\n",
              "      <td>04:00:00</td>\n",
              "      <td>MEXICO</td>\n",
              "      <td>COLIMA</td>\n",
              "      <td>VILLA DE ALVAREZ</td>\n",
              "      <td>VILLA DE ALVAREZ</td>\n",
              "      <td>MEXICANA</td>\n",
              "      <td>1.76</td>\n",
              "      <td>ROBUSTA</td>\n",
              "      <td>HOMBRE</td>\n",
              "      <td>41</td>\n",
              "      <td>TATUAJE EN EL BRAZO IZQUIERDO CON LA IMAGEN DE...</td>\n",
              "      <td>NO ESPECIFICADO</td>\n",
              "      <td>NINGUNO</td>\n",
              "      <td>PGJ - COLIMA</td>\n",
              "    </tr>\n",
              "    <tr>\n",
              "      <th>36264</th>\n",
              "      <td>2018-04-11</td>\n",
              "      <td>02:00:00</td>\n",
              "      <td>MEXICO</td>\n",
              "      <td>NUEVO LEON</td>\n",
              "      <td>SAN NICOLAS DE LOS GARZA</td>\n",
              "      <td>SAN NICOLAS DE LOS GARZA</td>\n",
              "      <td>MEXICANA</td>\n",
              "      <td>1.6</td>\n",
              "      <td>DELGADA</td>\n",
              "      <td>MUJER</td>\n",
              "      <td>14</td>\n",
              "      <td>NO ESPECIFICADO</td>\n",
              "      <td>NO ESPECIFICADO</td>\n",
              "      <td>NINGUNO</td>\n",
              "      <td>PGJ - NUEVO LEON</td>\n",
              "    </tr>\n",
              "  </tbody>\n",
              "</table>\n",
              "<p>36265 rows × 15 columns</p>\n",
              "</div>\n",
              "      <button class=\"colab-df-convert\" onclick=\"convertToInteractive('df-fedeace9-0d48-428e-ad12-8c1b2efea0e3')\"\n",
              "              title=\"Convert this dataframe to an interactive table.\"\n",
              "              style=\"display:none;\">\n",
              "        \n",
              "  <svg xmlns=\"http://www.w3.org/2000/svg\" height=\"24px\"viewBox=\"0 0 24 24\"\n",
              "       width=\"24px\">\n",
              "    <path d=\"M0 0h24v24H0V0z\" fill=\"none\"/>\n",
              "    <path d=\"M18.56 5.44l.94 2.06.94-2.06 2.06-.94-2.06-.94-.94-2.06-.94 2.06-2.06.94zm-11 1L8.5 8.5l.94-2.06 2.06-.94-2.06-.94L8.5 2.5l-.94 2.06-2.06.94zm10 10l.94 2.06.94-2.06 2.06-.94-2.06-.94-.94-2.06-.94 2.06-2.06.94z\"/><path d=\"M17.41 7.96l-1.37-1.37c-.4-.4-.92-.59-1.43-.59-.52 0-1.04.2-1.43.59L10.3 9.45l-7.72 7.72c-.78.78-.78 2.05 0 2.83L4 21.41c.39.39.9.59 1.41.59.51 0 1.02-.2 1.41-.59l7.78-7.78 2.81-2.81c.8-.78.8-2.07 0-2.86zM5.41 20L4 18.59l7.72-7.72 1.47 1.35L5.41 20z\"/>\n",
              "  </svg>\n",
              "      </button>\n",
              "      \n",
              "  <style>\n",
              "    .colab-df-container {\n",
              "      display:flex;\n",
              "      flex-wrap:wrap;\n",
              "      gap: 12px;\n",
              "    }\n",
              "\n",
              "    .colab-df-convert {\n",
              "      background-color: #E8F0FE;\n",
              "      border: none;\n",
              "      border-radius: 50%;\n",
              "      cursor: pointer;\n",
              "      display: none;\n",
              "      fill: #1967D2;\n",
              "      height: 32px;\n",
              "      padding: 0 0 0 0;\n",
              "      width: 32px;\n",
              "    }\n",
              "\n",
              "    .colab-df-convert:hover {\n",
              "      background-color: #E2EBFA;\n",
              "      box-shadow: 0px 1px 2px rgba(60, 64, 67, 0.3), 0px 1px 3px 1px rgba(60, 64, 67, 0.15);\n",
              "      fill: #174EA6;\n",
              "    }\n",
              "\n",
              "    [theme=dark] .colab-df-convert {\n",
              "      background-color: #3B4455;\n",
              "      fill: #D2E3FC;\n",
              "    }\n",
              "\n",
              "    [theme=dark] .colab-df-convert:hover {\n",
              "      background-color: #434B5C;\n",
              "      box-shadow: 0px 1px 3px 1px rgba(0, 0, 0, 0.15);\n",
              "      filter: drop-shadow(0px 1px 2px rgba(0, 0, 0, 0.3));\n",
              "      fill: #FFFFFF;\n",
              "    }\n",
              "  </style>\n",
              "\n",
              "      <script>\n",
              "        const buttonEl =\n",
              "          document.querySelector('#df-fedeace9-0d48-428e-ad12-8c1b2efea0e3 button.colab-df-convert');\n",
              "        buttonEl.style.display =\n",
              "          google.colab.kernel.accessAllowed ? 'block' : 'none';\n",
              "\n",
              "        async function convertToInteractive(key) {\n",
              "          const element = document.querySelector('#df-fedeace9-0d48-428e-ad12-8c1b2efea0e3');\n",
              "          const dataTable =\n",
              "            await google.colab.kernel.invokeFunction('convertToInteractive',\n",
              "                                                     [key], {});\n",
              "          if (!dataTable) return;\n",
              "\n",
              "          const docLinkHtml = 'Like what you see? Visit the ' +\n",
              "            '<a target=\"_blank\" href=https://colab.research.google.com/notebooks/data_table.ipynb>data table notebook</a>'\n",
              "            + ' to learn more about interactive tables.';\n",
              "          element.innerHTML = '';\n",
              "          dataTable['output_type'] = 'display_data';\n",
              "          await google.colab.output.renderOutput(dataTable, element);\n",
              "          const docLink = document.createElement('div');\n",
              "          docLink.innerHTML = docLinkHtml;\n",
              "          element.appendChild(docLink);\n",
              "        }\n",
              "      </script>\n",
              "    </div>\n",
              "  </div>\n",
              "  "
            ]
          },
          "metadata": {},
          "execution_count": 18
        }
      ]
    },
    {
      "cell_type": "markdown",
      "id": "7f418359",
      "metadata": {
        "id": "7f418359"
      },
      "source": [
        "# Análisis exploratorio de datos\n",
        "\n",
        "Seguimos la metodología vista en clase."
      ]
    },
    {
      "cell_type": "markdown",
      "id": "64a3a988",
      "metadata": {
        "id": "64a3a988"
      },
      "source": [
        "Primero, obtenemos las dimensiones de nuestro `DataFrame`."
      ]
    },
    {
      "cell_type": "code",
      "execution_count": 19,
      "id": "c375fd99",
      "metadata": {
        "colab": {
          "base_uri": "https://localhost:8080/"
        },
        "id": "c375fd99",
        "outputId": "158d99f2-2605-4796-eb02-fb502de02443"
      },
      "outputs": [
        {
          "output_type": "execute_result",
          "data": {
            "text/plain": [
              "(36265, 15)"
            ]
          },
          "metadata": {},
          "execution_count": 19
        }
      ],
      "source": [
        "df.shape"
      ]
    },
    {
      "cell_type": "markdown",
      "id": "32dc3855",
      "metadata": {
        "id": "32dc3855"
      },
      "source": [
        "La celda anterior nos dice que nuestro dataframe tiene 36265 renglones (observaciones), y 15 columnas (variables).\n",
        "\n",
        "Veamos cuáles son nuestras variables."
      ]
    },
    {
      "cell_type": "code",
      "execution_count": 20,
      "id": "d93cef1a",
      "metadata": {
        "colab": {
          "base_uri": "https://localhost:8080/"
        },
        "id": "d93cef1a",
        "outputId": "88da2afb-e5da-4103-b6b5-676f3b43723c"
      },
      "outputs": [
        {
          "output_type": "execute_result",
          "data": {
            "text/plain": [
              "Index(['Fecha en que se le vio por ultima vez',\n",
              "       'Hora en que se le vio por ultima vez',\n",
              "       'Pais en que se le vio por ultima vez',\n",
              "       'Entidad en que se le vio por ultima vez',\n",
              "       'Municipio en que se le vio por ultima vez',\n",
              "       'Localidad en que se le vio por ultima vez', 'Nacionalidad', 'Estatura',\n",
              "       'Complexion', 'Sexo', 'Edad', 'Descripcion de senas particulares',\n",
              "       'Etnia', 'Discapacidad', 'Dependencia que envio la informacion'],\n",
              "      dtype='object')"
            ]
          },
          "metadata": {},
          "execution_count": 20
        }
      ],
      "source": [
        "df.columns"
      ]
    },
    {
      "cell_type": "code",
      "execution_count": 21,
      "id": "b40f53e0",
      "metadata": {
        "scrolled": true,
        "colab": {
          "base_uri": "https://localhost:8080/"
        },
        "id": "b40f53e0",
        "outputId": "ab4dcd1a-20cf-43b3-857f-9c3dd3d4bb23"
      },
      "outputs": [
        {
          "output_type": "execute_result",
          "data": {
            "text/plain": [
              "Fecha en que se le vio por ultima vez        object\n",
              "Hora en que se le vio por ultima vez         object\n",
              "Pais en que se le vio por ultima vez         object\n",
              "Entidad en que se le vio por ultima vez      object\n",
              "Municipio en que se le vio por ultima vez    object\n",
              "Localidad en que se le vio por ultima vez    object\n",
              "Nacionalidad                                 object\n",
              "Estatura                                     object\n",
              "Complexion                                   object\n",
              "Sexo                                         object\n",
              "Edad                                         object\n",
              "Descripcion de senas particulares            object\n",
              "Etnia                                        object\n",
              "Discapacidad                                 object\n",
              "Dependencia que envio la informacion         object\n",
              "dtype: object"
            ]
          },
          "metadata": {},
          "execution_count": 21
        }
      ],
      "source": [
        "df.dtypes"
      ]
    },
    {
      "cell_type": "markdown",
      "id": "6ca200fb",
      "metadata": {
        "id": "6ca200fb"
      },
      "source": [
        "De acuerdo con el resultado de la anterior celda, nuestras 15 variables y sus tipos de datos (por defecto) son:\n",
        "    \n",
        "| Variable | Tipo |\n",
        "| -------  | ---- |\n",
        "| Fecha en que se le vio por ultima vez        | object |\n",
        "| Hora en que se le vio por ultima vez         | object |\n",
        "| Pais en que se le vio por ultima vez         | object |\n",
        "| Entidad en que se le vio por ultima vez      | object |\n",
        "| Municipio en que se le vio por ultima vez    | object |\n",
        "| Localidad en que se le vio por ultima vez    | object |\n",
        "| Nacionalidad                                 | object |\n",
        "| Estatura                                     | object |\n",
        "| Complexion                                   | object |\n",
        "| Sexo                                         | object |\n",
        "| Edad                                         | object |\n",
        "| Descripcion de senas particulares            | object |\n",
        "| Etnia                                        | object |\n",
        "| Discapacidad                                 | object |\n",
        "| Dependencia que envio la informacion         | object |\n"
      ]
    },
    {
      "cell_type": "code",
      "execution_count": 22,
      "id": "9d6e4c65",
      "metadata": {
        "colab": {
          "base_uri": "https://localhost:8080/"
        },
        "id": "9d6e4c65",
        "outputId": "bb0dfb18-335e-40fd-c546-ee82f6b389be"
      },
      "outputs": [
        {
          "output_type": "execute_result",
          "data": {
            "text/plain": [
              "RangeIndex(start=0, stop=36265, step=1)"
            ]
          },
          "metadata": {},
          "execution_count": 22
        }
      ],
      "source": [
        "df.index"
      ]
    },
    {
      "cell_type": "markdown",
      "id": "b7b9f7ae",
      "metadata": {
        "id": "b7b9f7ae"
      },
      "source": [
        "Del anterior comando, `pandas` nos dice que nuestras observaciones están indizadas por valores numéricos que empiezan desde el 0 y terminan en 36265."
      ]
    },
    {
      "cell_type": "markdown",
      "id": "46d44ecb",
      "metadata": {
        "id": "46d44ecb"
      },
      "source": [
        "Finalmente, echamos un vistazo a los datos para darnos una mejor idea de cómo está compuesto nuestro `DataFrame` a analizar."
      ]
    },
    {
      "cell_type": "code",
      "execution_count": 23,
      "id": "08de82c3",
      "metadata": {
        "colab": {
          "base_uri": "https://localhost:8080/",
          "height": 0
        },
        "id": "08de82c3",
        "outputId": "d7405a27-8f43-4b3e-d360-06e325a091ef"
      },
      "outputs": [
        {
          "output_type": "execute_result",
          "data": {
            "text/plain": [
              "  Fecha en que se le vio por ultima vez Hora en que se le vio por ultima vez  \\\n",
              "0                            2012-03-18                             05:00:00   \n",
              "1                            2007-02-05                             02:00:26   \n",
              "2                            2009-03-14                             08:30:54   \n",
              "3                            2006-12-23                             08:00:28   \n",
              "4                            2008-01-11                             12:00:17   \n",
              "\n",
              "  Pais en que se le vio por ultima vez  \\\n",
              "0                               MEXICO   \n",
              "1                               MEXICO   \n",
              "2                               MEXICO   \n",
              "3                               MEXICO   \n",
              "4                               MEXICO   \n",
              "\n",
              "  Entidad en que se le vio por ultima vez  \\\n",
              "0                                  SONORA   \n",
              "1                        ESTADO DE MEXICO   \n",
              "2                        ESTADO DE MEXICO   \n",
              "3                        ESTADO DE MEXICO   \n",
              "4                        ESTADO DE MEXICO   \n",
              "\n",
              "  Municipio en que se le vio por ultima vez  \\\n",
              "0                                   NAVOJOA   \n",
              "1                            VALLE DE BRAVO   \n",
              "2                                    CHALCO   \n",
              "3                       TLALNEPANTLA DE BAZ   \n",
              "4                                    TOLUCA   \n",
              "\n",
              "  Localidad en que se le vio por ultima vez Nacionalidad Estatura Complexion  \\\n",
              "0                                   NAVOJOA     MEXICANA      1.1    DELGADA   \n",
              "1                            VALLE DE BRAVO     MEXICANA      1.1    DELGADA   \n",
              "2                                    CHALCO     MEXICANA      1.1    DELGADA   \n",
              "3                       TLALNEPANTLA DE BAZ     MEXICANA      1.1    DELGADA   \n",
              "4                                    TOLUCA     MEXICANA      1.1    DELGADA   \n",
              "\n",
              "     Sexo Edad                  Descripcion de senas particulares  \\\n",
              "0   MUJER    7  TIENE UNA CICATRIZ EN LA RODILLA IZQUIERDA POR...   \n",
              "1   MUJER    4                                    NO ESPECIFICADO   \n",
              "2  HOMBRE    6  MANCHAS, PARTE SUPERIOR DE PIERNA DERECHA, CIC...   \n",
              "3  HOMBRE   10  LUNARES, A LA ALTURA DE LA CINTURAFORMA DE MAN...   \n",
              "4  HOMBRE    4                                    NO ESPECIFICADO   \n",
              "\n",
              "             Etnia Discapacidad Dependencia que envio la informacion  \n",
              "0  NO ESPECIFICADO      NINGUNO                         FGE - SONORA  \n",
              "1  NO ESPECIFICADO      NINGUNO               FGJ - ESTADO DE MEXICO  \n",
              "2  NO ESPECIFICADO      NINGUNO               FGJ - ESTADO DE MEXICO  \n",
              "3  NO ESPECIFICADO      NINGUNO               FGJ - ESTADO DE MEXICO  \n",
              "4  NO ESPECIFICADO      NINGUNO               FGJ - ESTADO DE MEXICO  "
            ],
            "text/html": [
              "\n",
              "  <div id=\"df-86997d70-7b7a-49f8-bf85-2d5a1ae2fde4\">\n",
              "    <div class=\"colab-df-container\">\n",
              "      <div>\n",
              "<style scoped>\n",
              "    .dataframe tbody tr th:only-of-type {\n",
              "        vertical-align: middle;\n",
              "    }\n",
              "\n",
              "    .dataframe tbody tr th {\n",
              "        vertical-align: top;\n",
              "    }\n",
              "\n",
              "    .dataframe thead th {\n",
              "        text-align: right;\n",
              "    }\n",
              "</style>\n",
              "<table border=\"1\" class=\"dataframe\">\n",
              "  <thead>\n",
              "    <tr style=\"text-align: right;\">\n",
              "      <th></th>\n",
              "      <th>Fecha en que se le vio por ultima vez</th>\n",
              "      <th>Hora en que se le vio por ultima vez</th>\n",
              "      <th>Pais en que se le vio por ultima vez</th>\n",
              "      <th>Entidad en que se le vio por ultima vez</th>\n",
              "      <th>Municipio en que se le vio por ultima vez</th>\n",
              "      <th>Localidad en que se le vio por ultima vez</th>\n",
              "      <th>Nacionalidad</th>\n",
              "      <th>Estatura</th>\n",
              "      <th>Complexion</th>\n",
              "      <th>Sexo</th>\n",
              "      <th>Edad</th>\n",
              "      <th>Descripcion de senas particulares</th>\n",
              "      <th>Etnia</th>\n",
              "      <th>Discapacidad</th>\n",
              "      <th>Dependencia que envio la informacion</th>\n",
              "    </tr>\n",
              "  </thead>\n",
              "  <tbody>\n",
              "    <tr>\n",
              "      <th>0</th>\n",
              "      <td>2012-03-18</td>\n",
              "      <td>05:00:00</td>\n",
              "      <td>MEXICO</td>\n",
              "      <td>SONORA</td>\n",
              "      <td>NAVOJOA</td>\n",
              "      <td>NAVOJOA</td>\n",
              "      <td>MEXICANA</td>\n",
              "      <td>1.1</td>\n",
              "      <td>DELGADA</td>\n",
              "      <td>MUJER</td>\n",
              "      <td>7</td>\n",
              "      <td>TIENE UNA CICATRIZ EN LA RODILLA IZQUIERDA POR...</td>\n",
              "      <td>NO ESPECIFICADO</td>\n",
              "      <td>NINGUNO</td>\n",
              "      <td>FGE - SONORA</td>\n",
              "    </tr>\n",
              "    <tr>\n",
              "      <th>1</th>\n",
              "      <td>2007-02-05</td>\n",
              "      <td>02:00:26</td>\n",
              "      <td>MEXICO</td>\n",
              "      <td>ESTADO DE MEXICO</td>\n",
              "      <td>VALLE DE BRAVO</td>\n",
              "      <td>VALLE DE BRAVO</td>\n",
              "      <td>MEXICANA</td>\n",
              "      <td>1.1</td>\n",
              "      <td>DELGADA</td>\n",
              "      <td>MUJER</td>\n",
              "      <td>4</td>\n",
              "      <td>NO ESPECIFICADO</td>\n",
              "      <td>NO ESPECIFICADO</td>\n",
              "      <td>NINGUNO</td>\n",
              "      <td>FGJ - ESTADO DE MEXICO</td>\n",
              "    </tr>\n",
              "    <tr>\n",
              "      <th>2</th>\n",
              "      <td>2009-03-14</td>\n",
              "      <td>08:30:54</td>\n",
              "      <td>MEXICO</td>\n",
              "      <td>ESTADO DE MEXICO</td>\n",
              "      <td>CHALCO</td>\n",
              "      <td>CHALCO</td>\n",
              "      <td>MEXICANA</td>\n",
              "      <td>1.1</td>\n",
              "      <td>DELGADA</td>\n",
              "      <td>HOMBRE</td>\n",
              "      <td>6</td>\n",
              "      <td>MANCHAS, PARTE SUPERIOR DE PIERNA DERECHA, CIC...</td>\n",
              "      <td>NO ESPECIFICADO</td>\n",
              "      <td>NINGUNO</td>\n",
              "      <td>FGJ - ESTADO DE MEXICO</td>\n",
              "    </tr>\n",
              "    <tr>\n",
              "      <th>3</th>\n",
              "      <td>2006-12-23</td>\n",
              "      <td>08:00:28</td>\n",
              "      <td>MEXICO</td>\n",
              "      <td>ESTADO DE MEXICO</td>\n",
              "      <td>TLALNEPANTLA DE BAZ</td>\n",
              "      <td>TLALNEPANTLA DE BAZ</td>\n",
              "      <td>MEXICANA</td>\n",
              "      <td>1.1</td>\n",
              "      <td>DELGADA</td>\n",
              "      <td>HOMBRE</td>\n",
              "      <td>10</td>\n",
              "      <td>LUNARES, A LA ALTURA DE LA CINTURAFORMA DE MAN...</td>\n",
              "      <td>NO ESPECIFICADO</td>\n",
              "      <td>NINGUNO</td>\n",
              "      <td>FGJ - ESTADO DE MEXICO</td>\n",
              "    </tr>\n",
              "    <tr>\n",
              "      <th>4</th>\n",
              "      <td>2008-01-11</td>\n",
              "      <td>12:00:17</td>\n",
              "      <td>MEXICO</td>\n",
              "      <td>ESTADO DE MEXICO</td>\n",
              "      <td>TOLUCA</td>\n",
              "      <td>TOLUCA</td>\n",
              "      <td>MEXICANA</td>\n",
              "      <td>1.1</td>\n",
              "      <td>DELGADA</td>\n",
              "      <td>HOMBRE</td>\n",
              "      <td>4</td>\n",
              "      <td>NO ESPECIFICADO</td>\n",
              "      <td>NO ESPECIFICADO</td>\n",
              "      <td>NINGUNO</td>\n",
              "      <td>FGJ - ESTADO DE MEXICO</td>\n",
              "    </tr>\n",
              "  </tbody>\n",
              "</table>\n",
              "</div>\n",
              "      <button class=\"colab-df-convert\" onclick=\"convertToInteractive('df-86997d70-7b7a-49f8-bf85-2d5a1ae2fde4')\"\n",
              "              title=\"Convert this dataframe to an interactive table.\"\n",
              "              style=\"display:none;\">\n",
              "        \n",
              "  <svg xmlns=\"http://www.w3.org/2000/svg\" height=\"24px\"viewBox=\"0 0 24 24\"\n",
              "       width=\"24px\">\n",
              "    <path d=\"M0 0h24v24H0V0z\" fill=\"none\"/>\n",
              "    <path d=\"M18.56 5.44l.94 2.06.94-2.06 2.06-.94-2.06-.94-.94-2.06-.94 2.06-2.06.94zm-11 1L8.5 8.5l.94-2.06 2.06-.94-2.06-.94L8.5 2.5l-.94 2.06-2.06.94zm10 10l.94 2.06.94-2.06 2.06-.94-2.06-.94-.94-2.06-.94 2.06-2.06.94z\"/><path d=\"M17.41 7.96l-1.37-1.37c-.4-.4-.92-.59-1.43-.59-.52 0-1.04.2-1.43.59L10.3 9.45l-7.72 7.72c-.78.78-.78 2.05 0 2.83L4 21.41c.39.39.9.59 1.41.59.51 0 1.02-.2 1.41-.59l7.78-7.78 2.81-2.81c.8-.78.8-2.07 0-2.86zM5.41 20L4 18.59l7.72-7.72 1.47 1.35L5.41 20z\"/>\n",
              "  </svg>\n",
              "      </button>\n",
              "      \n",
              "  <style>\n",
              "    .colab-df-container {\n",
              "      display:flex;\n",
              "      flex-wrap:wrap;\n",
              "      gap: 12px;\n",
              "    }\n",
              "\n",
              "    .colab-df-convert {\n",
              "      background-color: #E8F0FE;\n",
              "      border: none;\n",
              "      border-radius: 50%;\n",
              "      cursor: pointer;\n",
              "      display: none;\n",
              "      fill: #1967D2;\n",
              "      height: 32px;\n",
              "      padding: 0 0 0 0;\n",
              "      width: 32px;\n",
              "    }\n",
              "\n",
              "    .colab-df-convert:hover {\n",
              "      background-color: #E2EBFA;\n",
              "      box-shadow: 0px 1px 2px rgba(60, 64, 67, 0.3), 0px 1px 3px 1px rgba(60, 64, 67, 0.15);\n",
              "      fill: #174EA6;\n",
              "    }\n",
              "\n",
              "    [theme=dark] .colab-df-convert {\n",
              "      background-color: #3B4455;\n",
              "      fill: #D2E3FC;\n",
              "    }\n",
              "\n",
              "    [theme=dark] .colab-df-convert:hover {\n",
              "      background-color: #434B5C;\n",
              "      box-shadow: 0px 1px 3px 1px rgba(0, 0, 0, 0.15);\n",
              "      filter: drop-shadow(0px 1px 2px rgba(0, 0, 0, 0.3));\n",
              "      fill: #FFFFFF;\n",
              "    }\n",
              "  </style>\n",
              "\n",
              "      <script>\n",
              "        const buttonEl =\n",
              "          document.querySelector('#df-86997d70-7b7a-49f8-bf85-2d5a1ae2fde4 button.colab-df-convert');\n",
              "        buttonEl.style.display =\n",
              "          google.colab.kernel.accessAllowed ? 'block' : 'none';\n",
              "\n",
              "        async function convertToInteractive(key) {\n",
              "          const element = document.querySelector('#df-86997d70-7b7a-49f8-bf85-2d5a1ae2fde4');\n",
              "          const dataTable =\n",
              "            await google.colab.kernel.invokeFunction('convertToInteractive',\n",
              "                                                     [key], {});\n",
              "          if (!dataTable) return;\n",
              "\n",
              "          const docLinkHtml = 'Like what you see? Visit the ' +\n",
              "            '<a target=\"_blank\" href=https://colab.research.google.com/notebooks/data_table.ipynb>data table notebook</a>'\n",
              "            + ' to learn more about interactive tables.';\n",
              "          element.innerHTML = '';\n",
              "          dataTable['output_type'] = 'display_data';\n",
              "          await google.colab.output.renderOutput(dataTable, element);\n",
              "          const docLink = document.createElement('div');\n",
              "          docLink.innerHTML = docLinkHtml;\n",
              "          element.appendChild(docLink);\n",
              "        }\n",
              "      </script>\n",
              "    </div>\n",
              "  </div>\n",
              "  "
            ]
          },
          "metadata": {},
          "execution_count": 23
        }
      ],
      "source": [
        "df.head(5)"
      ]
    },
    {
      "cell_type": "code",
      "execution_count": 24,
      "id": "2302a24e",
      "metadata": {
        "colab": {
          "base_uri": "https://localhost:8080/",
          "height": 0
        },
        "id": "2302a24e",
        "outputId": "7a061c23-7d99-46f7-bb58-9bc1d18a61ba"
      },
      "outputs": [
        {
          "output_type": "execute_result",
          "data": {
            "text/plain": [
              "      Fecha en que se le vio por ultima vez  \\\n",
              "36255                            2018-04-25   \n",
              "36256                            2018-04-22   \n",
              "36257                            2017-07-02   \n",
              "36258                            2017-04-06   \n",
              "36259                            2018-04-15   \n",
              "36260                            2018-04-26   \n",
              "36261                            2018-01-08   \n",
              "36262                            2015-02-02   \n",
              "36263                            2017-08-22   \n",
              "36264                            2018-04-11   \n",
              "\n",
              "      Hora en que se le vio por ultima vez  \\\n",
              "36255                             06:30:00   \n",
              "36256                             11:30:00   \n",
              "36257                             11:14:59   \n",
              "36258                             02:00:00   \n",
              "36259                             06:30:00   \n",
              "36260                             08:00:00   \n",
              "36261                             11:00:00   \n",
              "36262                             07:00:00   \n",
              "36263                             04:00:00   \n",
              "36264                             02:00:00   \n",
              "\n",
              "      Pais en que se le vio por ultima vez  \\\n",
              "36255                               MEXICO   \n",
              "36256                               MEXICO   \n",
              "36257                               MEXICO   \n",
              "36258                               MEXICO   \n",
              "36259                               MEXICO   \n",
              "36260                               MEXICO   \n",
              "36261                               MEXICO   \n",
              "36262                               MEXICO   \n",
              "36263                               MEXICO   \n",
              "36264                               MEXICO   \n",
              "\n",
              "      Entidad en que se le vio por ultima vez  \\\n",
              "36255                                  PUEBLA   \n",
              "36256                                  PUEBLA   \n",
              "36257                                  SONORA   \n",
              "36258                                  COLIMA   \n",
              "36259                                  COLIMA   \n",
              "36260                                  PUEBLA   \n",
              "36261                                  COLIMA   \n",
              "36262                                  PUEBLA   \n",
              "36263                                  COLIMA   \n",
              "36264                              NUEVO LEON   \n",
              "\n",
              "      Municipio en que se le vio por ultima vez  \\\n",
              "36255                     SAN MARTIN TEXMELUCAN   \n",
              "36256                                    PUEBLA   \n",
              "36257                                   CANANEA   \n",
              "36258                                MANZANILLO   \n",
              "36259                                    COLIMA   \n",
              "36260                                    PUEBLA   \n",
              "36261                          VILLA DE ALVAREZ   \n",
              "36262                                     CHILA   \n",
              "36263                          VILLA DE ALVAREZ   \n",
              "36264                  SAN NICOLAS DE LOS GARZA   \n",
              "\n",
              "      Localidad en que se le vio por ultima vez Nacionalidad         Estatura  \\\n",
              "36255                     SAN MARTIN TEXMELUCAN     MEXICANA              1.7   \n",
              "36256                                    PUEBLA     MEXICANA             1.52   \n",
              "36257                                   CANANEA     MEXICANA  NO ESPECIFICADO   \n",
              "36258                                  SANTIAGO     MEXICANA             1.71   \n",
              "36259                                    COLIMA     MEXICANA             1.59   \n",
              "36260                                    PUEBLA     MEXICANA              1.6   \n",
              "36261                          VILLA DE ALVAREZ     MEXICANA              1.7   \n",
              "36262                      CHILAS DE LAS FLORES     MEXICANA             1.77   \n",
              "36263                          VILLA DE ALVAREZ     MEXICANA             1.76   \n",
              "36264                  SAN NICOLAS DE LOS GARZA     MEXICANA              1.6   \n",
              "\n",
              "            Complexion    Sexo             Edad  \\\n",
              "36255          DELGADA  HOMBRE               26   \n",
              "36256          DELGADA   MUJER               18   \n",
              "36257  NO ESPECIFICADO  HOMBRE  NO ESPECIFICADO   \n",
              "36258          ROBUSTA  HOMBRE               22   \n",
              "36259          ROBUSTA  HOMBRE               57   \n",
              "36260          DELGADA  HOMBRE               22   \n",
              "36261          ROBUSTA   MUJER               27   \n",
              "36262          MEDIANA   MUJER               86   \n",
              "36263          ROBUSTA  HOMBRE               41   \n",
              "36264          DELGADA   MUJER               14   \n",
              "\n",
              "                       Descripcion de senas particulares            Etnia  \\\n",
              "36255  PECAS EN EL ROSTRO, PERFORACION EN LA ORJA IZQ...  NO ESPECIFICADO   \n",
              "36256  PERFORACION EN LA LENGUA Y MANCHA BLANCA EN ME...  NO ESPECIFICADO   \n",
              "36257                                    NO ESPECIFICADO  NO ESPECIFICADO   \n",
              "36258                                    NO ESPECIFICADO  NO ESPECIFICADO   \n",
              "36259  TIENE UNA CICATRIZ EN LA PARTE BAJA DE SU ABDO...  NO ESPECIFICADO   \n",
              "36260  LUNAR EN LA MEJILLA Y TATUAJE EN EL CUELLO EN ...  NO ESPECIFICADO   \n",
              "36261  EL OJO IZQUIERDO TIENE UN ENFERMEDAD COMO TIC,...  NO ESPECIFICADO   \n",
              "36262                                    NO ESPECIFICADO  NO ESPECIFICADO   \n",
              "36263  TATUAJE EN EL BRAZO IZQUIERDO CON LA IMAGEN DE...  NO ESPECIFICADO   \n",
              "36264                                    NO ESPECIFICADO  NO ESPECIFICADO   \n",
              "\n",
              "      Discapacidad Dependencia que envio la informacion  \n",
              "36255      NINGUNO                         FGE - PUEBLA  \n",
              "36256      NINGUNO                         FGE - PUEBLA  \n",
              "36257      NINGUNO                         FGE - SONORA  \n",
              "36258      NINGUNO                         PGJ - COLIMA  \n",
              "36259      NINGUNO                         PGJ - COLIMA  \n",
              "36260      NINGUNO                         FGE - PUEBLA  \n",
              "36261      NINGUNO                         PGJ - COLIMA  \n",
              "36262      NINGUNO                         FGE - PUEBLA  \n",
              "36263      NINGUNO                         PGJ - COLIMA  \n",
              "36264      NINGUNO                     PGJ - NUEVO LEON  "
            ],
            "text/html": [
              "\n",
              "  <div id=\"df-b6c891d1-9419-46a4-b16a-61f06cf66349\">\n",
              "    <div class=\"colab-df-container\">\n",
              "      <div>\n",
              "<style scoped>\n",
              "    .dataframe tbody tr th:only-of-type {\n",
              "        vertical-align: middle;\n",
              "    }\n",
              "\n",
              "    .dataframe tbody tr th {\n",
              "        vertical-align: top;\n",
              "    }\n",
              "\n",
              "    .dataframe thead th {\n",
              "        text-align: right;\n",
              "    }\n",
              "</style>\n",
              "<table border=\"1\" class=\"dataframe\">\n",
              "  <thead>\n",
              "    <tr style=\"text-align: right;\">\n",
              "      <th></th>\n",
              "      <th>Fecha en que se le vio por ultima vez</th>\n",
              "      <th>Hora en que se le vio por ultima vez</th>\n",
              "      <th>Pais en que se le vio por ultima vez</th>\n",
              "      <th>Entidad en que se le vio por ultima vez</th>\n",
              "      <th>Municipio en que se le vio por ultima vez</th>\n",
              "      <th>Localidad en que se le vio por ultima vez</th>\n",
              "      <th>Nacionalidad</th>\n",
              "      <th>Estatura</th>\n",
              "      <th>Complexion</th>\n",
              "      <th>Sexo</th>\n",
              "      <th>Edad</th>\n",
              "      <th>Descripcion de senas particulares</th>\n",
              "      <th>Etnia</th>\n",
              "      <th>Discapacidad</th>\n",
              "      <th>Dependencia que envio la informacion</th>\n",
              "    </tr>\n",
              "  </thead>\n",
              "  <tbody>\n",
              "    <tr>\n",
              "      <th>36255</th>\n",
              "      <td>2018-04-25</td>\n",
              "      <td>06:30:00</td>\n",
              "      <td>MEXICO</td>\n",
              "      <td>PUEBLA</td>\n",
              "      <td>SAN MARTIN TEXMELUCAN</td>\n",
              "      <td>SAN MARTIN TEXMELUCAN</td>\n",
              "      <td>MEXICANA</td>\n",
              "      <td>1.7</td>\n",
              "      <td>DELGADA</td>\n",
              "      <td>HOMBRE</td>\n",
              "      <td>26</td>\n",
              "      <td>PECAS EN EL ROSTRO, PERFORACION EN LA ORJA IZQ...</td>\n",
              "      <td>NO ESPECIFICADO</td>\n",
              "      <td>NINGUNO</td>\n",
              "      <td>FGE - PUEBLA</td>\n",
              "    </tr>\n",
              "    <tr>\n",
              "      <th>36256</th>\n",
              "      <td>2018-04-22</td>\n",
              "      <td>11:30:00</td>\n",
              "      <td>MEXICO</td>\n",
              "      <td>PUEBLA</td>\n",
              "      <td>PUEBLA</td>\n",
              "      <td>PUEBLA</td>\n",
              "      <td>MEXICANA</td>\n",
              "      <td>1.52</td>\n",
              "      <td>DELGADA</td>\n",
              "      <td>MUJER</td>\n",
              "      <td>18</td>\n",
              "      <td>PERFORACION EN LA LENGUA Y MANCHA BLANCA EN ME...</td>\n",
              "      <td>NO ESPECIFICADO</td>\n",
              "      <td>NINGUNO</td>\n",
              "      <td>FGE - PUEBLA</td>\n",
              "    </tr>\n",
              "    <tr>\n",
              "      <th>36257</th>\n",
              "      <td>2017-07-02</td>\n",
              "      <td>11:14:59</td>\n",
              "      <td>MEXICO</td>\n",
              "      <td>SONORA</td>\n",
              "      <td>CANANEA</td>\n",
              "      <td>CANANEA</td>\n",
              "      <td>MEXICANA</td>\n",
              "      <td>NO ESPECIFICADO</td>\n",
              "      <td>NO ESPECIFICADO</td>\n",
              "      <td>HOMBRE</td>\n",
              "      <td>NO ESPECIFICADO</td>\n",
              "      <td>NO ESPECIFICADO</td>\n",
              "      <td>NO ESPECIFICADO</td>\n",
              "      <td>NINGUNO</td>\n",
              "      <td>FGE - SONORA</td>\n",
              "    </tr>\n",
              "    <tr>\n",
              "      <th>36258</th>\n",
              "      <td>2017-04-06</td>\n",
              "      <td>02:00:00</td>\n",
              "      <td>MEXICO</td>\n",
              "      <td>COLIMA</td>\n",
              "      <td>MANZANILLO</td>\n",
              "      <td>SANTIAGO</td>\n",
              "      <td>MEXICANA</td>\n",
              "      <td>1.71</td>\n",
              "      <td>ROBUSTA</td>\n",
              "      <td>HOMBRE</td>\n",
              "      <td>22</td>\n",
              "      <td>NO ESPECIFICADO</td>\n",
              "      <td>NO ESPECIFICADO</td>\n",
              "      <td>NINGUNO</td>\n",
              "      <td>PGJ - COLIMA</td>\n",
              "    </tr>\n",
              "    <tr>\n",
              "      <th>36259</th>\n",
              "      <td>2018-04-15</td>\n",
              "      <td>06:30:00</td>\n",
              "      <td>MEXICO</td>\n",
              "      <td>COLIMA</td>\n",
              "      <td>COLIMA</td>\n",
              "      <td>COLIMA</td>\n",
              "      <td>MEXICANA</td>\n",
              "      <td>1.59</td>\n",
              "      <td>ROBUSTA</td>\n",
              "      <td>HOMBRE</td>\n",
              "      <td>57</td>\n",
              "      <td>TIENE UNA CICATRIZ EN LA PARTE BAJA DE SU ABDO...</td>\n",
              "      <td>NO ESPECIFICADO</td>\n",
              "      <td>NINGUNO</td>\n",
              "      <td>PGJ - COLIMA</td>\n",
              "    </tr>\n",
              "    <tr>\n",
              "      <th>36260</th>\n",
              "      <td>2018-04-26</td>\n",
              "      <td>08:00:00</td>\n",
              "      <td>MEXICO</td>\n",
              "      <td>PUEBLA</td>\n",
              "      <td>PUEBLA</td>\n",
              "      <td>PUEBLA</td>\n",
              "      <td>MEXICANA</td>\n",
              "      <td>1.6</td>\n",
              "      <td>DELGADA</td>\n",
              "      <td>HOMBRE</td>\n",
              "      <td>22</td>\n",
              "      <td>LUNAR EN LA MEJILLA Y TATUAJE EN EL CUELLO EN ...</td>\n",
              "      <td>NO ESPECIFICADO</td>\n",
              "      <td>NINGUNO</td>\n",
              "      <td>FGE - PUEBLA</td>\n",
              "    </tr>\n",
              "    <tr>\n",
              "      <th>36261</th>\n",
              "      <td>2018-01-08</td>\n",
              "      <td>11:00:00</td>\n",
              "      <td>MEXICO</td>\n",
              "      <td>COLIMA</td>\n",
              "      <td>VILLA DE ALVAREZ</td>\n",
              "      <td>VILLA DE ALVAREZ</td>\n",
              "      <td>MEXICANA</td>\n",
              "      <td>1.7</td>\n",
              "      <td>ROBUSTA</td>\n",
              "      <td>MUJER</td>\n",
              "      <td>27</td>\n",
              "      <td>EL OJO IZQUIERDO TIENE UN ENFERMEDAD COMO TIC,...</td>\n",
              "      <td>NO ESPECIFICADO</td>\n",
              "      <td>NINGUNO</td>\n",
              "      <td>PGJ - COLIMA</td>\n",
              "    </tr>\n",
              "    <tr>\n",
              "      <th>36262</th>\n",
              "      <td>2015-02-02</td>\n",
              "      <td>07:00:00</td>\n",
              "      <td>MEXICO</td>\n",
              "      <td>PUEBLA</td>\n",
              "      <td>CHILA</td>\n",
              "      <td>CHILAS DE LAS FLORES</td>\n",
              "      <td>MEXICANA</td>\n",
              "      <td>1.77</td>\n",
              "      <td>MEDIANA</td>\n",
              "      <td>MUJER</td>\n",
              "      <td>86</td>\n",
              "      <td>NO ESPECIFICADO</td>\n",
              "      <td>NO ESPECIFICADO</td>\n",
              "      <td>NINGUNO</td>\n",
              "      <td>FGE - PUEBLA</td>\n",
              "    </tr>\n",
              "    <tr>\n",
              "      <th>36263</th>\n",
              "      <td>2017-08-22</td>\n",
              "      <td>04:00:00</td>\n",
              "      <td>MEXICO</td>\n",
              "      <td>COLIMA</td>\n",
              "      <td>VILLA DE ALVAREZ</td>\n",
              "      <td>VILLA DE ALVAREZ</td>\n",
              "      <td>MEXICANA</td>\n",
              "      <td>1.76</td>\n",
              "      <td>ROBUSTA</td>\n",
              "      <td>HOMBRE</td>\n",
              "      <td>41</td>\n",
              "      <td>TATUAJE EN EL BRAZO IZQUIERDO CON LA IMAGEN DE...</td>\n",
              "      <td>NO ESPECIFICADO</td>\n",
              "      <td>NINGUNO</td>\n",
              "      <td>PGJ - COLIMA</td>\n",
              "    </tr>\n",
              "    <tr>\n",
              "      <th>36264</th>\n",
              "      <td>2018-04-11</td>\n",
              "      <td>02:00:00</td>\n",
              "      <td>MEXICO</td>\n",
              "      <td>NUEVO LEON</td>\n",
              "      <td>SAN NICOLAS DE LOS GARZA</td>\n",
              "      <td>SAN NICOLAS DE LOS GARZA</td>\n",
              "      <td>MEXICANA</td>\n",
              "      <td>1.6</td>\n",
              "      <td>DELGADA</td>\n",
              "      <td>MUJER</td>\n",
              "      <td>14</td>\n",
              "      <td>NO ESPECIFICADO</td>\n",
              "      <td>NO ESPECIFICADO</td>\n",
              "      <td>NINGUNO</td>\n",
              "      <td>PGJ - NUEVO LEON</td>\n",
              "    </tr>\n",
              "  </tbody>\n",
              "</table>\n",
              "</div>\n",
              "      <button class=\"colab-df-convert\" onclick=\"convertToInteractive('df-b6c891d1-9419-46a4-b16a-61f06cf66349')\"\n",
              "              title=\"Convert this dataframe to an interactive table.\"\n",
              "              style=\"display:none;\">\n",
              "        \n",
              "  <svg xmlns=\"http://www.w3.org/2000/svg\" height=\"24px\"viewBox=\"0 0 24 24\"\n",
              "       width=\"24px\">\n",
              "    <path d=\"M0 0h24v24H0V0z\" fill=\"none\"/>\n",
              "    <path d=\"M18.56 5.44l.94 2.06.94-2.06 2.06-.94-2.06-.94-.94-2.06-.94 2.06-2.06.94zm-11 1L8.5 8.5l.94-2.06 2.06-.94-2.06-.94L8.5 2.5l-.94 2.06-2.06.94zm10 10l.94 2.06.94-2.06 2.06-.94-2.06-.94-.94-2.06-.94 2.06-2.06.94z\"/><path d=\"M17.41 7.96l-1.37-1.37c-.4-.4-.92-.59-1.43-.59-.52 0-1.04.2-1.43.59L10.3 9.45l-7.72 7.72c-.78.78-.78 2.05 0 2.83L4 21.41c.39.39.9.59 1.41.59.51 0 1.02-.2 1.41-.59l7.78-7.78 2.81-2.81c.8-.78.8-2.07 0-2.86zM5.41 20L4 18.59l7.72-7.72 1.47 1.35L5.41 20z\"/>\n",
              "  </svg>\n",
              "      </button>\n",
              "      \n",
              "  <style>\n",
              "    .colab-df-container {\n",
              "      display:flex;\n",
              "      flex-wrap:wrap;\n",
              "      gap: 12px;\n",
              "    }\n",
              "\n",
              "    .colab-df-convert {\n",
              "      background-color: #E8F0FE;\n",
              "      border: none;\n",
              "      border-radius: 50%;\n",
              "      cursor: pointer;\n",
              "      display: none;\n",
              "      fill: #1967D2;\n",
              "      height: 32px;\n",
              "      padding: 0 0 0 0;\n",
              "      width: 32px;\n",
              "    }\n",
              "\n",
              "    .colab-df-convert:hover {\n",
              "      background-color: #E2EBFA;\n",
              "      box-shadow: 0px 1px 2px rgba(60, 64, 67, 0.3), 0px 1px 3px 1px rgba(60, 64, 67, 0.15);\n",
              "      fill: #174EA6;\n",
              "    }\n",
              "\n",
              "    [theme=dark] .colab-df-convert {\n",
              "      background-color: #3B4455;\n",
              "      fill: #D2E3FC;\n",
              "    }\n",
              "\n",
              "    [theme=dark] .colab-df-convert:hover {\n",
              "      background-color: #434B5C;\n",
              "      box-shadow: 0px 1px 3px 1px rgba(0, 0, 0, 0.15);\n",
              "      filter: drop-shadow(0px 1px 2px rgba(0, 0, 0, 0.3));\n",
              "      fill: #FFFFFF;\n",
              "    }\n",
              "  </style>\n",
              "\n",
              "      <script>\n",
              "        const buttonEl =\n",
              "          document.querySelector('#df-b6c891d1-9419-46a4-b16a-61f06cf66349 button.colab-df-convert');\n",
              "        buttonEl.style.display =\n",
              "          google.colab.kernel.accessAllowed ? 'block' : 'none';\n",
              "\n",
              "        async function convertToInteractive(key) {\n",
              "          const element = document.querySelector('#df-b6c891d1-9419-46a4-b16a-61f06cf66349');\n",
              "          const dataTable =\n",
              "            await google.colab.kernel.invokeFunction('convertToInteractive',\n",
              "                                                     [key], {});\n",
              "          if (!dataTable) return;\n",
              "\n",
              "          const docLinkHtml = 'Like what you see? Visit the ' +\n",
              "            '<a target=\"_blank\" href=https://colab.research.google.com/notebooks/data_table.ipynb>data table notebook</a>'\n",
              "            + ' to learn more about interactive tables.';\n",
              "          element.innerHTML = '';\n",
              "          dataTable['output_type'] = 'display_data';\n",
              "          await google.colab.output.renderOutput(dataTable, element);\n",
              "          const docLink = document.createElement('div');\n",
              "          docLink.innerHTML = docLinkHtml;\n",
              "          element.appendChild(docLink);\n",
              "        }\n",
              "      </script>\n",
              "    </div>\n",
              "  </div>\n",
              "  "
            ]
          },
          "metadata": {},
          "execution_count": 24
        }
      ],
      "source": [
        "df.tail(10)"
      ]
    },
    {
      "cell_type": "markdown",
      "id": "d73a4a68",
      "metadata": {
        "id": "d73a4a68"
      },
      "source": [
        "Del vistazo a los últimos 10 valores de nuestro dataset podemos observar que nuestro dataset contiene algunos datos faltantes etiquetados por el valor `NO ESPECIFICADO`."
      ]
    },
    {
      "cell_type": "markdown",
      "id": "d7a5b92f",
      "metadata": {
        "id": "d7a5b92f"
      },
      "source": [
        "¿Será que existe alguna observación para la cual el pais donde se le vió por última vez sea distinto de México?\n",
        "Para contestar esta incógnita podemos ver si la cantidad de registros que satisfacen que `df['Pais en que se le vio por ultima vez'] != 'MEXICO']` es mayor a 0"
      ]
    },
    {
      "cell_type": "code",
      "execution_count": 25,
      "id": "5e09f8de",
      "metadata": {
        "colab": {
          "base_uri": "https://localhost:8080/"
        },
        "id": "5e09f8de",
        "outputId": "ad42586c-9678-4316-c39b-f8c5bdb22298"
      },
      "outputs": [
        {
          "output_type": "execute_result",
          "data": {
            "text/plain": [
              "False"
            ]
          },
          "metadata": {},
          "execution_count": 25
        }
      ],
      "source": [
        "len(df.loc[df['Pais en que se le vio por ultima vez'] != 'MEXICO']) > 0"
      ]
    },
    {
      "cell_type": "markdown",
      "id": "59421daa",
      "metadata": {
        "id": "59421daa"
      },
      "source": [
        "Como la instrucción anterior retornó `False`, entonces el País en el que se le vio por última vez siempre es México."
      ]
    },
    {
      "cell_type": "markdown",
      "id": "82acb672",
      "metadata": {
        "id": "82acb672"
      },
      "source": [
        "¿Cuáles son todos los posibles valores que puede tomar la variable `Entidad en que se le vio por ultima vez`?"
      ]
    },
    {
      "cell_type": "code",
      "execution_count": 26,
      "id": "a97ec39f",
      "metadata": {
        "colab": {
          "base_uri": "https://localhost:8080/"
        },
        "id": "a97ec39f",
        "outputId": "c9ba7e67-47c9-41ec-cbd7-0835c2ba90b5"
      },
      "outputs": [
        {
          "output_type": "execute_result",
          "data": {
            "text/plain": [
              "{'AGUASCALIENTES',\n",
              " 'BAJA CALIFORNIA',\n",
              " 'BAJA CALIFORNIA SUR',\n",
              " 'CAMPECHE',\n",
              " 'CHIAPAS',\n",
              " 'CHIHUAHUA',\n",
              " 'CIUDAD DE MEXICO',\n",
              " 'COAHUILA DE ZARAGOZA',\n",
              " 'COLIMA',\n",
              " 'DURANGO',\n",
              " 'ESTADO DE MEXICO',\n",
              " 'GUANAJUATO',\n",
              " 'GUERRERO',\n",
              " 'HIDALGO',\n",
              " 'JALISCO',\n",
              " 'MICHOACAN',\n",
              " 'MORELOS',\n",
              " 'NAYARIT',\n",
              " 'NO ESPECIFICADO',\n",
              " 'NUEVO LEON',\n",
              " 'OAXACA',\n",
              " 'PUEBLA',\n",
              " 'QUERETARO',\n",
              " 'QUINTANA ROO',\n",
              " 'SAN LUIS POTOSI',\n",
              " 'SINALOA',\n",
              " 'SONORA',\n",
              " 'TABASCO',\n",
              " 'TAMAULIPAS',\n",
              " 'TLAXCALA',\n",
              " 'VERACRUZ',\n",
              " 'YUCATAN',\n",
              " 'ZACATECAS'}"
            ]
          },
          "metadata": {},
          "execution_count": 26
        }
      ],
      "source": [
        "def val_unicos_col(df, col_name):\n",
        "    return set(df[col_name])\n",
        "\n",
        "col_name = 'Entidad en que se le vio por ultima vez'\n",
        "\n",
        "val_col_entidad = val_unicos_col(df, col_name)\n",
        "val_col_entidad"
      ]
    },
    {
      "cell_type": "markdown",
      "id": "a493e79e",
      "metadata": {
        "id": "a493e79e"
      },
      "source": [
        "¿Cuáles son todos los posibles valores que puede tomar la variable `Municipio en que se le vio por ultima vez`?"
      ]
    },
    {
      "cell_type": "code",
      "execution_count": 27,
      "id": "1daa2235",
      "metadata": {
        "colab": {
          "base_uri": "https://localhost:8080/"
        },
        "id": "1daa2235",
        "outputId": "4c308ff9-1de9-4c43-e46e-79c8b841b704"
      },
      "outputs": [
        {
          "output_type": "execute_result",
          "data": {
            "text/plain": [
              "1068"
            ]
          },
          "metadata": {},
          "execution_count": 27
        }
      ],
      "source": [
        "col_name = 'Municipio en que se le vio por ultima vez'\n",
        "\n",
        "val_col_municipio = val_unicos_col(df, col_name)\n",
        "val_col_municipio\n",
        "len(val_col_municipio)"
      ]
    },
    {
      "cell_type": "markdown",
      "id": "1a91ecb9",
      "metadata": {
        "id": "1a91ecb9"
      },
      "source": [
        "Vemos que son muchos los municipios, por lo que mejor preguntamos por la cantidad de municipios únicos. La respuesta a esta pregunta es 1068 municipios únicos.\n"
      ]
    },
    {
      "cell_type": "markdown",
      "id": "8277b577",
      "metadata": {
        "id": "8277b577"
      },
      "source": [
        "¿Cuáles son todos los posibles valores que puede tomar la variable `Localidad en que se le vio por ultima vez`?"
      ]
    },
    {
      "cell_type": "code",
      "execution_count": 28,
      "id": "9065cce2",
      "metadata": {
        "colab": {
          "base_uri": "https://localhost:8080/"
        },
        "id": "9065cce2",
        "outputId": "98ff51e0-eba8-4d3b-81b0-7f8389b0ed47"
      },
      "outputs": [
        {
          "output_type": "execute_result",
          "data": {
            "text/plain": [
              "2676"
            ]
          },
          "metadata": {},
          "execution_count": 28
        }
      ],
      "source": [
        "col_name = 'Localidad en que se le vio por ultima vez'\n",
        "\n",
        "val_col_localidad = val_unicos_col(df, col_name)\n",
        "val_col_localidad\n",
        "len(val_col_localidad)"
      ]
    },
    {
      "cell_type": "markdown",
      "id": "2994b6fa",
      "metadata": {
        "id": "2994b6fa"
      },
      "source": [
        "De nuevo, vemos que son muchas las localidades, por lo que mejor preguntamos por la cantidad de valores únicos que toma la variable. La respuesta a esta pregunta es 2676 localidades únicas.\n"
      ]
    },
    {
      "cell_type": "markdown",
      "id": "72129e49",
      "metadata": {
        "id": "72129e49"
      },
      "source": [
        "Vale la pena preguntarse si la variable `Nacionalidad` toma valores distintos de `MEXICANA`."
      ]
    },
    {
      "cell_type": "code",
      "execution_count": 29,
      "id": "2d0b8403",
      "metadata": {
        "colab": {
          "base_uri": "https://localhost:8080/"
        },
        "id": "2d0b8403",
        "outputId": "f356e8e2-064b-468c-87cd-2853a54354d3"
      },
      "outputs": [
        {
          "output_type": "execute_result",
          "data": {
            "text/plain": [
              "26"
            ]
          },
          "metadata": {},
          "execution_count": 29
        }
      ],
      "source": [
        "col_name = 'Nacionalidad'\n",
        "\n",
        "val_col_nacionalidad = val_unicos_col(df, col_name)\n",
        "len(val_col_nacionalidad)"
      ]
    },
    {
      "cell_type": "markdown",
      "id": "d107e017",
      "metadata": {
        "id": "d107e017"
      },
      "source": [
        "Como la cantidad de elementos distintos en la columna es 26, entonces podemos afirmar que en efecto la variable `Nacionalidad` toma valores distintos de `MEXICANA`."
      ]
    },
    {
      "cell_type": "markdown",
      "id": "675efb1d",
      "metadata": {
        "id": "675efb1d"
      },
      "source": [
        "De igual forma podemos investigar qué valores únicos puede tomar la variable `Complexion`."
      ]
    },
    {
      "cell_type": "code",
      "execution_count": 30,
      "id": "89dca2fb",
      "metadata": {
        "colab": {
          "base_uri": "https://localhost:8080/"
        },
        "id": "89dca2fb",
        "outputId": "282d1fbf-db27-43e5-e626-85e007df06a8"
      },
      "outputs": [
        {
          "output_type": "execute_result",
          "data": {
            "text/plain": [
              "{'DELGADA',\n",
              " 'MEDIANA',\n",
              " 'NO ESPECIFICADO',\n",
              " 'No Especificado',\n",
              " 'OBESA',\n",
              " 'ROBUSTA'}"
            ]
          },
          "metadata": {},
          "execution_count": 30
        }
      ],
      "source": [
        "col_name = 'Complexion'\n",
        "val_col_complexion = val_unicos_col(df, col_name)\n",
        "val_col_complexion"
      ]
    },
    {
      "cell_type": "markdown",
      "id": "c03c264c",
      "metadata": {
        "id": "c03c264c"
      },
      "source": [
        "De lo anterior podemos observar que en particular en nuestro dataset hay dos formas de especificar que un valor es `NA`:\n",
        "Puede ser escrito como `\"NO ESPECIFICADO\"` o como `No Especificado`. Habría que manejar estas dos formas de escribir el valor en la limpieza de los datos."
      ]
    },
    {
      "cell_type": "markdown",
      "id": "85e7a91f",
      "metadata": {
        "id": "85e7a91f"
      },
      "source": [
        "¿Hay más registros con valor `No Especificado`?"
      ]
    },
    {
      "cell_type": "code",
      "execution_count": 31,
      "id": "f8b192e1",
      "metadata": {
        "id": "f8b192e1"
      },
      "outputs": [],
      "source": [
        "## TODO\n",
        "\n",
        "## Checar si no hay \"NO ESPECIFICADO\"s escritos de forma distinta."
      ]
    },
    {
      "cell_type": "markdown",
      "id": "a275abc7",
      "metadata": {
        "id": "a275abc7"
      },
      "source": [
        "Podemos preguntarnos si el campo `Sexo` permite el registro de gente no binaria."
      ]
    },
    {
      "cell_type": "code",
      "execution_count": 32,
      "id": "b9906b60",
      "metadata": {
        "colab": {
          "base_uri": "https://localhost:8080/"
        },
        "id": "b9906b60",
        "outputId": "1b51df13-b4ad-4a38-b0eb-2a7ff6ac5727"
      },
      "outputs": [
        {
          "output_type": "execute_result",
          "data": {
            "text/plain": [
              "{'HOMBRE', 'MUJER'}"
            ]
          },
          "metadata": {},
          "execution_count": 32
        }
      ],
      "source": [
        "col_name = 'Sexo'\n",
        "val_col_sexo = val_unicos_col(df, col_name)\n",
        "val_col_sexo"
      ]
    },
    {
      "cell_type": "markdown",
      "id": "74dfd0ee",
      "metadata": {
        "id": "74dfd0ee"
      },
      "source": [
        "Por lo tanto, la variable `Sexo` sólo admite dos valores: `HOMBRE` y `MUJER`."
      ]
    },
    {
      "cell_type": "markdown",
      "id": "4802c110",
      "metadata": {
        "id": "4802c110"
      },
      "source": [
        "Veamos cuál es el rango de edad:"
      ]
    },
    {
      "cell_type": "code",
      "execution_count": 33,
      "id": "15b7bec4",
      "metadata": {
        "colab": {
          "base_uri": "https://localhost:8080/"
        },
        "id": "15b7bec4",
        "outputId": "b48f44cb-cee2-4018-bc4a-fd7f24b0b694"
      },
      "outputs": [
        {
          "output_type": "stream",
          "name": "stdout",
          "text": [
            "El mínimo es 1 año(s) y el máximo es de 103 año(s)\n"
          ]
        }
      ],
      "source": [
        "col_name = 'Edad'\n",
        "val_col_edad = val_unicos_col(df, col_name)\n",
        "val_col_edad\n",
        "\n",
        "lista = list(\n",
        "    map(\n",
        "        lambda x: int(x) if x.isdigit() else -1, \n",
        "        val_col_edad\n",
        "    )\n",
        ")\n",
        "lista.sort()\n",
        "\n",
        "print(f'El mínimo es {lista[1]} año(s) y el máximo es de {lista[len(lista)-1]} año(s)')"
      ]
    },
    {
      "cell_type": "markdown",
      "id": "6976b83a",
      "metadata": {
        "id": "6976b83a"
      },
      "source": [
        "Entonces, el rango de edad va desde 1 año hasta 103 años."
      ]
    },
    {
      "cell_type": "markdown",
      "id": "fb7bcc24",
      "metadata": {
        "id": "fb7bcc24"
      },
      "source": [
        "Ahora investiguemos cuál es el rango de alturas:"
      ]
    },
    {
      "cell_type": "code",
      "execution_count": 34,
      "id": "284f7659",
      "metadata": {
        "colab": {
          "base_uri": "https://localhost:8080/"
        },
        "id": "284f7659",
        "outputId": "bb3bd6c4-9d8c-417a-e036-e09fb251966e"
      },
      "outputs": [
        {
          "output_type": "stream",
          "name": "stdout",
          "text": [
            "El mínimo de altura es de 0.3 centimetros y el máximo es de altura es de 170.0 centimetros\n"
          ]
        }
      ],
      "source": [
        "def isfloat(s):\n",
        "    try:\n",
        "        float(s)\n",
        "        \n",
        "        return True\n",
        "    except:\n",
        "        return False\n",
        "\n",
        "col_name = 'Estatura'\n",
        "val_col_estatura = val_unicos_col(df, col_name)\n",
        "val_col_estatura\n",
        "\n",
        "lista = list(\n",
        "    map(\n",
        "        lambda x: float(x) if isfloat(x) else -1, \n",
        "        val_col_estatura\n",
        "    )\n",
        ")\n",
        "lista.sort()\n",
        "lista = list(\n",
        "    filter(lambda x: x != -1, lista)\n",
        ")\n",
        "\n",
        "print(f'El mínimo de altura es de {lista[0]} centimetros y el máximo es de altura es de {lista[len(lista)-1]} centimetros')"
      ]
    },
    {
      "cell_type": "markdown",
      "id": "dbfccede",
      "metadata": {
        "id": "dbfccede"
      },
      "source": [
        "Por lo tanto, el rango de altura es de 0.3 cm a 170.0 cm.\n",
        "\n",
        "Cabe destacar que hubieron valores `NO ESPECIFICADO` (`NA`s), por lo que deben limpiarse según convenga."
      ]
    },
    {
      "cell_type": "markdown",
      "id": "97ab7a99",
      "metadata": {
        "id": "97ab7a99"
      },
      "source": [
        "Los valores que toma la variable `Etnia` son"
      ]
    },
    {
      "cell_type": "code",
      "execution_count": 35,
      "id": "a09fd0e6",
      "metadata": {
        "colab": {
          "base_uri": "https://localhost:8080/"
        },
        "id": "a09fd0e6",
        "outputId": "69864910-a363-4a42-aebe-6d766a1248a8"
      },
      "outputs": [
        {
          "output_type": "execute_result",
          "data": {
            "text/plain": [
              "{'AMUZGOS OAXACA',\n",
              " 'CHATINOS',\n",
              " 'CHICHIMECAS',\n",
              " 'CHINANTECOS',\n",
              " 'CHOLES',\n",
              " 'HUASTECOS',\n",
              " 'HUICHOLES',\n",
              " 'MAMES',\n",
              " 'MAYAS',\n",
              " 'MEXICANEROS',\n",
              " 'MIXTECOS',\n",
              " 'NAHUAS',\n",
              " 'NO ESPECIFICADO',\n",
              " 'OTOMIES',\n",
              " 'PAMES',\n",
              " 'SERIS',\n",
              " 'TARAHUMARAS - RARAMURI',\n",
              " 'TLALPANECOS',\n",
              " 'TOTONACAS',\n",
              " 'YAQUIS'}"
            ]
          },
          "metadata": {},
          "execution_count": 35
        }
      ],
      "source": [
        "col_name = 'Etnia'\n",
        "\n",
        "val_col_etnia = val_unicos_col(df, col_name)\n",
        "val_col_etnia"
      ]
    },
    {
      "cell_type": "markdown",
      "id": "fc86c10f",
      "metadata": {
        "id": "fc86c10f"
      },
      "source": [
        "Otra variable de interés es la variable `Discapacidad`."
      ]
    },
    {
      "cell_type": "code",
      "execution_count": 36,
      "id": "97e73235",
      "metadata": {
        "colab": {
          "base_uri": "https://localhost:8080/"
        },
        "id": "97e73235",
        "outputId": "437128e8-3e9f-4bff-cbd8-04cb3ff77ccc"
      },
      "outputs": [
        {
          "output_type": "execute_result",
          "data": {
            "text/plain": [
              "{'AUTISMO', 'NINGUNO', 'NO ESPECIFICADO', 'SINDROME DE DOWN'}"
            ]
          },
          "metadata": {},
          "execution_count": 36
        }
      ],
      "source": [
        "col_name = 'Discapacidad'\n",
        "\n",
        "val_col_discapacidad = val_unicos_col(df, col_name)\n",
        "val_col_discapacidad"
      ]
    },
    {
      "cell_type": "markdown",
      "id": "76af5326",
      "metadata": {
        "id": "76af5326"
      },
      "source": [
        "Del bloque anterior podemos apreciar que son 4 posibles valores: `AUTISMO`, `NINGUNO`, `NO ESPECIFICADO` y `SINDROME DE DOWN`"
      ]
    },
    {
      "cell_type": "markdown",
      "id": "976a778b",
      "metadata": {
        "id": "976a778b"
      },
      "source": [
        "Finalmente, procedemos a investigar la variable `Dependencia que envio la informacion`"
      ]
    },
    {
      "cell_type": "code",
      "execution_count": 37,
      "id": "60885489",
      "metadata": {
        "colab": {
          "base_uri": "https://localhost:8080/"
        },
        "id": "60885489",
        "outputId": "6c38575e-c4e9-4f4f-d71b-84f146a5d260"
      },
      "outputs": [
        {
          "output_type": "execute_result",
          "data": {
            "text/plain": [
              "{'FGE - AGUASCALIENTES',\n",
              " 'FGE - CAMPECHE',\n",
              " 'FGE - CHIAPAS',\n",
              " 'FGE - CHIHUAHUA',\n",
              " 'FGE - COAHUILA',\n",
              " 'FGE - DURANGO',\n",
              " 'FGE - GUERRERO',\n",
              " 'FGE - JALISCO',\n",
              " 'FGE - MORELOS',\n",
              " 'FGE - NAYARIT',\n",
              " 'FGE - OAXACA',\n",
              " 'FGE - PUEBLA',\n",
              " 'FGE - QUERETARO',\n",
              " 'FGE - QUINTANA ROO',\n",
              " 'FGE - SAN LUIS POTOSI',\n",
              " 'FGE - SINALOA',\n",
              " 'FGE - SONORA',\n",
              " 'FGE - TABASCO',\n",
              " 'FGE - VERACRUZ',\n",
              " 'FGE - YUCATAN',\n",
              " 'FGE - ZACATECAS',\n",
              " 'FGJ - ESTADO DE MEXICO',\n",
              " 'PGJ - BAJA CALIFORNIA',\n",
              " 'PGJ - BAJA CALIFORNIA SUR',\n",
              " 'PGJ - CIUDAD DE MEXICO',\n",
              " 'PGJ - COLIMA',\n",
              " 'PGJ - GUANAJUATO',\n",
              " 'PGJ - HIDALGO',\n",
              " 'PGJ - MICHOACAN',\n",
              " 'PGJ - NUEVO LEON',\n",
              " 'PGJ - TAMAULIPAS',\n",
              " 'PGJ - TLAXCALA'}"
            ]
          },
          "metadata": {},
          "execution_count": 37
        }
      ],
      "source": [
        "col_name = 'Dependencia que envio la informacion'\n",
        "\n",
        "val_col_dependencia = val_unicos_col(df, col_name)\n",
        "val_col_dependencia"
      ]
    },
    {
      "cell_type": "markdown",
      "id": "33fe72ef",
      "metadata": {
        "id": "33fe72ef"
      },
      "source": [
        "### **Conclusiones del primer análisis exploratorio de datos**\n",
        "\n",
        "Nuestro dataset está constituido de 36265 observaciones de 15 variables indizadas del 0 al 36264. Nuestras variables son\n",
        "\n",
        "| Variable |\n",
        "| -------  |\n",
        "| Fecha en que se le vio por ultima vez        |\n",
        "| Hora en que se le vio por ultima vez         |\n",
        "| Pais en que se le vio por ultima vez         |\n",
        "| Entidad en que se le vio por ultima vez      |\n",
        "| Municipio en que se le vio por ultima vez    |\n",
        "| Localidad en que se le vio por ultima vez    |\n",
        "| Nacionalidad                                 |\n",
        "| Estatura                                     |\n",
        "| Complexion                                   |\n",
        "| Sexo                                         |\n",
        "| Edad                                         |\n",
        "| Descripcion de senas particulares            |\n",
        "| Etnia                                        |\n",
        "| Discapacidad                                 |\n",
        "| Dependencia que envio la informacion         |\n",
        "\n",
        "De una observación preliminar de los primeros y últimos 10 datos podemos observar que el tipo de dato inferido por pandas es erróneo (el tipo de dato inferido fue `object`).\n",
        "\n",
        "La propuesta es la siguiente:\n",
        "\n",
        "| Variable | Tipo |\n",
        "| -------  | ---- |\n",
        "| Fecha en que se le vio por ultima vez        | Fecha con formato 'yyyy-mm-dd' |\n",
        "| Hora en que se le vio por ultima vez         | Hora con formato 'hh:mm:ss' |\n",
        "| Pais en que se le vio por ultima vez         | Categórico (`MEXICO`) |\n",
        "| Entidad en que se le vio por ultima vez      | Categórico (valores de `val_col_entidad`) |\n",
        "| Municipio en que se le vio por ultima vez    | Categórica (valores de `val_col_municipio`) |\n",
        "| Localidad en que se le vio por ultima vez    | Categórica (valores de `val_col_localidad`) |\n",
        "| Nacionalidad                                 | Categórica (valores de `val_col_nacionalidad`) |\n",
        "| Estatura                                     | Numérico float64 (`0.3` a `170.0`) |\n",
        "| Complexion                                   | Categórica (`DELGADA`, `MEDIANA`, `NO ESPECIFICADA`, `OBESA`, `ROBUSTA`) |\n",
        "| Sexo                                         | Categórica (`HOMBRE`, `MUJER`) |\n",
        "| Edad                                         | Numérico int64 (`1` a `103`) |\n",
        "| Descripcion de senas particulares            | object (string) |\n",
        "| Etnia                                        | Categórica (valores de  `val_col_etnia`)|\n",
        "| Discapacidad                                 | Categórica (`AUTISMO`, `NINGUNO`, `NO ESPECIFICADO`, `SINDROME DE DOWN`) |\n",
        "| Dependencia que envio la informacion         | Categórica (valores de `val_col_dependencia`) |"
      ]
    },
    {
      "cell_type": "markdown",
      "source": [
        "# **Transformación y limpieza de los datos**"
      ],
      "metadata": {
        "id": "6D7uc8YX4Gyw"
      },
      "id": "6D7uc8YX4Gyw"
    },
    {
      "cell_type": "markdown",
      "source": [
        "Conocemo los tipos de datos del Dataframe original"
      ],
      "metadata": {
        "id": "yToUrIWS4fDL"
      },
      "id": "yToUrIWS4fDL"
    },
    {
      "cell_type": "code",
      "source": [
        "df.dtypes"
      ],
      "metadata": {
        "colab": {
          "base_uri": "https://localhost:8080/"
        },
        "id": "oHRREvZMXnz0",
        "outputId": "69f95c18-d29a-4d79-a430-11e68a947f03"
      },
      "execution_count": 38,
      "outputs": [
        {
          "output_type": "execute_result",
          "data": {
            "text/plain": [
              "Fecha en que se le vio por ultima vez        object\n",
              "Hora en que se le vio por ultima vez         object\n",
              "Pais en que se le vio por ultima vez         object\n",
              "Entidad en que se le vio por ultima vez      object\n",
              "Municipio en que se le vio por ultima vez    object\n",
              "Localidad en que se le vio por ultima vez    object\n",
              "Nacionalidad                                 object\n",
              "Estatura                                     object\n",
              "Complexion                                   object\n",
              "Sexo                                         object\n",
              "Edad                                         object\n",
              "Descripcion de senas particulares            object\n",
              "Etnia                                        object\n",
              "Discapacidad                                 object\n",
              "Dependencia que envio la informacion         object\n",
              "dtype: object"
            ]
          },
          "metadata": {},
          "execution_count": 38
        }
      ],
      "id": "oHRREvZMXnz0"
    },
    {
      "cell_type": "markdown",
      "source": [
        "Buscamos NANS"
      ],
      "metadata": {
        "id": "6PXv71KA57Bz"
      },
      "id": "6PXv71KA57Bz"
    },
    {
      "cell_type": "code",
      "source": [
        "#Exploramos NAN\n",
        "df.isna().sum()"
      ],
      "metadata": {
        "colab": {
          "base_uri": "https://localhost:8080/"
        },
        "id": "c73KNh1ZqkKh",
        "outputId": "d08a2798-cb98-4053-cc00-6828edfdd8a9"
      },
      "execution_count": 39,
      "outputs": [
        {
          "output_type": "execute_result",
          "data": {
            "text/plain": [
              "Fecha en que se le vio por ultima vez        0\n",
              "Hora en que se le vio por ultima vez         0\n",
              "Pais en que se le vio por ultima vez         0\n",
              "Entidad en que se le vio por ultima vez      0\n",
              "Municipio en que se le vio por ultima vez    0\n",
              "Localidad en que se le vio por ultima vez    0\n",
              "Nacionalidad                                 0\n",
              "Estatura                                     0\n",
              "Complexion                                   0\n",
              "Sexo                                         0\n",
              "Edad                                         0\n",
              "Descripcion de senas particulares            0\n",
              "Etnia                                        0\n",
              "Discapacidad                                 0\n",
              "Dependencia que envio la informacion         0\n",
              "dtype: int64"
            ]
          },
          "metadata": {},
          "execution_count": 39
        }
      ],
      "id": "c73KNh1ZqkKh"
    },
    {
      "cell_type": "markdown",
      "source": [
        "Como vemos que el index empieza con 0, lo reindexamos para iniciar con 1 hasta el 36265 y se lo aplicamos a un Dataframe, conservando el original\n"
      ],
      "metadata": {
        "id": "dHJjmfjp6JGB"
      },
      "id": "dHJjmfjp6JGB"
    },
    {
      "cell_type": "code",
      "source": [
        "fin=len(df.index)\n",
        "#fin\n",
        "lst = list(np.arange(1,fin+1))\n",
        "#lst\n",
        "len(lst)\n",
        "df_2=df.reindex(lst, method='ffill')\n",
        "df_2"
      ],
      "metadata": {
        "id": "Tkd7wPxe6wmr",
        "outputId": "91ee7715-71d6-4b1f-db7f-99d10b81379e",
        "colab": {
          "base_uri": "https://localhost:8080/",
          "height": 1000
        }
      },
      "id": "Tkd7wPxe6wmr",
      "execution_count": 40,
      "outputs": [
        {
          "output_type": "execute_result",
          "data": {
            "text/plain": [
              "      Fecha en que se le vio por ultima vez  \\\n",
              "1                                2007-02-05   \n",
              "2                                2009-03-14   \n",
              "3                                2006-12-23   \n",
              "4                                2008-01-11   \n",
              "5                                2012-05-27   \n",
              "...                                     ...   \n",
              "36261                            2018-01-08   \n",
              "36262                            2015-02-02   \n",
              "36263                            2017-08-22   \n",
              "36264                            2018-04-11   \n",
              "36265                            2018-04-11   \n",
              "\n",
              "      Hora en que se le vio por ultima vez  \\\n",
              "1                                 02:00:26   \n",
              "2                                 08:30:54   \n",
              "3                                 08:00:28   \n",
              "4                                 12:00:17   \n",
              "5                                 12:00:43   \n",
              "...                                    ...   \n",
              "36261                             11:00:00   \n",
              "36262                             07:00:00   \n",
              "36263                             04:00:00   \n",
              "36264                             02:00:00   \n",
              "36265                             02:00:00   \n",
              "\n",
              "      Pais en que se le vio por ultima vez  \\\n",
              "1                                   MEXICO   \n",
              "2                                   MEXICO   \n",
              "3                                   MEXICO   \n",
              "4                                   MEXICO   \n",
              "5                                   MEXICO   \n",
              "...                                    ...   \n",
              "36261                               MEXICO   \n",
              "36262                               MEXICO   \n",
              "36263                               MEXICO   \n",
              "36264                               MEXICO   \n",
              "36265                               MEXICO   \n",
              "\n",
              "      Entidad en que se le vio por ultima vez  \\\n",
              "1                            ESTADO DE MEXICO   \n",
              "2                            ESTADO DE MEXICO   \n",
              "3                            ESTADO DE MEXICO   \n",
              "4                            ESTADO DE MEXICO   \n",
              "5                            ESTADO DE MEXICO   \n",
              "...                                       ...   \n",
              "36261                                  COLIMA   \n",
              "36262                                  PUEBLA   \n",
              "36263                                  COLIMA   \n",
              "36264                              NUEVO LEON   \n",
              "36265                              NUEVO LEON   \n",
              "\n",
              "      Municipio en que se le vio por ultima vez  \\\n",
              "1                                VALLE DE BRAVO   \n",
              "2                                        CHALCO   \n",
              "3                           TLALNEPANTLA DE BAZ   \n",
              "4                                        TOLUCA   \n",
              "5                                NICOLAS ROMERO   \n",
              "...                                         ...   \n",
              "36261                          VILLA DE ALVAREZ   \n",
              "36262                                     CHILA   \n",
              "36263                          VILLA DE ALVAREZ   \n",
              "36264                  SAN NICOLAS DE LOS GARZA   \n",
              "36265                  SAN NICOLAS DE LOS GARZA   \n",
              "\n",
              "      Localidad en que se le vio por ultima vez Nacionalidad Estatura  \\\n",
              "1                                VALLE DE BRAVO     MEXICANA      1.1   \n",
              "2                                        CHALCO     MEXICANA      1.1   \n",
              "3                           TLALNEPANTLA DE BAZ     MEXICANA      1.1   \n",
              "4                                        TOLUCA     MEXICANA      1.1   \n",
              "5                                NICOLAS ROMERO     MEXICANA      1.1   \n",
              "...                                         ...          ...      ...   \n",
              "36261                          VILLA DE ALVAREZ     MEXICANA      1.7   \n",
              "36262                      CHILAS DE LAS FLORES     MEXICANA     1.77   \n",
              "36263                          VILLA DE ALVAREZ     MEXICANA     1.76   \n",
              "36264                  SAN NICOLAS DE LOS GARZA     MEXICANA      1.6   \n",
              "36265                  SAN NICOLAS DE LOS GARZA     MEXICANA      1.6   \n",
              "\n",
              "      Complexion    Sexo Edad  \\\n",
              "1        DELGADA   MUJER    4   \n",
              "2        DELGADA  HOMBRE    6   \n",
              "3        DELGADA  HOMBRE   10   \n",
              "4        DELGADA  HOMBRE    4   \n",
              "5        DELGADA  HOMBRE    9   \n",
              "...          ...     ...  ...   \n",
              "36261    ROBUSTA   MUJER   27   \n",
              "36262    MEDIANA   MUJER   86   \n",
              "36263    ROBUSTA  HOMBRE   41   \n",
              "36264    DELGADA   MUJER   14   \n",
              "36265    DELGADA   MUJER   14   \n",
              "\n",
              "                       Descripcion de senas particulares            Etnia  \\\n",
              "1                                        NO ESPECIFICADO  NO ESPECIFICADO   \n",
              "2      MANCHAS, PARTE SUPERIOR DE PIERNA DERECHA, CIC...  NO ESPECIFICADO   \n",
              "3      LUNARES, A LA ALTURA DE LA CINTURAFORMA DE MAN...  NO ESPECIFICADO   \n",
              "4                                        NO ESPECIFICADO  NO ESPECIFICADO   \n",
              "5                                        NO ESPECIFICADO  NO ESPECIFICADO   \n",
              "...                                                  ...              ...   \n",
              "36261  EL OJO IZQUIERDO TIENE UN ENFERMEDAD COMO TIC,...  NO ESPECIFICADO   \n",
              "36262                                    NO ESPECIFICADO  NO ESPECIFICADO   \n",
              "36263  TATUAJE EN EL BRAZO IZQUIERDO CON LA IMAGEN DE...  NO ESPECIFICADO   \n",
              "36264                                    NO ESPECIFICADO  NO ESPECIFICADO   \n",
              "36265                                    NO ESPECIFICADO  NO ESPECIFICADO   \n",
              "\n",
              "      Discapacidad Dependencia que envio la informacion  \n",
              "1          NINGUNO               FGJ - ESTADO DE MEXICO  \n",
              "2          NINGUNO               FGJ - ESTADO DE MEXICO  \n",
              "3          NINGUNO               FGJ - ESTADO DE MEXICO  \n",
              "4          NINGUNO               FGJ - ESTADO DE MEXICO  \n",
              "5          NINGUNO               FGJ - ESTADO DE MEXICO  \n",
              "...            ...                                  ...  \n",
              "36261      NINGUNO                         PGJ - COLIMA  \n",
              "36262      NINGUNO                         FGE - PUEBLA  \n",
              "36263      NINGUNO                         PGJ - COLIMA  \n",
              "36264      NINGUNO                     PGJ - NUEVO LEON  \n",
              "36265      NINGUNO                     PGJ - NUEVO LEON  \n",
              "\n",
              "[36265 rows x 15 columns]"
            ],
            "text/html": [
              "\n",
              "  <div id=\"df-d22c265b-2601-4a5f-a7e4-371fee85d841\">\n",
              "    <div class=\"colab-df-container\">\n",
              "      <div>\n",
              "<style scoped>\n",
              "    .dataframe tbody tr th:only-of-type {\n",
              "        vertical-align: middle;\n",
              "    }\n",
              "\n",
              "    .dataframe tbody tr th {\n",
              "        vertical-align: top;\n",
              "    }\n",
              "\n",
              "    .dataframe thead th {\n",
              "        text-align: right;\n",
              "    }\n",
              "</style>\n",
              "<table border=\"1\" class=\"dataframe\">\n",
              "  <thead>\n",
              "    <tr style=\"text-align: right;\">\n",
              "      <th></th>\n",
              "      <th>Fecha en que se le vio por ultima vez</th>\n",
              "      <th>Hora en que se le vio por ultima vez</th>\n",
              "      <th>Pais en que se le vio por ultima vez</th>\n",
              "      <th>Entidad en que se le vio por ultima vez</th>\n",
              "      <th>Municipio en que se le vio por ultima vez</th>\n",
              "      <th>Localidad en que se le vio por ultima vez</th>\n",
              "      <th>Nacionalidad</th>\n",
              "      <th>Estatura</th>\n",
              "      <th>Complexion</th>\n",
              "      <th>Sexo</th>\n",
              "      <th>Edad</th>\n",
              "      <th>Descripcion de senas particulares</th>\n",
              "      <th>Etnia</th>\n",
              "      <th>Discapacidad</th>\n",
              "      <th>Dependencia que envio la informacion</th>\n",
              "    </tr>\n",
              "  </thead>\n",
              "  <tbody>\n",
              "    <tr>\n",
              "      <th>1</th>\n",
              "      <td>2007-02-05</td>\n",
              "      <td>02:00:26</td>\n",
              "      <td>MEXICO</td>\n",
              "      <td>ESTADO DE MEXICO</td>\n",
              "      <td>VALLE DE BRAVO</td>\n",
              "      <td>VALLE DE BRAVO</td>\n",
              "      <td>MEXICANA</td>\n",
              "      <td>1.1</td>\n",
              "      <td>DELGADA</td>\n",
              "      <td>MUJER</td>\n",
              "      <td>4</td>\n",
              "      <td>NO ESPECIFICADO</td>\n",
              "      <td>NO ESPECIFICADO</td>\n",
              "      <td>NINGUNO</td>\n",
              "      <td>FGJ - ESTADO DE MEXICO</td>\n",
              "    </tr>\n",
              "    <tr>\n",
              "      <th>2</th>\n",
              "      <td>2009-03-14</td>\n",
              "      <td>08:30:54</td>\n",
              "      <td>MEXICO</td>\n",
              "      <td>ESTADO DE MEXICO</td>\n",
              "      <td>CHALCO</td>\n",
              "      <td>CHALCO</td>\n",
              "      <td>MEXICANA</td>\n",
              "      <td>1.1</td>\n",
              "      <td>DELGADA</td>\n",
              "      <td>HOMBRE</td>\n",
              "      <td>6</td>\n",
              "      <td>MANCHAS, PARTE SUPERIOR DE PIERNA DERECHA, CIC...</td>\n",
              "      <td>NO ESPECIFICADO</td>\n",
              "      <td>NINGUNO</td>\n",
              "      <td>FGJ - ESTADO DE MEXICO</td>\n",
              "    </tr>\n",
              "    <tr>\n",
              "      <th>3</th>\n",
              "      <td>2006-12-23</td>\n",
              "      <td>08:00:28</td>\n",
              "      <td>MEXICO</td>\n",
              "      <td>ESTADO DE MEXICO</td>\n",
              "      <td>TLALNEPANTLA DE BAZ</td>\n",
              "      <td>TLALNEPANTLA DE BAZ</td>\n",
              "      <td>MEXICANA</td>\n",
              "      <td>1.1</td>\n",
              "      <td>DELGADA</td>\n",
              "      <td>HOMBRE</td>\n",
              "      <td>10</td>\n",
              "      <td>LUNARES, A LA ALTURA DE LA CINTURAFORMA DE MAN...</td>\n",
              "      <td>NO ESPECIFICADO</td>\n",
              "      <td>NINGUNO</td>\n",
              "      <td>FGJ - ESTADO DE MEXICO</td>\n",
              "    </tr>\n",
              "    <tr>\n",
              "      <th>4</th>\n",
              "      <td>2008-01-11</td>\n",
              "      <td>12:00:17</td>\n",
              "      <td>MEXICO</td>\n",
              "      <td>ESTADO DE MEXICO</td>\n",
              "      <td>TOLUCA</td>\n",
              "      <td>TOLUCA</td>\n",
              "      <td>MEXICANA</td>\n",
              "      <td>1.1</td>\n",
              "      <td>DELGADA</td>\n",
              "      <td>HOMBRE</td>\n",
              "      <td>4</td>\n",
              "      <td>NO ESPECIFICADO</td>\n",
              "      <td>NO ESPECIFICADO</td>\n",
              "      <td>NINGUNO</td>\n",
              "      <td>FGJ - ESTADO DE MEXICO</td>\n",
              "    </tr>\n",
              "    <tr>\n",
              "      <th>5</th>\n",
              "      <td>2012-05-27</td>\n",
              "      <td>12:00:43</td>\n",
              "      <td>MEXICO</td>\n",
              "      <td>ESTADO DE MEXICO</td>\n",
              "      <td>NICOLAS ROMERO</td>\n",
              "      <td>NICOLAS ROMERO</td>\n",
              "      <td>MEXICANA</td>\n",
              "      <td>1.1</td>\n",
              "      <td>DELGADA</td>\n",
              "      <td>HOMBRE</td>\n",
              "      <td>9</td>\n",
              "      <td>NO ESPECIFICADO</td>\n",
              "      <td>NO ESPECIFICADO</td>\n",
              "      <td>NINGUNO</td>\n",
              "      <td>FGJ - ESTADO DE MEXICO</td>\n",
              "    </tr>\n",
              "    <tr>\n",
              "      <th>...</th>\n",
              "      <td>...</td>\n",
              "      <td>...</td>\n",
              "      <td>...</td>\n",
              "      <td>...</td>\n",
              "      <td>...</td>\n",
              "      <td>...</td>\n",
              "      <td>...</td>\n",
              "      <td>...</td>\n",
              "      <td>...</td>\n",
              "      <td>...</td>\n",
              "      <td>...</td>\n",
              "      <td>...</td>\n",
              "      <td>...</td>\n",
              "      <td>...</td>\n",
              "      <td>...</td>\n",
              "    </tr>\n",
              "    <tr>\n",
              "      <th>36261</th>\n",
              "      <td>2018-01-08</td>\n",
              "      <td>11:00:00</td>\n",
              "      <td>MEXICO</td>\n",
              "      <td>COLIMA</td>\n",
              "      <td>VILLA DE ALVAREZ</td>\n",
              "      <td>VILLA DE ALVAREZ</td>\n",
              "      <td>MEXICANA</td>\n",
              "      <td>1.7</td>\n",
              "      <td>ROBUSTA</td>\n",
              "      <td>MUJER</td>\n",
              "      <td>27</td>\n",
              "      <td>EL OJO IZQUIERDO TIENE UN ENFERMEDAD COMO TIC,...</td>\n",
              "      <td>NO ESPECIFICADO</td>\n",
              "      <td>NINGUNO</td>\n",
              "      <td>PGJ - COLIMA</td>\n",
              "    </tr>\n",
              "    <tr>\n",
              "      <th>36262</th>\n",
              "      <td>2015-02-02</td>\n",
              "      <td>07:00:00</td>\n",
              "      <td>MEXICO</td>\n",
              "      <td>PUEBLA</td>\n",
              "      <td>CHILA</td>\n",
              "      <td>CHILAS DE LAS FLORES</td>\n",
              "      <td>MEXICANA</td>\n",
              "      <td>1.77</td>\n",
              "      <td>MEDIANA</td>\n",
              "      <td>MUJER</td>\n",
              "      <td>86</td>\n",
              "      <td>NO ESPECIFICADO</td>\n",
              "      <td>NO ESPECIFICADO</td>\n",
              "      <td>NINGUNO</td>\n",
              "      <td>FGE - PUEBLA</td>\n",
              "    </tr>\n",
              "    <tr>\n",
              "      <th>36263</th>\n",
              "      <td>2017-08-22</td>\n",
              "      <td>04:00:00</td>\n",
              "      <td>MEXICO</td>\n",
              "      <td>COLIMA</td>\n",
              "      <td>VILLA DE ALVAREZ</td>\n",
              "      <td>VILLA DE ALVAREZ</td>\n",
              "      <td>MEXICANA</td>\n",
              "      <td>1.76</td>\n",
              "      <td>ROBUSTA</td>\n",
              "      <td>HOMBRE</td>\n",
              "      <td>41</td>\n",
              "      <td>TATUAJE EN EL BRAZO IZQUIERDO CON LA IMAGEN DE...</td>\n",
              "      <td>NO ESPECIFICADO</td>\n",
              "      <td>NINGUNO</td>\n",
              "      <td>PGJ - COLIMA</td>\n",
              "    </tr>\n",
              "    <tr>\n",
              "      <th>36264</th>\n",
              "      <td>2018-04-11</td>\n",
              "      <td>02:00:00</td>\n",
              "      <td>MEXICO</td>\n",
              "      <td>NUEVO LEON</td>\n",
              "      <td>SAN NICOLAS DE LOS GARZA</td>\n",
              "      <td>SAN NICOLAS DE LOS GARZA</td>\n",
              "      <td>MEXICANA</td>\n",
              "      <td>1.6</td>\n",
              "      <td>DELGADA</td>\n",
              "      <td>MUJER</td>\n",
              "      <td>14</td>\n",
              "      <td>NO ESPECIFICADO</td>\n",
              "      <td>NO ESPECIFICADO</td>\n",
              "      <td>NINGUNO</td>\n",
              "      <td>PGJ - NUEVO LEON</td>\n",
              "    </tr>\n",
              "    <tr>\n",
              "      <th>36265</th>\n",
              "      <td>2018-04-11</td>\n",
              "      <td>02:00:00</td>\n",
              "      <td>MEXICO</td>\n",
              "      <td>NUEVO LEON</td>\n",
              "      <td>SAN NICOLAS DE LOS GARZA</td>\n",
              "      <td>SAN NICOLAS DE LOS GARZA</td>\n",
              "      <td>MEXICANA</td>\n",
              "      <td>1.6</td>\n",
              "      <td>DELGADA</td>\n",
              "      <td>MUJER</td>\n",
              "      <td>14</td>\n",
              "      <td>NO ESPECIFICADO</td>\n",
              "      <td>NO ESPECIFICADO</td>\n",
              "      <td>NINGUNO</td>\n",
              "      <td>PGJ - NUEVO LEON</td>\n",
              "    </tr>\n",
              "  </tbody>\n",
              "</table>\n",
              "<p>36265 rows × 15 columns</p>\n",
              "</div>\n",
              "      <button class=\"colab-df-convert\" onclick=\"convertToInteractive('df-d22c265b-2601-4a5f-a7e4-371fee85d841')\"\n",
              "              title=\"Convert this dataframe to an interactive table.\"\n",
              "              style=\"display:none;\">\n",
              "        \n",
              "  <svg xmlns=\"http://www.w3.org/2000/svg\" height=\"24px\"viewBox=\"0 0 24 24\"\n",
              "       width=\"24px\">\n",
              "    <path d=\"M0 0h24v24H0V0z\" fill=\"none\"/>\n",
              "    <path d=\"M18.56 5.44l.94 2.06.94-2.06 2.06-.94-2.06-.94-.94-2.06-.94 2.06-2.06.94zm-11 1L8.5 8.5l.94-2.06 2.06-.94-2.06-.94L8.5 2.5l-.94 2.06-2.06.94zm10 10l.94 2.06.94-2.06 2.06-.94-2.06-.94-.94-2.06-.94 2.06-2.06.94z\"/><path d=\"M17.41 7.96l-1.37-1.37c-.4-.4-.92-.59-1.43-.59-.52 0-1.04.2-1.43.59L10.3 9.45l-7.72 7.72c-.78.78-.78 2.05 0 2.83L4 21.41c.39.39.9.59 1.41.59.51 0 1.02-.2 1.41-.59l7.78-7.78 2.81-2.81c.8-.78.8-2.07 0-2.86zM5.41 20L4 18.59l7.72-7.72 1.47 1.35L5.41 20z\"/>\n",
              "  </svg>\n",
              "      </button>\n",
              "      \n",
              "  <style>\n",
              "    .colab-df-container {\n",
              "      display:flex;\n",
              "      flex-wrap:wrap;\n",
              "      gap: 12px;\n",
              "    }\n",
              "\n",
              "    .colab-df-convert {\n",
              "      background-color: #E8F0FE;\n",
              "      border: none;\n",
              "      border-radius: 50%;\n",
              "      cursor: pointer;\n",
              "      display: none;\n",
              "      fill: #1967D2;\n",
              "      height: 32px;\n",
              "      padding: 0 0 0 0;\n",
              "      width: 32px;\n",
              "    }\n",
              "\n",
              "    .colab-df-convert:hover {\n",
              "      background-color: #E2EBFA;\n",
              "      box-shadow: 0px 1px 2px rgba(60, 64, 67, 0.3), 0px 1px 3px 1px rgba(60, 64, 67, 0.15);\n",
              "      fill: #174EA6;\n",
              "    }\n",
              "\n",
              "    [theme=dark] .colab-df-convert {\n",
              "      background-color: #3B4455;\n",
              "      fill: #D2E3FC;\n",
              "    }\n",
              "\n",
              "    [theme=dark] .colab-df-convert:hover {\n",
              "      background-color: #434B5C;\n",
              "      box-shadow: 0px 1px 3px 1px rgba(0, 0, 0, 0.15);\n",
              "      filter: drop-shadow(0px 1px 2px rgba(0, 0, 0, 0.3));\n",
              "      fill: #FFFFFF;\n",
              "    }\n",
              "  </style>\n",
              "\n",
              "      <script>\n",
              "        const buttonEl =\n",
              "          document.querySelector('#df-d22c265b-2601-4a5f-a7e4-371fee85d841 button.colab-df-convert');\n",
              "        buttonEl.style.display =\n",
              "          google.colab.kernel.accessAllowed ? 'block' : 'none';\n",
              "\n",
              "        async function convertToInteractive(key) {\n",
              "          const element = document.querySelector('#df-d22c265b-2601-4a5f-a7e4-371fee85d841');\n",
              "          const dataTable =\n",
              "            await google.colab.kernel.invokeFunction('convertToInteractive',\n",
              "                                                     [key], {});\n",
              "          if (!dataTable) return;\n",
              "\n",
              "          const docLinkHtml = 'Like what you see? Visit the ' +\n",
              "            '<a target=\"_blank\" href=https://colab.research.google.com/notebooks/data_table.ipynb>data table notebook</a>'\n",
              "            + ' to learn more about interactive tables.';\n",
              "          element.innerHTML = '';\n",
              "          dataTable['output_type'] = 'display_data';\n",
              "          await google.colab.output.renderOutput(dataTable, element);\n",
              "          const docLink = document.createElement('div');\n",
              "          docLink.innerHTML = docLinkHtml;\n",
              "          element.appendChild(docLink);\n",
              "        }\n",
              "      </script>\n",
              "    </div>\n",
              "  </div>\n",
              "  "
            ]
          },
          "metadata": {},
          "execution_count": 40
        }
      ]
    },
    {
      "cell_type": "markdown",
      "source": [
        "Observamos el nombre de las columnas, las primeras 6 se pueden estandarizar y las demas para cumplir la convención"
      ],
      "metadata": {
        "id": "poNAod9B7sNp"
      },
      "id": "poNAod9B7sNp"
    },
    {
      "cell_type": "code",
      "source": [
        "# Se contruye un mapeo con el nombre de las columnas esperados\n",
        "column_name_mapping = {\n",
        "    'Fecha en que se le vio por ultima vez': 'fecha',\n",
        "    'Hora en que se le vio por ultima vez': 'hora',\n",
        "    'Pais en que se le vio por ultima vez': 'pais',\n",
        "    'Entidad en que se le vio por ultima vez': 'entidad',\n",
        "    'Municipio en que se le vio por ultima vez': 'municipio',\n",
        "    'Localidad en que se le vio por ultima vez': 'localidad',\n",
        "    'Nacionalidad': 'nacionalidad',\n",
        "    'Estatura': 'estatura',\n",
        "    'Complexion': 'complexion',\n",
        "    'Sexo': 'sexo',\n",
        "    'Edad': 'edad',\n",
        "    'Descripcion de senas particulares': 'senas_particulares',\n",
        "    'Etnia': 'etnia',\n",
        "    'Discapacidad': 'discapacidad',\n",
        "    'Dependencia que envio la informacion': 'dependecia_origen'\n",
        "    \n",
        "}\n",
        "df_2 = df_2.rename(columns=column_name_mapping)\n",
        "df_2"
      ],
      "metadata": {
        "id": "oFLs6q9c1oQq",
        "outputId": "10df1f71-77cd-4c98-9539-e4c21c091e4c",
        "colab": {
          "base_uri": "https://localhost:8080/",
          "height": 852
        }
      },
      "execution_count": 41,
      "outputs": [
        {
          "output_type": "execute_result",
          "data": {
            "text/plain": [
              "            fecha      hora    pais           entidad  \\\n",
              "1      2007-02-05  02:00:26  MEXICO  ESTADO DE MEXICO   \n",
              "2      2009-03-14  08:30:54  MEXICO  ESTADO DE MEXICO   \n",
              "3      2006-12-23  08:00:28  MEXICO  ESTADO DE MEXICO   \n",
              "4      2008-01-11  12:00:17  MEXICO  ESTADO DE MEXICO   \n",
              "5      2012-05-27  12:00:43  MEXICO  ESTADO DE MEXICO   \n",
              "...           ...       ...     ...               ...   \n",
              "36261  2018-01-08  11:00:00  MEXICO            COLIMA   \n",
              "36262  2015-02-02  07:00:00  MEXICO            PUEBLA   \n",
              "36263  2017-08-22  04:00:00  MEXICO            COLIMA   \n",
              "36264  2018-04-11  02:00:00  MEXICO        NUEVO LEON   \n",
              "36265  2018-04-11  02:00:00  MEXICO        NUEVO LEON   \n",
              "\n",
              "                      municipio                 localidad nacionalidad  \\\n",
              "1                VALLE DE BRAVO            VALLE DE BRAVO     MEXICANA   \n",
              "2                        CHALCO                    CHALCO     MEXICANA   \n",
              "3           TLALNEPANTLA DE BAZ       TLALNEPANTLA DE BAZ     MEXICANA   \n",
              "4                        TOLUCA                    TOLUCA     MEXICANA   \n",
              "5                NICOLAS ROMERO            NICOLAS ROMERO     MEXICANA   \n",
              "...                         ...                       ...          ...   \n",
              "36261          VILLA DE ALVAREZ          VILLA DE ALVAREZ     MEXICANA   \n",
              "36262                     CHILA      CHILAS DE LAS FLORES     MEXICANA   \n",
              "36263          VILLA DE ALVAREZ          VILLA DE ALVAREZ     MEXICANA   \n",
              "36264  SAN NICOLAS DE LOS GARZA  SAN NICOLAS DE LOS GARZA     MEXICANA   \n",
              "36265  SAN NICOLAS DE LOS GARZA  SAN NICOLAS DE LOS GARZA     MEXICANA   \n",
              "\n",
              "      estatura complexion    sexo edad  \\\n",
              "1          1.1    DELGADA   MUJER    4   \n",
              "2          1.1    DELGADA  HOMBRE    6   \n",
              "3          1.1    DELGADA  HOMBRE   10   \n",
              "4          1.1    DELGADA  HOMBRE    4   \n",
              "5          1.1    DELGADA  HOMBRE    9   \n",
              "...        ...        ...     ...  ...   \n",
              "36261      1.7    ROBUSTA   MUJER   27   \n",
              "36262     1.77    MEDIANA   MUJER   86   \n",
              "36263     1.76    ROBUSTA  HOMBRE   41   \n",
              "36264      1.6    DELGADA   MUJER   14   \n",
              "36265      1.6    DELGADA   MUJER   14   \n",
              "\n",
              "                                      senas_particulares            etnia  \\\n",
              "1                                        NO ESPECIFICADO  NO ESPECIFICADO   \n",
              "2      MANCHAS, PARTE SUPERIOR DE PIERNA DERECHA, CIC...  NO ESPECIFICADO   \n",
              "3      LUNARES, A LA ALTURA DE LA CINTURAFORMA DE MAN...  NO ESPECIFICADO   \n",
              "4                                        NO ESPECIFICADO  NO ESPECIFICADO   \n",
              "5                                        NO ESPECIFICADO  NO ESPECIFICADO   \n",
              "...                                                  ...              ...   \n",
              "36261  EL OJO IZQUIERDO TIENE UN ENFERMEDAD COMO TIC,...  NO ESPECIFICADO   \n",
              "36262                                    NO ESPECIFICADO  NO ESPECIFICADO   \n",
              "36263  TATUAJE EN EL BRAZO IZQUIERDO CON LA IMAGEN DE...  NO ESPECIFICADO   \n",
              "36264                                    NO ESPECIFICADO  NO ESPECIFICADO   \n",
              "36265                                    NO ESPECIFICADO  NO ESPECIFICADO   \n",
              "\n",
              "      discapacidad       dependecia_origen  \n",
              "1          NINGUNO  FGJ - ESTADO DE MEXICO  \n",
              "2          NINGUNO  FGJ - ESTADO DE MEXICO  \n",
              "3          NINGUNO  FGJ - ESTADO DE MEXICO  \n",
              "4          NINGUNO  FGJ - ESTADO DE MEXICO  \n",
              "5          NINGUNO  FGJ - ESTADO DE MEXICO  \n",
              "...            ...                     ...  \n",
              "36261      NINGUNO            PGJ - COLIMA  \n",
              "36262      NINGUNO            FGE - PUEBLA  \n",
              "36263      NINGUNO            PGJ - COLIMA  \n",
              "36264      NINGUNO        PGJ - NUEVO LEON  \n",
              "36265      NINGUNO        PGJ - NUEVO LEON  \n",
              "\n",
              "[36265 rows x 15 columns]"
            ],
            "text/html": [
              "\n",
              "  <div id=\"df-26fbfdd0-be76-4c82-80a8-806d6479e014\">\n",
              "    <div class=\"colab-df-container\">\n",
              "      <div>\n",
              "<style scoped>\n",
              "    .dataframe tbody tr th:only-of-type {\n",
              "        vertical-align: middle;\n",
              "    }\n",
              "\n",
              "    .dataframe tbody tr th {\n",
              "        vertical-align: top;\n",
              "    }\n",
              "\n",
              "    .dataframe thead th {\n",
              "        text-align: right;\n",
              "    }\n",
              "</style>\n",
              "<table border=\"1\" class=\"dataframe\">\n",
              "  <thead>\n",
              "    <tr style=\"text-align: right;\">\n",
              "      <th></th>\n",
              "      <th>fecha</th>\n",
              "      <th>hora</th>\n",
              "      <th>pais</th>\n",
              "      <th>entidad</th>\n",
              "      <th>municipio</th>\n",
              "      <th>localidad</th>\n",
              "      <th>nacionalidad</th>\n",
              "      <th>estatura</th>\n",
              "      <th>complexion</th>\n",
              "      <th>sexo</th>\n",
              "      <th>edad</th>\n",
              "      <th>senas_particulares</th>\n",
              "      <th>etnia</th>\n",
              "      <th>discapacidad</th>\n",
              "      <th>dependecia_origen</th>\n",
              "    </tr>\n",
              "  </thead>\n",
              "  <tbody>\n",
              "    <tr>\n",
              "      <th>1</th>\n",
              "      <td>2007-02-05</td>\n",
              "      <td>02:00:26</td>\n",
              "      <td>MEXICO</td>\n",
              "      <td>ESTADO DE MEXICO</td>\n",
              "      <td>VALLE DE BRAVO</td>\n",
              "      <td>VALLE DE BRAVO</td>\n",
              "      <td>MEXICANA</td>\n",
              "      <td>1.1</td>\n",
              "      <td>DELGADA</td>\n",
              "      <td>MUJER</td>\n",
              "      <td>4</td>\n",
              "      <td>NO ESPECIFICADO</td>\n",
              "      <td>NO ESPECIFICADO</td>\n",
              "      <td>NINGUNO</td>\n",
              "      <td>FGJ - ESTADO DE MEXICO</td>\n",
              "    </tr>\n",
              "    <tr>\n",
              "      <th>2</th>\n",
              "      <td>2009-03-14</td>\n",
              "      <td>08:30:54</td>\n",
              "      <td>MEXICO</td>\n",
              "      <td>ESTADO DE MEXICO</td>\n",
              "      <td>CHALCO</td>\n",
              "      <td>CHALCO</td>\n",
              "      <td>MEXICANA</td>\n",
              "      <td>1.1</td>\n",
              "      <td>DELGADA</td>\n",
              "      <td>HOMBRE</td>\n",
              "      <td>6</td>\n",
              "      <td>MANCHAS, PARTE SUPERIOR DE PIERNA DERECHA, CIC...</td>\n",
              "      <td>NO ESPECIFICADO</td>\n",
              "      <td>NINGUNO</td>\n",
              "      <td>FGJ - ESTADO DE MEXICO</td>\n",
              "    </tr>\n",
              "    <tr>\n",
              "      <th>3</th>\n",
              "      <td>2006-12-23</td>\n",
              "      <td>08:00:28</td>\n",
              "      <td>MEXICO</td>\n",
              "      <td>ESTADO DE MEXICO</td>\n",
              "      <td>TLALNEPANTLA DE BAZ</td>\n",
              "      <td>TLALNEPANTLA DE BAZ</td>\n",
              "      <td>MEXICANA</td>\n",
              "      <td>1.1</td>\n",
              "      <td>DELGADA</td>\n",
              "      <td>HOMBRE</td>\n",
              "      <td>10</td>\n",
              "      <td>LUNARES, A LA ALTURA DE LA CINTURAFORMA DE MAN...</td>\n",
              "      <td>NO ESPECIFICADO</td>\n",
              "      <td>NINGUNO</td>\n",
              "      <td>FGJ - ESTADO DE MEXICO</td>\n",
              "    </tr>\n",
              "    <tr>\n",
              "      <th>4</th>\n",
              "      <td>2008-01-11</td>\n",
              "      <td>12:00:17</td>\n",
              "      <td>MEXICO</td>\n",
              "      <td>ESTADO DE MEXICO</td>\n",
              "      <td>TOLUCA</td>\n",
              "      <td>TOLUCA</td>\n",
              "      <td>MEXICANA</td>\n",
              "      <td>1.1</td>\n",
              "      <td>DELGADA</td>\n",
              "      <td>HOMBRE</td>\n",
              "      <td>4</td>\n",
              "      <td>NO ESPECIFICADO</td>\n",
              "      <td>NO ESPECIFICADO</td>\n",
              "      <td>NINGUNO</td>\n",
              "      <td>FGJ - ESTADO DE MEXICO</td>\n",
              "    </tr>\n",
              "    <tr>\n",
              "      <th>5</th>\n",
              "      <td>2012-05-27</td>\n",
              "      <td>12:00:43</td>\n",
              "      <td>MEXICO</td>\n",
              "      <td>ESTADO DE MEXICO</td>\n",
              "      <td>NICOLAS ROMERO</td>\n",
              "      <td>NICOLAS ROMERO</td>\n",
              "      <td>MEXICANA</td>\n",
              "      <td>1.1</td>\n",
              "      <td>DELGADA</td>\n",
              "      <td>HOMBRE</td>\n",
              "      <td>9</td>\n",
              "      <td>NO ESPECIFICADO</td>\n",
              "      <td>NO ESPECIFICADO</td>\n",
              "      <td>NINGUNO</td>\n",
              "      <td>FGJ - ESTADO DE MEXICO</td>\n",
              "    </tr>\n",
              "    <tr>\n",
              "      <th>...</th>\n",
              "      <td>...</td>\n",
              "      <td>...</td>\n",
              "      <td>...</td>\n",
              "      <td>...</td>\n",
              "      <td>...</td>\n",
              "      <td>...</td>\n",
              "      <td>...</td>\n",
              "      <td>...</td>\n",
              "      <td>...</td>\n",
              "      <td>...</td>\n",
              "      <td>...</td>\n",
              "      <td>...</td>\n",
              "      <td>...</td>\n",
              "      <td>...</td>\n",
              "      <td>...</td>\n",
              "    </tr>\n",
              "    <tr>\n",
              "      <th>36261</th>\n",
              "      <td>2018-01-08</td>\n",
              "      <td>11:00:00</td>\n",
              "      <td>MEXICO</td>\n",
              "      <td>COLIMA</td>\n",
              "      <td>VILLA DE ALVAREZ</td>\n",
              "      <td>VILLA DE ALVAREZ</td>\n",
              "      <td>MEXICANA</td>\n",
              "      <td>1.7</td>\n",
              "      <td>ROBUSTA</td>\n",
              "      <td>MUJER</td>\n",
              "      <td>27</td>\n",
              "      <td>EL OJO IZQUIERDO TIENE UN ENFERMEDAD COMO TIC,...</td>\n",
              "      <td>NO ESPECIFICADO</td>\n",
              "      <td>NINGUNO</td>\n",
              "      <td>PGJ - COLIMA</td>\n",
              "    </tr>\n",
              "    <tr>\n",
              "      <th>36262</th>\n",
              "      <td>2015-02-02</td>\n",
              "      <td>07:00:00</td>\n",
              "      <td>MEXICO</td>\n",
              "      <td>PUEBLA</td>\n",
              "      <td>CHILA</td>\n",
              "      <td>CHILAS DE LAS FLORES</td>\n",
              "      <td>MEXICANA</td>\n",
              "      <td>1.77</td>\n",
              "      <td>MEDIANA</td>\n",
              "      <td>MUJER</td>\n",
              "      <td>86</td>\n",
              "      <td>NO ESPECIFICADO</td>\n",
              "      <td>NO ESPECIFICADO</td>\n",
              "      <td>NINGUNO</td>\n",
              "      <td>FGE - PUEBLA</td>\n",
              "    </tr>\n",
              "    <tr>\n",
              "      <th>36263</th>\n",
              "      <td>2017-08-22</td>\n",
              "      <td>04:00:00</td>\n",
              "      <td>MEXICO</td>\n",
              "      <td>COLIMA</td>\n",
              "      <td>VILLA DE ALVAREZ</td>\n",
              "      <td>VILLA DE ALVAREZ</td>\n",
              "      <td>MEXICANA</td>\n",
              "      <td>1.76</td>\n",
              "      <td>ROBUSTA</td>\n",
              "      <td>HOMBRE</td>\n",
              "      <td>41</td>\n",
              "      <td>TATUAJE EN EL BRAZO IZQUIERDO CON LA IMAGEN DE...</td>\n",
              "      <td>NO ESPECIFICADO</td>\n",
              "      <td>NINGUNO</td>\n",
              "      <td>PGJ - COLIMA</td>\n",
              "    </tr>\n",
              "    <tr>\n",
              "      <th>36264</th>\n",
              "      <td>2018-04-11</td>\n",
              "      <td>02:00:00</td>\n",
              "      <td>MEXICO</td>\n",
              "      <td>NUEVO LEON</td>\n",
              "      <td>SAN NICOLAS DE LOS GARZA</td>\n",
              "      <td>SAN NICOLAS DE LOS GARZA</td>\n",
              "      <td>MEXICANA</td>\n",
              "      <td>1.6</td>\n",
              "      <td>DELGADA</td>\n",
              "      <td>MUJER</td>\n",
              "      <td>14</td>\n",
              "      <td>NO ESPECIFICADO</td>\n",
              "      <td>NO ESPECIFICADO</td>\n",
              "      <td>NINGUNO</td>\n",
              "      <td>PGJ - NUEVO LEON</td>\n",
              "    </tr>\n",
              "    <tr>\n",
              "      <th>36265</th>\n",
              "      <td>2018-04-11</td>\n",
              "      <td>02:00:00</td>\n",
              "      <td>MEXICO</td>\n",
              "      <td>NUEVO LEON</td>\n",
              "      <td>SAN NICOLAS DE LOS GARZA</td>\n",
              "      <td>SAN NICOLAS DE LOS GARZA</td>\n",
              "      <td>MEXICANA</td>\n",
              "      <td>1.6</td>\n",
              "      <td>DELGADA</td>\n",
              "      <td>MUJER</td>\n",
              "      <td>14</td>\n",
              "      <td>NO ESPECIFICADO</td>\n",
              "      <td>NO ESPECIFICADO</td>\n",
              "      <td>NINGUNO</td>\n",
              "      <td>PGJ - NUEVO LEON</td>\n",
              "    </tr>\n",
              "  </tbody>\n",
              "</table>\n",
              "<p>36265 rows × 15 columns</p>\n",
              "</div>\n",
              "      <button class=\"colab-df-convert\" onclick=\"convertToInteractive('df-26fbfdd0-be76-4c82-80a8-806d6479e014')\"\n",
              "              title=\"Convert this dataframe to an interactive table.\"\n",
              "              style=\"display:none;\">\n",
              "        \n",
              "  <svg xmlns=\"http://www.w3.org/2000/svg\" height=\"24px\"viewBox=\"0 0 24 24\"\n",
              "       width=\"24px\">\n",
              "    <path d=\"M0 0h24v24H0V0z\" fill=\"none\"/>\n",
              "    <path d=\"M18.56 5.44l.94 2.06.94-2.06 2.06-.94-2.06-.94-.94-2.06-.94 2.06-2.06.94zm-11 1L8.5 8.5l.94-2.06 2.06-.94-2.06-.94L8.5 2.5l-.94 2.06-2.06.94zm10 10l.94 2.06.94-2.06 2.06-.94-2.06-.94-.94-2.06-.94 2.06-2.06.94z\"/><path d=\"M17.41 7.96l-1.37-1.37c-.4-.4-.92-.59-1.43-.59-.52 0-1.04.2-1.43.59L10.3 9.45l-7.72 7.72c-.78.78-.78 2.05 0 2.83L4 21.41c.39.39.9.59 1.41.59.51 0 1.02-.2 1.41-.59l7.78-7.78 2.81-2.81c.8-.78.8-2.07 0-2.86zM5.41 20L4 18.59l7.72-7.72 1.47 1.35L5.41 20z\"/>\n",
              "  </svg>\n",
              "      </button>\n",
              "      \n",
              "  <style>\n",
              "    .colab-df-container {\n",
              "      display:flex;\n",
              "      flex-wrap:wrap;\n",
              "      gap: 12px;\n",
              "    }\n",
              "\n",
              "    .colab-df-convert {\n",
              "      background-color: #E8F0FE;\n",
              "      border: none;\n",
              "      border-radius: 50%;\n",
              "      cursor: pointer;\n",
              "      display: none;\n",
              "      fill: #1967D2;\n",
              "      height: 32px;\n",
              "      padding: 0 0 0 0;\n",
              "      width: 32px;\n",
              "    }\n",
              "\n",
              "    .colab-df-convert:hover {\n",
              "      background-color: #E2EBFA;\n",
              "      box-shadow: 0px 1px 2px rgba(60, 64, 67, 0.3), 0px 1px 3px 1px rgba(60, 64, 67, 0.15);\n",
              "      fill: #174EA6;\n",
              "    }\n",
              "\n",
              "    [theme=dark] .colab-df-convert {\n",
              "      background-color: #3B4455;\n",
              "      fill: #D2E3FC;\n",
              "    }\n",
              "\n",
              "    [theme=dark] .colab-df-convert:hover {\n",
              "      background-color: #434B5C;\n",
              "      box-shadow: 0px 1px 3px 1px rgba(0, 0, 0, 0.15);\n",
              "      filter: drop-shadow(0px 1px 2px rgba(0, 0, 0, 0.3));\n",
              "      fill: #FFFFFF;\n",
              "    }\n",
              "  </style>\n",
              "\n",
              "      <script>\n",
              "        const buttonEl =\n",
              "          document.querySelector('#df-26fbfdd0-be76-4c82-80a8-806d6479e014 button.colab-df-convert');\n",
              "        buttonEl.style.display =\n",
              "          google.colab.kernel.accessAllowed ? 'block' : 'none';\n",
              "\n",
              "        async function convertToInteractive(key) {\n",
              "          const element = document.querySelector('#df-26fbfdd0-be76-4c82-80a8-806d6479e014');\n",
              "          const dataTable =\n",
              "            await google.colab.kernel.invokeFunction('convertToInteractive',\n",
              "                                                     [key], {});\n",
              "          if (!dataTable) return;\n",
              "\n",
              "          const docLinkHtml = 'Like what you see? Visit the ' +\n",
              "            '<a target=\"_blank\" href=https://colab.research.google.com/notebooks/data_table.ipynb>data table notebook</a>'\n",
              "            + ' to learn more about interactive tables.';\n",
              "          element.innerHTML = '';\n",
              "          dataTable['output_type'] = 'display_data';\n",
              "          await google.colab.output.renderOutput(dataTable, element);\n",
              "          const docLink = document.createElement('div');\n",
              "          docLink.innerHTML = docLinkHtml;\n",
              "          element.appendChild(docLink);\n",
              "        }\n",
              "      </script>\n",
              "    </div>\n",
              "  </div>\n",
              "  "
            ]
          },
          "metadata": {},
          "execution_count": 41
        }
      ],
      "id": "oFLs6q9c1oQq"
    },
    {
      "cell_type": "markdown",
      "source": [
        "En nuestro Dataframe nos dimos cuenta que no tenemos NANS, sin embargo tenemos valores con la leyenda \"NO ESPECIFICADO\""
      ],
      "metadata": {
        "id": "cwo6_V8t88Up"
      },
      "id": "cwo6_V8t88Up"
    },
    {
      "cell_type": "code",
      "source": [
        "# Explorandovalores denominados \"NO ESPECIFICADOS\"\n",
        "print(f'{(\"Columna\"):42} =NO ESPECIFICADO= \\n')\n",
        "for col in df_2.columns:\n",
        "    print(f'{(col):42} | {(df_2[col] == \"NO ESPECIFICADO\").sum()}')"
      ],
      "metadata": {
        "colab": {
          "base_uri": "https://localhost:8080/"
        },
        "id": "D8oQaGYUbjJk",
        "outputId": "3fef3c0e-a7d0-46ec-e680-684af7faa017"
      },
      "execution_count": 42,
      "outputs": [
        {
          "output_type": "stream",
          "name": "stdout",
          "text": [
            "Columna                                    =NO ESPECIFICADO= \n",
            "\n",
            "fecha                                      | 338\n",
            "hora                                       | 16\n",
            "pais                                       | 0\n",
            "entidad                                    | 29\n",
            "municipio                                  | 668\n",
            "localidad                                  | 3413\n",
            "nacionalidad                               | 2040\n",
            "estatura                                   | 11007\n",
            "complexion                                 | 10569\n",
            "sexo                                       | 0\n",
            "edad                                       | 3156\n",
            "senas_particulares                         | 18915\n",
            "etnia                                      | 36133\n",
            "discapacidad                               | 1047\n",
            "dependecia_origen                          | 0\n"
          ]
        }
      ],
      "id": "D8oQaGYUbjJk"
    },
    {
      "cell_type": "code",
      "source": [
        "# INICIAMOS CON LA LIMPIEZA DE DATOS\n",
        "#\n",
        "# Quitamos los no especificados del campo fecha, colocando en su lugar otra cadena =0000-00-00\n",
        "df_2.loc[df_2['fecha'] == 'NO ESPECIFICADO', 'fecha'] = '0000-00-00'\n",
        "#Revisamos de nuevo \n",
        "print(f'{(\"Columna\"):42} =NO ESPECIFICADO= \\n')\n",
        "for col in df_2.columns:\n",
        "    print(f'{(col):42} | {(df_2[col] == \"NO ESPECIFICADO\").sum()}')"
      ],
      "metadata": {
        "colab": {
          "base_uri": "https://localhost:8080/"
        },
        "id": "caxdH8k1c5_3",
        "outputId": "6d26911a-f6a7-43c6-b008-db519433511a"
      },
      "execution_count": 43,
      "outputs": [
        {
          "output_type": "stream",
          "name": "stdout",
          "text": [
            "Columna                                    =NO ESPECIFICADO= \n",
            "\n",
            "fecha                                      | 0\n",
            "hora                                       | 16\n",
            "pais                                       | 0\n",
            "entidad                                    | 29\n",
            "municipio                                  | 668\n",
            "localidad                                  | 3413\n",
            "nacionalidad                               | 2040\n",
            "estatura                                   | 11007\n",
            "complexion                                 | 10569\n",
            "sexo                                       | 0\n",
            "edad                                       | 3156\n",
            "senas_particulares                         | 18915\n",
            "etnia                                      | 36133\n",
            "discapacidad                               | 1047\n",
            "dependecia_origen                          | 0\n"
          ]
        }
      ],
      "id": "caxdH8k1c5_3"
    },
    {
      "cell_type": "code",
      "source": [
        "#Convertimos el tipo de dato de fecha_ultvz especificando que si hay un error que continue\n",
        "df_2['fecha']= pd.to_datetime(df_2['fecha'],errors='coerce')\n",
        "\n",
        "#Convertimos la serie de edad a numerico con pd.to_numeric, inidicando que si encuentra error que continue, pero los pone como NAN\n",
        "df_2['edad']= pd.to_numeric(df_2['edad'],errors='coerce')\n",
        "#rellenamos los NAN de Edad con la media\n",
        "mean_value=df_2['edad'].mean() \n",
        "mean_value=round(mean_value)\n",
        "df_2[\"edad\"].fillna(value=mean_value, inplace=True)\n",
        "#Ahora si convertimos la columna edad a int\n",
        "df_2[\"edad\"]= df_2[\"edad\"].astype(int)\n",
        "df_2.dtypes"
      ],
      "metadata": {
        "id": "l8Bvmy9CeLxE",
        "outputId": "4282f114-d59b-4bf8-80ae-5f80bd4456d3",
        "colab": {
          "base_uri": "https://localhost:8080/"
        }
      },
      "execution_count": 44,
      "outputs": [
        {
          "output_type": "execute_result",
          "data": {
            "text/plain": [
              "fecha                 datetime64[ns]\n",
              "hora                          object\n",
              "pais                          object\n",
              "entidad                       object\n",
              "municipio                     object\n",
              "localidad                     object\n",
              "nacionalidad                  object\n",
              "estatura                      object\n",
              "complexion                    object\n",
              "sexo                          object\n",
              "edad                           int64\n",
              "senas_particulares            object\n",
              "etnia                         object\n",
              "discapacidad                  object\n",
              "dependecia_origen             object\n",
              "dtype: object"
            ]
          },
          "metadata": {},
          "execution_count": 44
        }
      ],
      "id": "l8Bvmy9CeLxE"
    },
    {
      "cell_type": "markdown",
      "source": [
        "**Queremos saber ¿en que estado de la republica mexicana existen más sujetos extraviados?**"
      ],
      "metadata": {
        "id": "t_uo_580JOFx"
      },
      "id": "t_uo_580JOFx"
    },
    {
      "cell_type": "code",
      "source": [
        "# CONSTRUIMOS NUEVOS DATA FRAMES PARA INTENTAR RESPONDER LAS PREGUNTAS PLANTEADAS\n",
        "estados= pd.Series(df_2['entidad'], name='Estado')\n",
        "cuenta = df_2.groupby(['entidad']).size()\n",
        "df_freq_estados = pd.DataFrame(df_2.groupby(['entidad']).size())\n",
        "df_freq_estados = df_freq_estados.rename(columns = {0:\"frecuencia\"})\n",
        "# Ordenamos el Data Frame en forme descendente\n",
        "df_freq_estados.sort_values('frecuencia', ascending=False, inplace=True)\n",
        "print(f'El estado con más sujetos extraviados es {df_freq_estados.index[0]} con {df_freq_estados[\"frecuencia\"][0]} ')"
      ],
      "metadata": {
        "colab": {
          "base_uri": "https://localhost:8080/"
        },
        "id": "f1HJxzRvXKdM",
        "outputId": "cd635718-4370-4bf8-b008-a6da89909a92"
      },
      "execution_count": 45,
      "outputs": [
        {
          "output_type": "stream",
          "name": "stdout",
          "text": [
            "El estado con más sujetos extraviados es TAMAULIPAS con 5990 \n"
          ]
        }
      ],
      "id": "f1HJxzRvXKdM"
    },
    {
      "cell_type": "markdown",
      "source": [
        "Ahora presentamos completo el data frame con todas las entidades y numeros de sujetos extraviados"
      ],
      "metadata": {
        "id": "nyy8hsmjO-sc"
      },
      "id": "nyy8hsmjO-sc"
    },
    {
      "cell_type": "code",
      "source": [
        "df_freq_estados"
      ],
      "metadata": {
        "id": "b6uflNopPKV-",
        "outputId": "d351f91f-c658-4d80-b658-46f2ed0173ff",
        "colab": {
          "base_uri": "https://localhost:8080/",
          "height": 1000
        }
      },
      "id": "b6uflNopPKV-",
      "execution_count": 46,
      "outputs": [
        {
          "output_type": "execute_result",
          "data": {
            "text/plain": [
              "                      frecuencia\n",
              "entidad                         \n",
              "TAMAULIPAS                  5990\n",
              "ESTADO DE MEXICO            3890\n",
              "JALISCO                     3362\n",
              "SINALOA                     3027\n",
              "NUEVO LEON                  2896\n",
              "CHIHUAHUA                   2186\n",
              "SONORA                      2149\n",
              "PUEBLA                      2069\n",
              "COAHUILA DE ZARAGOZA        1753\n",
              "GUERRERO                    1482\n",
              "MICHOACAN                   1215\n",
              "BAJA CALIFORNIA             1024\n",
              "CIUDAD DE MEXICO             744\n",
              "GUANAJUATO                   615\n",
              "COLIMA                       593\n",
              "VERACRUZ                     524\n",
              "ZACATECAS                    510\n",
              "DURANGO                      420\n",
              "QUERETARO                    284\n",
              "MORELOS                      241\n",
              "AGUASCALIENTES               223\n",
              "OAXACA                       191\n",
              "HIDALGO                      173\n",
              "NAYARIT                      145\n",
              "CHIAPAS                      108\n",
              "YUCATAN                       99\n",
              "SAN LUIS POTOSI               97\n",
              "TABASCO                       67\n",
              "QUINTANA ROO                  61\n",
              "BAJA CALIFORNIA SUR           39\n",
              "CAMPECHE                      35\n",
              "NO ESPECIFICADO               29\n",
              "TLAXCALA                      24"
            ],
            "text/html": [
              "\n",
              "  <div id=\"df-8fee4396-4342-41a6-b6bf-9a0098a68151\">\n",
              "    <div class=\"colab-df-container\">\n",
              "      <div>\n",
              "<style scoped>\n",
              "    .dataframe tbody tr th:only-of-type {\n",
              "        vertical-align: middle;\n",
              "    }\n",
              "\n",
              "    .dataframe tbody tr th {\n",
              "        vertical-align: top;\n",
              "    }\n",
              "\n",
              "    .dataframe thead th {\n",
              "        text-align: right;\n",
              "    }\n",
              "</style>\n",
              "<table border=\"1\" class=\"dataframe\">\n",
              "  <thead>\n",
              "    <tr style=\"text-align: right;\">\n",
              "      <th></th>\n",
              "      <th>frecuencia</th>\n",
              "    </tr>\n",
              "    <tr>\n",
              "      <th>entidad</th>\n",
              "      <th></th>\n",
              "    </tr>\n",
              "  </thead>\n",
              "  <tbody>\n",
              "    <tr>\n",
              "      <th>TAMAULIPAS</th>\n",
              "      <td>5990</td>\n",
              "    </tr>\n",
              "    <tr>\n",
              "      <th>ESTADO DE MEXICO</th>\n",
              "      <td>3890</td>\n",
              "    </tr>\n",
              "    <tr>\n",
              "      <th>JALISCO</th>\n",
              "      <td>3362</td>\n",
              "    </tr>\n",
              "    <tr>\n",
              "      <th>SINALOA</th>\n",
              "      <td>3027</td>\n",
              "    </tr>\n",
              "    <tr>\n",
              "      <th>NUEVO LEON</th>\n",
              "      <td>2896</td>\n",
              "    </tr>\n",
              "    <tr>\n",
              "      <th>CHIHUAHUA</th>\n",
              "      <td>2186</td>\n",
              "    </tr>\n",
              "    <tr>\n",
              "      <th>SONORA</th>\n",
              "      <td>2149</td>\n",
              "    </tr>\n",
              "    <tr>\n",
              "      <th>PUEBLA</th>\n",
              "      <td>2069</td>\n",
              "    </tr>\n",
              "    <tr>\n",
              "      <th>COAHUILA DE ZARAGOZA</th>\n",
              "      <td>1753</td>\n",
              "    </tr>\n",
              "    <tr>\n",
              "      <th>GUERRERO</th>\n",
              "      <td>1482</td>\n",
              "    </tr>\n",
              "    <tr>\n",
              "      <th>MICHOACAN</th>\n",
              "      <td>1215</td>\n",
              "    </tr>\n",
              "    <tr>\n",
              "      <th>BAJA CALIFORNIA</th>\n",
              "      <td>1024</td>\n",
              "    </tr>\n",
              "    <tr>\n",
              "      <th>CIUDAD DE MEXICO</th>\n",
              "      <td>744</td>\n",
              "    </tr>\n",
              "    <tr>\n",
              "      <th>GUANAJUATO</th>\n",
              "      <td>615</td>\n",
              "    </tr>\n",
              "    <tr>\n",
              "      <th>COLIMA</th>\n",
              "      <td>593</td>\n",
              "    </tr>\n",
              "    <tr>\n",
              "      <th>VERACRUZ</th>\n",
              "      <td>524</td>\n",
              "    </tr>\n",
              "    <tr>\n",
              "      <th>ZACATECAS</th>\n",
              "      <td>510</td>\n",
              "    </tr>\n",
              "    <tr>\n",
              "      <th>DURANGO</th>\n",
              "      <td>420</td>\n",
              "    </tr>\n",
              "    <tr>\n",
              "      <th>QUERETARO</th>\n",
              "      <td>284</td>\n",
              "    </tr>\n",
              "    <tr>\n",
              "      <th>MORELOS</th>\n",
              "      <td>241</td>\n",
              "    </tr>\n",
              "    <tr>\n",
              "      <th>AGUASCALIENTES</th>\n",
              "      <td>223</td>\n",
              "    </tr>\n",
              "    <tr>\n",
              "      <th>OAXACA</th>\n",
              "      <td>191</td>\n",
              "    </tr>\n",
              "    <tr>\n",
              "      <th>HIDALGO</th>\n",
              "      <td>173</td>\n",
              "    </tr>\n",
              "    <tr>\n",
              "      <th>NAYARIT</th>\n",
              "      <td>145</td>\n",
              "    </tr>\n",
              "    <tr>\n",
              "      <th>CHIAPAS</th>\n",
              "      <td>108</td>\n",
              "    </tr>\n",
              "    <tr>\n",
              "      <th>YUCATAN</th>\n",
              "      <td>99</td>\n",
              "    </tr>\n",
              "    <tr>\n",
              "      <th>SAN LUIS POTOSI</th>\n",
              "      <td>97</td>\n",
              "    </tr>\n",
              "    <tr>\n",
              "      <th>TABASCO</th>\n",
              "      <td>67</td>\n",
              "    </tr>\n",
              "    <tr>\n",
              "      <th>QUINTANA ROO</th>\n",
              "      <td>61</td>\n",
              "    </tr>\n",
              "    <tr>\n",
              "      <th>BAJA CALIFORNIA SUR</th>\n",
              "      <td>39</td>\n",
              "    </tr>\n",
              "    <tr>\n",
              "      <th>CAMPECHE</th>\n",
              "      <td>35</td>\n",
              "    </tr>\n",
              "    <tr>\n",
              "      <th>NO ESPECIFICADO</th>\n",
              "      <td>29</td>\n",
              "    </tr>\n",
              "    <tr>\n",
              "      <th>TLAXCALA</th>\n",
              "      <td>24</td>\n",
              "    </tr>\n",
              "  </tbody>\n",
              "</table>\n",
              "</div>\n",
              "      <button class=\"colab-df-convert\" onclick=\"convertToInteractive('df-8fee4396-4342-41a6-b6bf-9a0098a68151')\"\n",
              "              title=\"Convert this dataframe to an interactive table.\"\n",
              "              style=\"display:none;\">\n",
              "        \n",
              "  <svg xmlns=\"http://www.w3.org/2000/svg\" height=\"24px\"viewBox=\"0 0 24 24\"\n",
              "       width=\"24px\">\n",
              "    <path d=\"M0 0h24v24H0V0z\" fill=\"none\"/>\n",
              "    <path d=\"M18.56 5.44l.94 2.06.94-2.06 2.06-.94-2.06-.94-.94-2.06-.94 2.06-2.06.94zm-11 1L8.5 8.5l.94-2.06 2.06-.94-2.06-.94L8.5 2.5l-.94 2.06-2.06.94zm10 10l.94 2.06.94-2.06 2.06-.94-2.06-.94-.94-2.06-.94 2.06-2.06.94z\"/><path d=\"M17.41 7.96l-1.37-1.37c-.4-.4-.92-.59-1.43-.59-.52 0-1.04.2-1.43.59L10.3 9.45l-7.72 7.72c-.78.78-.78 2.05 0 2.83L4 21.41c.39.39.9.59 1.41.59.51 0 1.02-.2 1.41-.59l7.78-7.78 2.81-2.81c.8-.78.8-2.07 0-2.86zM5.41 20L4 18.59l7.72-7.72 1.47 1.35L5.41 20z\"/>\n",
              "  </svg>\n",
              "      </button>\n",
              "      \n",
              "  <style>\n",
              "    .colab-df-container {\n",
              "      display:flex;\n",
              "      flex-wrap:wrap;\n",
              "      gap: 12px;\n",
              "    }\n",
              "\n",
              "    .colab-df-convert {\n",
              "      background-color: #E8F0FE;\n",
              "      border: none;\n",
              "      border-radius: 50%;\n",
              "      cursor: pointer;\n",
              "      display: none;\n",
              "      fill: #1967D2;\n",
              "      height: 32px;\n",
              "      padding: 0 0 0 0;\n",
              "      width: 32px;\n",
              "    }\n",
              "\n",
              "    .colab-df-convert:hover {\n",
              "      background-color: #E2EBFA;\n",
              "      box-shadow: 0px 1px 2px rgba(60, 64, 67, 0.3), 0px 1px 3px 1px rgba(60, 64, 67, 0.15);\n",
              "      fill: #174EA6;\n",
              "    }\n",
              "\n",
              "    [theme=dark] .colab-df-convert {\n",
              "      background-color: #3B4455;\n",
              "      fill: #D2E3FC;\n",
              "    }\n",
              "\n",
              "    [theme=dark] .colab-df-convert:hover {\n",
              "      background-color: #434B5C;\n",
              "      box-shadow: 0px 1px 3px 1px rgba(0, 0, 0, 0.15);\n",
              "      filter: drop-shadow(0px 1px 2px rgba(0, 0, 0, 0.3));\n",
              "      fill: #FFFFFF;\n",
              "    }\n",
              "  </style>\n",
              "\n",
              "      <script>\n",
              "        const buttonEl =\n",
              "          document.querySelector('#df-8fee4396-4342-41a6-b6bf-9a0098a68151 button.colab-df-convert');\n",
              "        buttonEl.style.display =\n",
              "          google.colab.kernel.accessAllowed ? 'block' : 'none';\n",
              "\n",
              "        async function convertToInteractive(key) {\n",
              "          const element = document.querySelector('#df-8fee4396-4342-41a6-b6bf-9a0098a68151');\n",
              "          const dataTable =\n",
              "            await google.colab.kernel.invokeFunction('convertToInteractive',\n",
              "                                                     [key], {});\n",
              "          if (!dataTable) return;\n",
              "\n",
              "          const docLinkHtml = 'Like what you see? Visit the ' +\n",
              "            '<a target=\"_blank\" href=https://colab.research.google.com/notebooks/data_table.ipynb>data table notebook</a>'\n",
              "            + ' to learn more about interactive tables.';\n",
              "          element.innerHTML = '';\n",
              "          dataTable['output_type'] = 'display_data';\n",
              "          await google.colab.output.renderOutput(dataTable, element);\n",
              "          const docLink = document.createElement('div');\n",
              "          docLink.innerHTML = docLinkHtml;\n",
              "          element.appendChild(docLink);\n",
              "        }\n",
              "      </script>\n",
              "    </div>\n",
              "  </div>\n",
              "  "
            ]
          },
          "metadata": {},
          "execution_count": 46
        }
      ]
    },
    {
      "cell_type": "markdown",
      "source": [
        "**Queremos saber si ¿en México se extravian solo mexicanos?**"
      ],
      "metadata": {
        "id": "D_OyVqytPwLy"
      },
      "id": "D_OyVqytPwLy"
    },
    {
      "cell_type": "code",
      "source": [
        "df_nac=pd.DataFrame(pd.crosstab(df_2['nacionalidad'],  columns='recuento', colnames=['nacionalidad']))\n",
        "#df_nac\n",
        "\n",
        "print(f'En Méxio estan perdidas personas de {len(df_nac.index)} nacionalidades, dstribuidos de la siguiente manera: \\n')\n",
        "df_nac.sort_values('recuento', ascending=False, inplace=True)\n",
        "df_nac\n",
        "#df3=df_nac.merge(df_nac,left_on=f, right_on= how='left')"
      ],
      "metadata": {
        "id": "UwSmWAHZQHgA",
        "outputId": "6d032017-102b-480a-b6a4-9404dd118f52",
        "colab": {
          "base_uri": "https://localhost:8080/",
          "height": 932
        }
      },
      "id": "UwSmWAHZQHgA",
      "execution_count": 96,
      "outputs": [
        {
          "output_type": "stream",
          "name": "stdout",
          "text": [
            "En Méxio estan perdidas personas de 26 nacionalidades, dstribuidos de la siguiente manera: \n",
            "\n"
          ]
        },
        {
          "output_type": "execute_result",
          "data": {
            "text/plain": [
              "nacionalidad     recuento\n",
              "nacionalidad             \n",
              "MEXICANA            34016\n",
              "NO ESPECIFICADO      2040\n",
              "ESTADOUNIDENSE        124\n",
              "HONDUREÑA              24\n",
              "GUATEMALTECO           12\n",
              "COLOMBIANA              9\n",
              "SALVADOREÑA             8\n",
              "VENEZOLANA              4\n",
              "ITALIANA                3\n",
              "ESPAÑOLA                3\n",
              "CUBANA                  3\n",
              "CANADIENSE              3\n",
              "PERUANA                 2\n",
              "HAITIANA                2\n",
              "NICARAGUENSE            1\n",
              "BRASILEÑA               1\n",
              "PARAGUAYA               1\n",
              "PANAMEÑA                1\n",
              "DOMINICANA              1\n",
              "CHINA                   1\n",
              "ERITREA                 1\n",
              "COSTARICENSE            1\n",
              "HOLANDESA               1\n",
              "ARGENTINA               1\n",
              "FRANCESA                1\n",
              "ALEMANA                 1"
            ],
            "text/html": [
              "\n",
              "  <div id=\"df-2bb965ae-68bd-46f7-ad3e-693dcd9b8915\">\n",
              "    <div class=\"colab-df-container\">\n",
              "      <div>\n",
              "<style scoped>\n",
              "    .dataframe tbody tr th:only-of-type {\n",
              "        vertical-align: middle;\n",
              "    }\n",
              "\n",
              "    .dataframe tbody tr th {\n",
              "        vertical-align: top;\n",
              "    }\n",
              "\n",
              "    .dataframe thead th {\n",
              "        text-align: right;\n",
              "    }\n",
              "</style>\n",
              "<table border=\"1\" class=\"dataframe\">\n",
              "  <thead>\n",
              "    <tr style=\"text-align: right;\">\n",
              "      <th>nacionalidad</th>\n",
              "      <th>recuento</th>\n",
              "    </tr>\n",
              "    <tr>\n",
              "      <th>nacionalidad</th>\n",
              "      <th></th>\n",
              "    </tr>\n",
              "  </thead>\n",
              "  <tbody>\n",
              "    <tr>\n",
              "      <th>MEXICANA</th>\n",
              "      <td>34016</td>\n",
              "    </tr>\n",
              "    <tr>\n",
              "      <th>NO ESPECIFICADO</th>\n",
              "      <td>2040</td>\n",
              "    </tr>\n",
              "    <tr>\n",
              "      <th>ESTADOUNIDENSE</th>\n",
              "      <td>124</td>\n",
              "    </tr>\n",
              "    <tr>\n",
              "      <th>HONDUREÑA</th>\n",
              "      <td>24</td>\n",
              "    </tr>\n",
              "    <tr>\n",
              "      <th>GUATEMALTECO</th>\n",
              "      <td>12</td>\n",
              "    </tr>\n",
              "    <tr>\n",
              "      <th>COLOMBIANA</th>\n",
              "      <td>9</td>\n",
              "    </tr>\n",
              "    <tr>\n",
              "      <th>SALVADOREÑA</th>\n",
              "      <td>8</td>\n",
              "    </tr>\n",
              "    <tr>\n",
              "      <th>VENEZOLANA</th>\n",
              "      <td>4</td>\n",
              "    </tr>\n",
              "    <tr>\n",
              "      <th>ITALIANA</th>\n",
              "      <td>3</td>\n",
              "    </tr>\n",
              "    <tr>\n",
              "      <th>ESPAÑOLA</th>\n",
              "      <td>3</td>\n",
              "    </tr>\n",
              "    <tr>\n",
              "      <th>CUBANA</th>\n",
              "      <td>3</td>\n",
              "    </tr>\n",
              "    <tr>\n",
              "      <th>CANADIENSE</th>\n",
              "      <td>3</td>\n",
              "    </tr>\n",
              "    <tr>\n",
              "      <th>PERUANA</th>\n",
              "      <td>2</td>\n",
              "    </tr>\n",
              "    <tr>\n",
              "      <th>HAITIANA</th>\n",
              "      <td>2</td>\n",
              "    </tr>\n",
              "    <tr>\n",
              "      <th>NICARAGUENSE</th>\n",
              "      <td>1</td>\n",
              "    </tr>\n",
              "    <tr>\n",
              "      <th>BRASILEÑA</th>\n",
              "      <td>1</td>\n",
              "    </tr>\n",
              "    <tr>\n",
              "      <th>PARAGUAYA</th>\n",
              "      <td>1</td>\n",
              "    </tr>\n",
              "    <tr>\n",
              "      <th>PANAMEÑA</th>\n",
              "      <td>1</td>\n",
              "    </tr>\n",
              "    <tr>\n",
              "      <th>DOMINICANA</th>\n",
              "      <td>1</td>\n",
              "    </tr>\n",
              "    <tr>\n",
              "      <th>CHINA</th>\n",
              "      <td>1</td>\n",
              "    </tr>\n",
              "    <tr>\n",
              "      <th>ERITREA</th>\n",
              "      <td>1</td>\n",
              "    </tr>\n",
              "    <tr>\n",
              "      <th>COSTARICENSE</th>\n",
              "      <td>1</td>\n",
              "    </tr>\n",
              "    <tr>\n",
              "      <th>HOLANDESA</th>\n",
              "      <td>1</td>\n",
              "    </tr>\n",
              "    <tr>\n",
              "      <th>ARGENTINA</th>\n",
              "      <td>1</td>\n",
              "    </tr>\n",
              "    <tr>\n",
              "      <th>FRANCESA</th>\n",
              "      <td>1</td>\n",
              "    </tr>\n",
              "    <tr>\n",
              "      <th>ALEMANA</th>\n",
              "      <td>1</td>\n",
              "    </tr>\n",
              "  </tbody>\n",
              "</table>\n",
              "</div>\n",
              "      <button class=\"colab-df-convert\" onclick=\"convertToInteractive('df-2bb965ae-68bd-46f7-ad3e-693dcd9b8915')\"\n",
              "              title=\"Convert this dataframe to an interactive table.\"\n",
              "              style=\"display:none;\">\n",
              "        \n",
              "  <svg xmlns=\"http://www.w3.org/2000/svg\" height=\"24px\"viewBox=\"0 0 24 24\"\n",
              "       width=\"24px\">\n",
              "    <path d=\"M0 0h24v24H0V0z\" fill=\"none\"/>\n",
              "    <path d=\"M18.56 5.44l.94 2.06.94-2.06 2.06-.94-2.06-.94-.94-2.06-.94 2.06-2.06.94zm-11 1L8.5 8.5l.94-2.06 2.06-.94-2.06-.94L8.5 2.5l-.94 2.06-2.06.94zm10 10l.94 2.06.94-2.06 2.06-.94-2.06-.94-.94-2.06-.94 2.06-2.06.94z\"/><path d=\"M17.41 7.96l-1.37-1.37c-.4-.4-.92-.59-1.43-.59-.52 0-1.04.2-1.43.59L10.3 9.45l-7.72 7.72c-.78.78-.78 2.05 0 2.83L4 21.41c.39.39.9.59 1.41.59.51 0 1.02-.2 1.41-.59l7.78-7.78 2.81-2.81c.8-.78.8-2.07 0-2.86zM5.41 20L4 18.59l7.72-7.72 1.47 1.35L5.41 20z\"/>\n",
              "  </svg>\n",
              "      </button>\n",
              "      \n",
              "  <style>\n",
              "    .colab-df-container {\n",
              "      display:flex;\n",
              "      flex-wrap:wrap;\n",
              "      gap: 12px;\n",
              "    }\n",
              "\n",
              "    .colab-df-convert {\n",
              "      background-color: #E8F0FE;\n",
              "      border: none;\n",
              "      border-radius: 50%;\n",
              "      cursor: pointer;\n",
              "      display: none;\n",
              "      fill: #1967D2;\n",
              "      height: 32px;\n",
              "      padding: 0 0 0 0;\n",
              "      width: 32px;\n",
              "    }\n",
              "\n",
              "    .colab-df-convert:hover {\n",
              "      background-color: #E2EBFA;\n",
              "      box-shadow: 0px 1px 2px rgba(60, 64, 67, 0.3), 0px 1px 3px 1px rgba(60, 64, 67, 0.15);\n",
              "      fill: #174EA6;\n",
              "    }\n",
              "\n",
              "    [theme=dark] .colab-df-convert {\n",
              "      background-color: #3B4455;\n",
              "      fill: #D2E3FC;\n",
              "    }\n",
              "\n",
              "    [theme=dark] .colab-df-convert:hover {\n",
              "      background-color: #434B5C;\n",
              "      box-shadow: 0px 1px 3px 1px rgba(0, 0, 0, 0.15);\n",
              "      filter: drop-shadow(0px 1px 2px rgba(0, 0, 0, 0.3));\n",
              "      fill: #FFFFFF;\n",
              "    }\n",
              "  </style>\n",
              "\n",
              "      <script>\n",
              "        const buttonEl =\n",
              "          document.querySelector('#df-2bb965ae-68bd-46f7-ad3e-693dcd9b8915 button.colab-df-convert');\n",
              "        buttonEl.style.display =\n",
              "          google.colab.kernel.accessAllowed ? 'block' : 'none';\n",
              "\n",
              "        async function convertToInteractive(key) {\n",
              "          const element = document.querySelector('#df-2bb965ae-68bd-46f7-ad3e-693dcd9b8915');\n",
              "          const dataTable =\n",
              "            await google.colab.kernel.invokeFunction('convertToInteractive',\n",
              "                                                     [key], {});\n",
              "          if (!dataTable) return;\n",
              "\n",
              "          const docLinkHtml = 'Like what you see? Visit the ' +\n",
              "            '<a target=\"_blank\" href=https://colab.research.google.com/notebooks/data_table.ipynb>data table notebook</a>'\n",
              "            + ' to learn more about interactive tables.';\n",
              "          element.innerHTML = '';\n",
              "          dataTable['output_type'] = 'display_data';\n",
              "          await google.colab.output.renderOutput(dataTable, element);\n",
              "          const docLink = document.createElement('div');\n",
              "          docLink.innerHTML = docLinkHtml;\n",
              "          element.appendChild(docLink);\n",
              "        }\n",
              "      </script>\n",
              "    </div>\n",
              "  </div>\n",
              "  "
            ]
          },
          "metadata": {},
          "execution_count": 96
        }
      ]
    }
  ],
  "metadata": {
    "kernelspec": {
      "display_name": "Python 3 (ipykernel)",
      "language": "python",
      "name": "python3"
    },
    "language_info": {
      "codemirror_mode": {
        "name": "ipython",
        "version": 3
      },
      "file_extension": ".py",
      "mimetype": "text/x-python",
      "name": "python",
      "nbconvert_exporter": "python",
      "pygments_lexer": "ipython3",
      "version": "3.9.12"
    },
    "colab": {
      "provenance": [],
      "collapsed_sections": [
        "7f418359",
        "33fe72ef"
      ],
      "include_colab_link": true
    }
  },
  "nbformat": 4,
  "nbformat_minor": 5
}